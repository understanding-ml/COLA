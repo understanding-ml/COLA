{
 "cells": [
  {
   "cell_type": "markdown",
   "metadata": {},
   "source": [
    "> ************************\n",
    ">\n",
    ">  有个新的想法\n",
    ">\n",
    ">  在cola算法中加上一个步骤：\n",
    ">\n",
    ">  可以修改precision and recall\n",
    ">\n",
    "> ************************"
   ]
  },
  {
   "cell_type": "markdown",
   "metadata": {},
   "source": [
    "## Test:"
   ]
  },
  {
   "cell_type": "code",
   "execution_count": 24,
   "metadata": {},
   "outputs": [
    {
     "name": "stderr",
     "output_type": "stream",
     "text": [
      "[autoreload of xai_cola.ml_model.model failed: Traceback (most recent call last):\n",
      "  File \"c:\\Users\\ZhuLi\\anaconda3\\envs\\COLA\\lib\\site-packages\\IPython\\extensions\\autoreload.py\", line 276, in check\n",
      "    superreload(m, reload, self.old_objects)\n",
      "  File \"c:\\Users\\ZhuLi\\anaconda3\\envs\\COLA\\lib\\site-packages\\IPython\\extensions\\autoreload.py\", line 500, in superreload\n",
      "    update_generic(old_obj, new_obj)\n",
      "  File \"c:\\Users\\ZhuLi\\anaconda3\\envs\\COLA\\lib\\site-packages\\IPython\\extensions\\autoreload.py\", line 397, in update_generic\n",
      "    update(a, b)\n",
      "  File \"c:\\Users\\ZhuLi\\anaconda3\\envs\\COLA\\lib\\site-packages\\IPython\\extensions\\autoreload.py\", line 349, in update_class\n",
      "    if update_generic(old_obj, new_obj):\n",
      "  File \"c:\\Users\\ZhuLi\\anaconda3\\envs\\COLA\\lib\\site-packages\\IPython\\extensions\\autoreload.py\", line 397, in update_generic\n",
      "    update(a, b)\n",
      "  File \"c:\\Users\\ZhuLi\\anaconda3\\envs\\COLA\\lib\\site-packages\\IPython\\extensions\\autoreload.py\", line 309, in update_function\n",
      "    setattr(old, name, getattr(new, name))\n",
      "ValueError: __init__() requires a code object with 1 free vars, not 0\n",
      "]\n"
     ]
    }
   ],
   "source": [
    "import dataset\n",
    "from xai_cola import data,ml_model,counterfactual_explainer,cola,counterfactual_refiner\n",
    "from xai_cola.cola_explainer import COunterfactualwithLimitedActions"
   ]
  },
  {
   "cell_type": "code",
   "execution_count": 25,
   "metadata": {},
   "outputs": [],
   "source": [
    "%reload_ext autoreload\n",
    "%autoreload 2"
   ]
  },
  {
   "cell_type": "code",
   "execution_count": 26,
   "metadata": {},
   "outputs": [
    {
     "data": {
      "text/html": [
       "<div>\n",
       "<style scoped>\n",
       "    .dataframe tbody tr th:only-of-type {\n",
       "        vertical-align: middle;\n",
       "    }\n",
       "\n",
       "    .dataframe tbody tr th {\n",
       "        vertical-align: top;\n",
       "    }\n",
       "\n",
       "    .dataframe thead th {\n",
       "        text-align: right;\n",
       "    }\n",
       "</style>\n",
       "<table border=\"1\" class=\"dataframe\">\n",
       "  <thead>\n",
       "    <tr style=\"text-align: right;\">\n",
       "      <th></th>\n",
       "      <th>Age</th>\n",
       "      <th>Sex</th>\n",
       "      <th>Job</th>\n",
       "      <th>Housing</th>\n",
       "      <th>Saving accounts</th>\n",
       "      <th>Checking account</th>\n",
       "      <th>Credit amount</th>\n",
       "      <th>Duration</th>\n",
       "      <th>Purpose</th>\n",
       "      <th>Risk</th>\n",
       "    </tr>\n",
       "  </thead>\n",
       "  <tbody>\n",
       "    <tr>\n",
       "      <th>0</th>\n",
       "      <td>67</td>\n",
       "      <td>1</td>\n",
       "      <td>2</td>\n",
       "      <td>1</td>\n",
       "      <td>0</td>\n",
       "      <td>1</td>\n",
       "      <td>1169</td>\n",
       "      <td>6</td>\n",
       "      <td>5</td>\n",
       "      <td>0</td>\n",
       "    </tr>\n",
       "    <tr>\n",
       "      <th>1</th>\n",
       "      <td>22</td>\n",
       "      <td>0</td>\n",
       "      <td>2</td>\n",
       "      <td>1</td>\n",
       "      <td>1</td>\n",
       "      <td>2</td>\n",
       "      <td>5951</td>\n",
       "      <td>48</td>\n",
       "      <td>5</td>\n",
       "      <td>1</td>\n",
       "    </tr>\n",
       "  </tbody>\n",
       "</table>\n",
       "</div>"
      ],
      "text/plain": [
       "   Age  Sex  Job  Housing  Saving accounts  Checking account  Credit amount  \\\n",
       "0   67    1    2        1                0                 1           1169   \n",
       "1   22    0    2        1                1                 2           5951   \n",
       "\n",
       "   Duration  Purpose  Risk  \n",
       "0         6        5     0  \n",
       "1        48        5     1  "
      ]
     },
     "execution_count": 26,
     "metadata": {},
     "output_type": "execute_result"
    }
   ],
   "source": [
    "dataset1 =dataset.GermanCreditDataset()\n",
    "df1 = dataset1.get_dataframe()\n",
    "df1.head(2)"
   ]
  },
  {
   "cell_type": "code",
   "execution_count": 27,
   "metadata": {},
   "outputs": [],
   "source": [
    "# dataset2 = dataset.HotelBookingsDataset()\n",
    "# df2 = dataset2.get_dataframe()\n",
    "# df2.head(2)"
   ]
  },
  {
   "cell_type": "markdown",
   "metadata": {},
   "source": [
    "### Configuration"
   ]
  },
  {
   "cell_type": "code",
   "execution_count": 28,
   "metadata": {},
   "outputs": [],
   "source": [
    "data_without_target = df1.drop(columns=['Risk']).copy()\n",
    "data_without_target = data_without_target.head(5)\n"
   ]
  },
  {
   "cell_type": "code",
   "execution_count": 29,
   "metadata": {},
   "outputs": [
    {
     "data": {
      "text/plain": [
       "Index(['Age', 'Sex', 'Job', 'Housing', 'Saving accounts', 'Checking account',\n",
       "       'Credit amount', 'Duration', 'Purpose'],\n",
       "      dtype='object')"
      ]
     },
     "execution_count": 29,
     "metadata": {},
     "output_type": "execute_result"
    }
   ],
   "source": [
    "feature_names = data_without_target.columns\n",
    "feature_names"
   ]
  },
  {
   "cell_type": "code",
   "execution_count": 30,
   "metadata": {},
   "outputs": [],
   "source": [
    "data1 = data.PandasData(data=df1, target_name=\"Risk\")"
   ]
  },
  {
   "cell_type": "code",
   "execution_count": 31,
   "metadata": {},
   "outputs": [],
   "source": [
    "data2 = data.PandasData(data=data_without_target, target_name=\"Risk\")"
   ]
  },
  {
   "cell_type": "code",
   "execution_count": 32,
   "metadata": {},
   "outputs": [],
   "source": [
    "import joblib\n",
    "import pickle"
   ]
  },
  {
   "cell_type": "code",
   "execution_count": 33,
   "metadata": {},
   "outputs": [
    {
     "name": "stdout",
     "output_type": "stream",
     "text": [
      "----LGBMClassifier.pkl model has been loaded----\n"
     ]
    }
   ],
   "source": [
    "lgbmcClassifier = joblib.load('LGBMClassifier.pkl')\n",
    "print(f'----LGBMClassifier.pkl model has been loaded----')"
   ]
  },
  {
   "cell_type": "code",
   "execution_count": 11,
   "metadata": {},
   "outputs": [
    {
     "name": "stdout",
     "output_type": "stream",
     "text": [
      "---scaledLGBMClassifier.pkl has already been loaded---\n"
     ]
    }
   ],
   "source": [
    "scaled_lgbmcClassifier = joblib.load('scaled_LGBMClassifier.pkl')\n",
    "print(f'---scaledLGBMClassifier.pkl has already been loaded---')"
   ]
  },
  {
   "cell_type": "code",
   "execution_count": 12,
   "metadata": {},
   "outputs": [
    {
     "name": "stdout",
     "output_type": "stream",
     "text": [
      "---scaled_PyTorchDNN.pkl has already been loaded---\n"
     ]
    }
   ],
   "source": [
    "scaled_PyTorchDNN = joblib.load('scaled_PyTorchDNN.pkl')\n",
    "print(f'---scaled_PyTorchDNN.pkl has already been loaded---')"
   ]
  },
  {
   "cell_type": "code",
   "execution_count": 13,
   "metadata": {},
   "outputs": [
    {
     "data": {
      "text/plain": [
       "'PyTorchDNN'"
      ]
     },
     "execution_count": 13,
     "metadata": {},
     "output_type": "execute_result"
    }
   ],
   "source": [
    "scaled_PyTorchDNN.classifier.__class__.__name__ "
   ]
  },
  {
   "cell_type": "code",
   "execution_count": 14,
   "metadata": {},
   "outputs": [
    {
     "name": "stdout",
     "output_type": "stream",
     "text": [
      "--- scaler has already been loaded ---\n"
     ]
    }
   ],
   "source": [
    "# 从文件加载Scaler\n",
    "with open('scaler.pkl', 'rb') as f:\n",
    "    loaded_scaler = pickle.load(f)\n",
    "print(f'--- scaler has already been loaded ---')"
   ]
  },
  {
   "cell_type": "code",
   "execution_count": 15,
   "metadata": {},
   "outputs": [
    {
     "name": "stderr",
     "output_type": "stream",
     "text": [
      "np.find_common_type is deprecated.  Please use `np.result_type` or `np.promote_types`.\n",
      "See https://numpy.org/devdocs/release/1.25.0-notes.html and the docs for more information.  (Deprecated NumPy 1.25)\n",
      "np.find_common_type is deprecated.  Please use `np.result_type` or `np.promote_types`.\n",
      "See https://numpy.org/devdocs/release/1.25.0-notes.html and the docs for more information.  (Deprecated NumPy 1.25)\n",
      "np.find_common_type is deprecated.  Please use `np.result_type` or `np.promote_types`.\n",
      "See https://numpy.org/devdocs/release/1.25.0-notes.html and the docs for more information.  (Deprecated NumPy 1.25)\n"
     ]
    }
   ],
   "source": [
    "scaled_data = loaded_scaler.fit_transform(data_without_target)"
   ]
  },
  {
   "cell_type": "code",
   "execution_count": 16,
   "metadata": {},
   "outputs": [
    {
     "data": {
      "text/plain": [
       "(1000, 9)"
      ]
     },
     "execution_count": 16,
     "metadata": {},
     "output_type": "execute_result"
    }
   ],
   "source": [
    "scaled_data.shape"
   ]
  },
  {
   "cell_type": "code",
   "execution_count": 17,
   "metadata": {},
   "outputs": [
    {
     "data": {
      "text/plain": [
       "array([[ 2.76645648,  0.67028006,  0.14694918, ..., -0.74513141,\n",
       "        -1.23647786,  1.07326286],\n",
       "       [-1.19140394, -1.49191369,  0.14694918, ...,  0.94981679,\n",
       "         2.24819436,  1.07326286],\n",
       "       [ 1.18331231,  0.67028006, -1.38377145, ..., -0.41656241,\n",
       "        -0.73866754,  0.06170503],\n",
       "       ...,\n",
       "       [ 0.21583532,  0.67028006,  0.14694918, ..., -0.87450324,\n",
       "        -0.73866754,  1.07326286],\n",
       "       [-1.10345149,  0.67028006,  0.14694918, ..., -0.50552769,\n",
       "         1.9992892 ,  1.07326286],\n",
       "       [-0.75164167,  0.67028006,  0.14694918, ...,  0.46245715,\n",
       "         1.9992892 , -0.9498528 ]])"
      ]
     },
     "execution_count": 17,
     "metadata": {},
     "output_type": "execute_result"
    }
   ],
   "source": [
    "scaled_data"
   ]
  },
  {
   "cell_type": "code",
   "execution_count": 18,
   "metadata": {},
   "outputs": [],
   "source": [
    "data_alibi = data.NumpyData(\n",
    "    data=scaled_data, \n",
    "    target_name='Risk', \n",
    "    feature_names=feature_names\n",
    "    )"
   ]
  },
  {
   "cell_type": "code",
   "execution_count": 19,
   "metadata": {},
   "outputs": [],
   "source": [
    "data_alibi.get_dataframe()"
   ]
  },
  {
   "cell_type": "code",
   "execution_count": 41,
   "metadata": {},
   "outputs": [],
   "source": [
    "ml_model1 = ml_model.Model(model=lgbmcClassifier, backend='sklearn')  "
   ]
  },
  {
   "cell_type": "code",
   "execution_count": 21,
   "metadata": {},
   "outputs": [],
   "source": [
    "scaled_ml_model = ml_model.Model(model = scaled_lgbmcClassifier, backend = 'sklearn')"
   ]
  },
  {
   "cell_type": "code",
   "execution_count": 22,
   "metadata": {},
   "outputs": [],
   "source": [
    "scaled_PyT_DNN = ml_model.Model(model = scaled_PyTorchDNN, backend= 'PYT')"
   ]
  },
  {
   "cell_type": "code",
   "execution_count": 23,
   "metadata": {},
   "outputs": [
    {
     "data": {
      "text/plain": [
       "'PyTorchDNN'"
      ]
     },
     "execution_count": 23,
     "metadata": {},
     "output_type": "execute_result"
    }
   ],
   "source": [
    "scaled_PyT_DNN.model.classifier.__class__.__name__"
   ]
  },
  {
   "cell_type": "markdown",
   "metadata": {},
   "source": [
    "### DiCE"
   ]
  },
  {
   "cell_type": "code",
   "execution_count": 42,
   "metadata": {},
   "outputs": [],
   "source": [
    "counterfactual_explainer1 = counterfactual_explainer.DiCE(ml_model=ml_model1)  #will add more input params according to the dice_ml algorithm "
   ]
  },
  {
   "cell_type": "code",
   "execution_count": 43,
   "metadata": {},
   "outputs": [
    {
     "name": "stderr",
     "output_type": "stream",
     "text": [
      "np.find_common_type is deprecated.  Please use `np.result_type` or `np.promote_types`.\n",
      "See https://numpy.org/devdocs/release/1.25.0-notes.html and the docs for more information.  (Deprecated NumPy 1.25)\n",
      "  0%|          | 0/5 [00:00<?, ?it/s]np.find_common_type is deprecated.  Please use `np.result_type` or `np.promote_types`.\n",
      "See https://numpy.org/devdocs/release/1.25.0-notes.html and the docs for more information.  (Deprecated NumPy 1.25)\n",
      "np.find_common_type is deprecated.  Please use `np.result_type` or `np.promote_types`.\n",
      "See https://numpy.org/devdocs/release/1.25.0-notes.html and the docs for more information.  (Deprecated NumPy 1.25)\n",
      " 20%|██        | 1/5 [00:00<00:00,  8.63it/s]np.find_common_type is deprecated.  Please use `np.result_type` or `np.promote_types`.\n",
      "See https://numpy.org/devdocs/release/1.25.0-notes.html and the docs for more information.  (Deprecated NumPy 1.25)\n",
      "np.find_common_type is deprecated.  Please use `np.result_type` or `np.promote_types`.\n",
      "See https://numpy.org/devdocs/release/1.25.0-notes.html and the docs for more information.  (Deprecated NumPy 1.25)\n",
      "np.find_common_type is deprecated.  Please use `np.result_type` or `np.promote_types`.\n",
      "See https://numpy.org/devdocs/release/1.25.0-notes.html and the docs for more information.  (Deprecated NumPy 1.25)\n",
      "np.find_common_type is deprecated.  Please use `np.result_type` or `np.promote_types`.\n",
      "See https://numpy.org/devdocs/release/1.25.0-notes.html and the docs for more information.  (Deprecated NumPy 1.25)\n",
      " 60%|██████    | 3/5 [00:00<00:00, 13.30it/s]np.find_common_type is deprecated.  Please use `np.result_type` or `np.promote_types`.\n",
      "See https://numpy.org/devdocs/release/1.25.0-notes.html and the docs for more information.  (Deprecated NumPy 1.25)\n",
      "np.find_common_type is deprecated.  Please use `np.result_type` or `np.promote_types`.\n",
      "See https://numpy.org/devdocs/release/1.25.0-notes.html and the docs for more information.  (Deprecated NumPy 1.25)\n",
      "np.find_common_type is deprecated.  Please use `np.result_type` or `np.promote_types`.\n",
      "See https://numpy.org/devdocs/release/1.25.0-notes.html and the docs for more information.  (Deprecated NumPy 1.25)\n",
      "np.find_common_type is deprecated.  Please use `np.result_type` or `np.promote_types`.\n",
      "See https://numpy.org/devdocs/release/1.25.0-notes.html and the docs for more information.  (Deprecated NumPy 1.25)\n",
      "100%|██████████| 5/5 [00:00<00:00, 12.27it/s]\n",
      "np.find_common_type is deprecated.  Please use `np.result_type` or `np.promote_types`.\n",
      "See https://numpy.org/devdocs/release/1.25.0-notes.html and the docs for more information.  (Deprecated NumPy 1.25)\n",
      "np.find_common_type is deprecated.  Please use `np.result_type` or `np.promote_types`.\n",
      "See https://numpy.org/devdocs/release/1.25.0-notes.html and the docs for more information.  (Deprecated NumPy 1.25)\n"
     ]
    }
   ],
   "source": [
    "a,b = counterfactual_explainer1.generate_counterfactuals(data=data2)"
   ]
  },
  {
   "cell_type": "code",
   "execution_count": 16,
   "metadata": {},
   "outputs": [
    {
     "data": {
      "text/plain": [
       "array([[  67,    1,    2,    1,    0,    1, 1169,    6,    5],\n",
       "       [  22,    0,    2,    1,    1,    2, 5951,   48,    5],\n",
       "       [  49,    1,    1,    1,    1,    0, 2096,   12,    3],\n",
       "       [  45,    1,    2,    0,    1,    1, 7882,   42,    4],\n",
       "       [  53,    1,    2,    0,    1,    1, 4870,   24,    1]],\n",
       "      dtype=int64)"
      ]
     },
     "execution_count": 16,
     "metadata": {},
     "output_type": "execute_result"
    }
   ],
   "source": [
    "a"
   ]
  },
  {
   "cell_type": "code",
   "execution_count": 17,
   "metadata": {},
   "outputs": [
    {
     "data": {
      "text/plain": [
       "array([[  22,    0,    2,    1,    1,    2, 5951,   20,    2],\n",
       "       [  39,    1,    1,    0,    1,    1, 4870,   24,    1],\n",
       "       [  49,    1,    1,    1,    1,    0, 6537,   12,    3],\n",
       "       [  45,    1,    2,    0,    1,    0, 7013,   42,    4],\n",
       "       [  67,    1,    2,    0,    0,    1, 5319,    6,    5]],\n",
       "      dtype=int64)"
      ]
     },
     "execution_count": 17,
     "metadata": {},
     "output_type": "execute_result"
    }
   ],
   "source": [
    "b"
   ]
  },
  {
   "cell_type": "markdown",
   "metadata": {},
   "source": [
    "### KNN - 1vn counterfactual explanation"
   ]
  },
  {
   "cell_type": "code",
   "execution_count": 15,
   "metadata": {},
   "outputs": [],
   "source": [
    "from xai_cola.counterfactual_explainer import KNN\n",
    "\n",
    "knn = KNN(ml_model=ml_model1)"
   ]
  },
  {
   "cell_type": "code",
   "execution_count": 16,
   "metadata": {},
   "outputs": [
    {
     "name": "stderr",
     "output_type": "stream",
     "text": [
      "np.find_common_type is deprecated.  Please use `np.result_type` or `np.promote_types`.\n",
      "See https://numpy.org/devdocs/release/1.25.0-notes.html and the docs for more information.  (Deprecated NumPy 1.25)\n",
      "np.find_common_type is deprecated.  Please use `np.result_type` or `np.promote_types`.\n",
      "See https://numpy.org/devdocs/release/1.25.0-notes.html and the docs for more information.  (Deprecated NumPy 1.25)\n",
      "np.find_common_type is deprecated.  Please use `np.result_type` or `np.promote_types`.\n",
      "See https://numpy.org/devdocs/release/1.25.0-notes.html and the docs for more information.  (Deprecated NumPy 1.25)\n",
      "X does not have valid feature names, but EfficientQuantileTransformer was fitted with feature names\n",
      "X does not have valid feature names, but EfficientQuantileTransformer was fitted with feature names\n"
     ]
    },
    {
     "name": "stdout",
     "output_type": "stream",
     "text": [
      "estimate:[array([[5.300e+01, 1.000e+00, 2.000e+00, 0.000e+00, 1.000e+00, 1.000e+00,\n",
      "        4.870e+03, 2.400e+01, 1.000e+00],\n",
      "       [2.200e+01, 0.000e+00, 2.000e+00, 1.000e+00, 1.000e+00, 2.000e+00,\n",
      "        5.951e+03, 4.800e+01, 5.000e+00]]), array([[4.500e+01, 1.000e+00, 2.000e+00, 0.000e+00, 1.000e+00, 1.000e+00,\n",
      "        7.882e+03, 4.200e+01, 4.000e+00],\n",
      "       [6.700e+01, 1.000e+00, 2.000e+00, 1.000e+00, 0.000e+00, 1.000e+00,\n",
      "        1.169e+03, 6.000e+00, 5.000e+00]]), array([[5.300e+01, 1.000e+00, 2.000e+00, 0.000e+00, 1.000e+00, 1.000e+00,\n",
      "        4.870e+03, 2.400e+01, 1.000e+00],\n",
      "       [2.200e+01, 0.000e+00, 2.000e+00, 1.000e+00, 1.000e+00, 2.000e+00,\n",
      "        5.951e+03, 4.800e+01, 5.000e+00]]), array([[5.300e+01, 1.000e+00, 2.000e+00, 0.000e+00, 1.000e+00, 1.000e+00,\n",
      "        4.870e+03, 2.400e+01, 1.000e+00],\n",
      "       [2.200e+01, 0.000e+00, 2.000e+00, 1.000e+00, 1.000e+00, 2.000e+00,\n",
      "        5.951e+03, 4.800e+01, 5.000e+00]]), array([[4.500e+01, 1.000e+00, 2.000e+00, 0.000e+00, 1.000e+00, 1.000e+00,\n",
      "        7.882e+03, 4.200e+01, 4.000e+00],\n",
      "       [4.900e+01, 1.000e+00, 1.000e+00, 1.000e+00, 1.000e+00, 0.000e+00,\n",
      "        2.096e+03, 1.200e+01, 3.000e+00]])]\n"
     ]
    },
    {
     "name": "stderr",
     "output_type": "stream",
     "text": [
      "X does not have valid feature names, but EfficientQuantileTransformer was fitted with feature names\n",
      "X does not have valid feature names, but EfficientQuantileTransformer was fitted with feature names\n",
      "np.find_common_type is deprecated.  Please use `np.result_type` or `np.promote_types`.\n",
      "See https://numpy.org/devdocs/release/1.25.0-notes.html and the docs for more information.  (Deprecated NumPy 1.25)\n"
     ]
    }
   ],
   "source": [
    "c,d = knn.generate_counterfactuals(data=data2, n_neighbors=2)"
   ]
  },
  {
   "cell_type": "code",
   "execution_count": 17,
   "metadata": {},
   "outputs": [
    {
     "data": {
      "text/plain": [
       "Index(['Age', 'Sex', 'Job', 'Housing', 'Saving accounts', 'Checking account',\n",
       "       'Credit amount', 'Duration', 'Purpose'],\n",
       "      dtype='object')"
      ]
     },
     "execution_count": 17,
     "metadata": {},
     "output_type": "execute_result"
    }
   ],
   "source": [
    "data2.get_x().columns"
   ]
  },
  {
   "cell_type": "code",
   "execution_count": 22,
   "metadata": {},
   "outputs": [
    {
     "data": {
      "text/plain": [
       "array([1, 0, 0, 0, 1], dtype=int64)"
      ]
     },
     "execution_count": 22,
     "metadata": {},
     "output_type": "execute_result"
    }
   ],
   "source": [
    "ml_model1.predict(c)"
   ]
  },
  {
   "cell_type": "code",
   "execution_count": 18,
   "metadata": {},
   "outputs": [
    {
     "data": {
      "text/plain": [
       "array([[  53,    1,    2,    0,    1,    1, 4870,   24,    1],\n",
       "       [  45,    1,    2,    0,    1,    1, 7882,   42,    4],\n",
       "       [  67,    1,    2,    1,    0,    1, 1169,    6,    5],\n",
       "       [  49,    1,    1,    1,    1,    0, 2096,   12,    3],\n",
       "       [  22,    0,    2,    1,    1,    2, 5951,   48,    5]],\n",
       "      dtype=int64)"
      ]
     },
     "execution_count": 18,
     "metadata": {},
     "output_type": "execute_result"
    }
   ],
   "source": [
    "c"
   ]
  },
  {
   "cell_type": "code",
   "execution_count": 23,
   "metadata": {},
   "outputs": [
    {
     "data": {
      "text/plain": [
       "array([0, 1, 1, 1, 0], dtype=int64)"
      ]
     },
     "execution_count": 23,
     "metadata": {},
     "output_type": "execute_result"
    }
   ],
   "source": [
    "ml_model1.predict(d)"
   ]
  },
  {
   "cell_type": "code",
   "execution_count": 20,
   "metadata": {},
   "outputs": [
    {
     "data": {
      "text/plain": [
       "array([[4.500e+01, 1.000e+00, 2.000e+00, 0.000e+00, 1.000e+00, 1.000e+00,\n",
       "        7.882e+03, 4.200e+01, 4.000e+00],\n",
       "       [5.300e+01, 1.000e+00, 2.000e+00, 0.000e+00, 1.000e+00, 1.000e+00,\n",
       "        4.870e+03, 2.400e+01, 1.000e+00],\n",
       "       [5.300e+01, 1.000e+00, 2.000e+00, 0.000e+00, 1.000e+00, 1.000e+00,\n",
       "        4.870e+03, 2.400e+01, 1.000e+00],\n",
       "       [5.300e+01, 1.000e+00, 2.000e+00, 0.000e+00, 1.000e+00, 1.000e+00,\n",
       "        4.870e+03, 2.400e+01, 1.000e+00],\n",
       "       [6.700e+01, 1.000e+00, 2.000e+00, 1.000e+00, 0.000e+00, 1.000e+00,\n",
       "        1.169e+03, 6.000e+00, 5.000e+00]])"
      ]
     },
     "execution_count": 20,
     "metadata": {},
     "output_type": "execute_result"
    }
   ],
   "source": [
    "d"
   ]
  },
  {
   "cell_type": "code",
   "execution_count": 76,
   "metadata": {},
   "outputs": [
    {
     "data": {
      "text/plain": [
       "(5, 9)"
      ]
     },
     "execution_count": 76,
     "metadata": {},
     "output_type": "execute_result"
    }
   ],
   "source": [
    "d.shape"
   ]
  },
  {
   "cell_type": "markdown",
   "metadata": {},
   "source": [
    "### ALIBI - 1v1 counterfactual explanation"
   ]
  },
  {
   "cell_type": "code",
   "execution_count": 30,
   "metadata": {},
   "outputs": [],
   "source": [
    "from xai_cola.counterfactual_explainer import AlibiCounterfactualInstances\n",
    "import tensorflow as tf\n",
    "tf.compat.v1.disable_eager_execution()\n"
   ]
  },
  {
   "cell_type": "code",
   "execution_count": 31,
   "metadata": {},
   "outputs": [],
   "source": [
    "data_alibi.get_dataframe()"
   ]
  },
  {
   "cell_type": "code",
   "execution_count": 32,
   "metadata": {},
   "outputs": [
    {
     "name": "stdout",
     "output_type": "stream",
     "text": [
      "Predicted class for factual instance 0: [1]\n",
      "Target class for counterfactual instance 0: 0\n",
      "WARNING:tensorflow:From c:\\Users\\ZhuLi\\anaconda3\\envs\\COLA\\lib\\site-packages\\alibi\\explainers\\counterfactual.py:170: The name tf.keras.backend.get_session is deprecated. Please use tf.compat.v1.keras.backend.get_session instead.\n",
      "\n"
     ]
    },
    {
     "name": "stderr",
     "output_type": "stream",
     "text": [
      "WARNING:tensorflow:From c:\\Users\\ZhuLi\\anaconda3\\envs\\COLA\\lib\\site-packages\\alibi\\explainers\\counterfactual.py:170: The name tf.keras.backend.get_session is deprecated. Please use tf.compat.v1.keras.backend.get_session instead.\n",
      "\n",
      "The Explanation object is not a dictionary anymore and accessing elements should be done via attribute access. Accessing via item will stop working in a future version.\n"
     ]
    },
    {
     "name": "stdout",
     "output_type": "stream",
     "text": [
      "Predicted class for factual instance 1: [1]\n",
      "Target class for counterfactual instance 1: 0\n"
     ]
    },
    {
     "name": "stderr",
     "output_type": "stream",
     "text": [
      "The Explanation object is not a dictionary anymore and accessing elements should be done via attribute access. Accessing via item will stop working in a future version.\n"
     ]
    },
    {
     "name": "stdout",
     "output_type": "stream",
     "text": [
      "Predicted class for factual instance 2: [1]\n",
      "Target class for counterfactual instance 2: 0\n"
     ]
    },
    {
     "name": "stderr",
     "output_type": "stream",
     "text": [
      "The Explanation object is not a dictionary anymore and accessing elements should be done via attribute access. Accessing via item will stop working in a future version.\n"
     ]
    }
   ],
   "source": [
    "alibi = AlibiCounterfactualInstances(\n",
    "    ml_model=scaled_ml_model\n",
    "    )"
   ]
  },
  {
   "cell_type": "code",
   "execution_count": 33,
   "metadata": {},
   "outputs": [
    {
     "name": "stdout",
     "output_type": "stream",
     "text": [
      "alibi.factual: [[-4.87784309e-01 -1.49191369e+00  1.46949180e-01 -1.33710455e-01\n",
      "  -1.96609009e-01  1.04437190e+00 -8.34096700e-01 -9.87572702e-01\n",
      "   5.67483943e-01]\n",
      " [-1.36730885e+00 -1.49191369e+00  1.46949180e-01  1.74953540e+00\n",
      "  -1.96609009e-01 -1.04541732e-03 -4.36765680e-01 -2.40857225e-01\n",
      "   5.67483943e-01]\n",
      " [-5.75736763e-01 -1.49191369e+00 -1.38377145e+00  1.74953540e+00\n",
      "  -1.96609009e-01 -1.04541732e-03 -5.71454161e-01  2.56953092e-01\n",
      "   1.07326286e+00]]\n",
      "alibi.counterfactual: [[-0.4877843  -1.4919137   0.14694919 -0.13371046 -0.196609    1.0443718\n",
      "  -0.84165835 -0.9875727   0.56748396]\n",
      " [-1.3673089  -1.4919137   0.14694919  1.7495354  -0.196609    0.02990204\n",
      "  -0.43893468 -0.24085723  0.56748396]\n",
      " [-0.57573676 -1.4919137  -1.3837714   1.7495354  -0.196609   -0.00688358\n",
      "  -0.5861846   0.2569531   1.0732628 ]]\n"
     ]
    }
   ],
   "source": [
    "print(f'alibi.factual: {alibi.factual}')\n",
    "print(f'alibi.counterfactual: {alibi.counterfactual}')"
   ]
  },
  {
   "cell_type": "code",
   "execution_count": 34,
   "metadata": {},
   "outputs": [],
   "source": [
    "import numpy as np\n",
    "import pandas as pd\n",
    "import alibi\n",
    "x_factual_pandas = data1.get_x()\n",
    "target_name = data1.get_target_name()\n",
    "sample_num = 4\n",
    "\n",
    "def get_factual_indices():\n",
    "    x_factual_ext = x_factual_pandas.copy()\n",
    "    predict = scaled_ml_model.predict(x_factual_pandas)\n",
    "    x_factual_ext[target_name] = predict\n",
    "    sampling_weights = np.exp(x_factual_ext[target_name].values.clip(min=0) * 4)\n",
    "    indices = (x_factual_ext.sample(sample_num, weights=sampling_weights)).index\n",
    "    return indices, x_factual_ext\n"
   ]
  },
  {
   "cell_type": "code",
   "execution_count": 35,
   "metadata": {},
   "outputs": [],
   "source": [
    "# def generate_counterfactuals(self) -> pd.DataFrame:\n",
    "\n",
    "indices, _ = get_factual_indices()\n",
    "x_chosen = x_factual_pandas.loc[indices]\n",
    "\n",
    "# 对每个实例生成反事实\n",
    "counterfactuals = []"
   ]
  },
  {
   "cell_type": "code",
   "execution_count": 36,
   "metadata": {},
   "outputs": [
    {
     "name": "stdout",
     "output_type": "stream",
     "text": [
      "     Age  Sex  Job  Housing  Saving accounts  Checking account  Credit amount  \\\n",
      "996   40    1    3        1                1                 1           3857   \n",
      "430   74    1    1        1                1                 0           3448   \n",
      "629   64    1    1        1                0                 0           3832   \n",
      "804   24    0    0        2                0                 2           7472   \n",
      "\n",
      "     Duration  Purpose  \n",
      "996        30        1  \n",
      "430         5        0  \n",
      "629         9        3  \n",
      "804        12        1  \n",
      "-------------------\n",
      "     Age  Sex  Job  Housing  Saving accounts  Checking account  Credit amount  \\\n",
      "996   40    1    3        1                1                 1           3857   \n",
      "\n",
      "     Duration  Purpose  \n",
      "996        30        1  \n",
      "-------------------\n",
      "[1]\n",
      "-------------------\n"
     ]
    }
   ],
   "source": [
    "# x_factual = x_chosen[i].reshape(1, -1)  # 取出第 i 行数据并重塑为 (1, n) 形状\n",
    "x_factual = x_chosen.iloc[[0]]\n",
    "print(x_chosen)\n",
    "print(\"-------------------\")\n",
    "print(x_factual)\n",
    "print(\"-------------------\")\n",
    "predicted_class = scaled_ml_model.predict(x_factual)\n",
    "print(predicted_class)\n",
    "print(\"-------------------\")\n",
    "# print(f'Predicted class for factual instance {0}: {predicted_class}')"
   ]
  },
  {
   "cell_type": "code",
   "execution_count": 37,
   "metadata": {},
   "outputs": [
    {
     "name": "stdout",
     "output_type": "stream",
     "text": [
      "Target class for counterfactual instance 0: 0\n"
     ]
    }
   ],
   "source": [
    "# 设置目标类，反事实的目标是与原始预测结果相反\n",
    "target_class = 1 if predicted_class == 0 else 0\n",
    "print(f'Target class for counterfactual instance {0}: {target_class}')"
   ]
  },
  {
   "cell_type": "code",
   "execution_count": 38,
   "metadata": {},
   "outputs": [
    {
     "data": {
      "text/plain": [
       "(1, 9)"
      ]
     },
     "execution_count": 38,
     "metadata": {},
     "output_type": "execute_result"
    }
   ],
   "source": [
    "(1,) + x_factual.shape[1:]"
   ]
  },
  {
   "cell_type": "code",
   "execution_count": 39,
   "metadata": {},
   "outputs": [],
   "source": [
    "# 定义反事实解释器\n",
    "# cf = alibi.explainers.Counterfactual(\n",
    "#     predict_fn=ml_model1.predict_proba, \n",
    "#     shape=x_factual.shape, \n",
    "#     distance_fn='l1', \n",
    "#     target_proba=1.0,\n",
    "#     target_class='other', \n",
    "#     max_iter=1000, early_stop=50, lam_init=1e-1,\n",
    "#     max_lam_steps=10, tol=0.05, learning_rate_init=0.1,\n",
    "#     feature_range=(-1e10, 1e10), eps=0.01, init='identity',\n",
    "#     decay=True, write_dir=None, debug=False)\n",
    "explainer =alibi.explainers.Counterfactual(\n",
    "    scaled_ml_model.predict_proba,                              # The model to explain\n",
    "    shape=(1,) + x_factual.shape[1:],     # The shape of the model input\n",
    "    target_proba=0.6,                  # The target class probability\n",
    "    tol=0.7,                         # The tolerance for the loss\n",
    "    # target_class='other',               # The target class to obtain  \n",
    "    target_class = 0,\n",
    "    max_iter=5000,\n",
    "    lam_init=1e-4,\n",
    "    max_lam_steps=40,  # 增加 lambda 调整步数\n",
    ")\n"
   ]
  },
  {
   "cell_type": "code",
   "execution_count": 40,
   "metadata": {},
   "outputs": [
    {
     "name": "stderr",
     "output_type": "stream",
     "text": [
      "np.find_common_type is deprecated.  Please use `np.result_type` or `np.promote_types`.\n",
      "See https://numpy.org/devdocs/release/1.25.0-notes.html and the docs for more information.  (Deprecated NumPy 1.25)\n",
      "np.find_common_type is deprecated.  Please use `np.result_type` or `np.promote_types`.\n",
      "See https://numpy.org/devdocs/release/1.25.0-notes.html and the docs for more information.  (Deprecated NumPy 1.25)\n"
     ]
    }
   ],
   "source": [
    "scaled_x_factual = loaded_scaler.transform(x_factual)"
   ]
  },
  {
   "cell_type": "code",
   "execution_count": 41,
   "metadata": {},
   "outputs": [],
   "source": [
    "# 生成反事实实例\n",
    "explanation = explainer.explain(scaled_x_factual)\n",
    "# counterfactuals.append(explanation.cf)"
   ]
  },
  {
   "cell_type": "code",
   "execution_count": 42,
   "metadata": {},
   "outputs": [
    {
     "data": {
      "text/plain": [
       "array([[ 3.91740230e-01,  6.70280063e-01,  1.67766981e+00,\n",
       "        -1.33710455e-01, -1.96609009e-01, -1.04541732e-03,\n",
       "         2.07612369e-01,  7.54763410e-01, -9.49852804e-01]])"
      ]
     },
     "execution_count": 42,
     "metadata": {},
     "output_type": "execute_result"
    }
   ],
   "source": [
    "scaled_x_factual"
   ]
  },
  {
   "cell_type": "code",
   "execution_count": 43,
   "metadata": {},
   "outputs": [
    {
     "name": "stderr",
     "output_type": "stream",
     "text": [
      "The Explanation object is not a dictionary anymore and accessing elements should be done via attribute access. Accessing via item will stop working in a future version.\n"
     ]
    },
    {
     "data": {
      "text/plain": [
       "{'X': array([[ 0.39174023,  0.67028004,  1.6776698 , -0.13371046, -0.196609  ,\n",
       "         -0.01986519,  0.23911563,  0.7547634 , -0.9498528 ]],\n",
       "       dtype=float32),\n",
       " 'distance': 0.050323035567998886,\n",
       " 'lambda': 9.999999997904524e-05,\n",
       " 'index': 155010,\n",
       " 'class': 0,\n",
       " 'proba': array([[0.74901532, 0.25098468]]),\n",
       " 'loss': 0.02221059725758396}"
      ]
     },
     "execution_count": 43,
     "metadata": {},
     "output_type": "execute_result"
    }
   ],
   "source": [
    "explanation['cf']"
   ]
  },
  {
   "cell_type": "code",
   "execution_count": 44,
   "metadata": {},
   "outputs": [
    {
     "name": "stderr",
     "output_type": "stream",
     "text": [
      "The Explanation object is not a dictionary anymore and accessing elements should be done via attribute access. Accessing via item will stop working in a future version.\n"
     ]
    },
    {
     "data": {
      "text/plain": [
       "array([[4.0000000e+01, 1.0000000e+00, 3.0000000e+00, 1.0000000e+00,\n",
       "        1.0000000e+00, 9.8199785e-01, 3.9458809e+03, 3.0000000e+01,\n",
       "        1.0000000e+00]], dtype=float32)"
      ]
     },
     "execution_count": 44,
     "metadata": {},
     "output_type": "execute_result"
    }
   ],
   "source": [
    "x_counterfactual = loaded_scaler.inverse_transform(explanation['cf']['X'])\n",
    "x_counterfactual"
   ]
  },
  {
   "cell_type": "code",
   "execution_count": 45,
   "metadata": {},
   "outputs": [
    {
     "data": {
      "text/html": [
       "<div>\n",
       "<style scoped>\n",
       "    .dataframe tbody tr th:only-of-type {\n",
       "        vertical-align: middle;\n",
       "    }\n",
       "\n",
       "    .dataframe tbody tr th {\n",
       "        vertical-align: top;\n",
       "    }\n",
       "\n",
       "    .dataframe thead th {\n",
       "        text-align: right;\n",
       "    }\n",
       "</style>\n",
       "<table border=\"1\" class=\"dataframe\">\n",
       "  <thead>\n",
       "    <tr style=\"text-align: right;\">\n",
       "      <th></th>\n",
       "      <th>Age</th>\n",
       "      <th>Sex</th>\n",
       "      <th>Job</th>\n",
       "      <th>Housing</th>\n",
       "      <th>Saving accounts</th>\n",
       "      <th>Checking account</th>\n",
       "      <th>Credit amount</th>\n",
       "      <th>Duration</th>\n",
       "      <th>Purpose</th>\n",
       "    </tr>\n",
       "  </thead>\n",
       "  <tbody>\n",
       "    <tr>\n",
       "      <th>996</th>\n",
       "      <td>40</td>\n",
       "      <td>1</td>\n",
       "      <td>3</td>\n",
       "      <td>1</td>\n",
       "      <td>1</td>\n",
       "      <td>1</td>\n",
       "      <td>3857</td>\n",
       "      <td>30</td>\n",
       "      <td>1</td>\n",
       "    </tr>\n",
       "  </tbody>\n",
       "</table>\n",
       "</div>"
      ],
      "text/plain": [
       "     Age  Sex  Job  Housing  Saving accounts  Checking account  Credit amount  \\\n",
       "996   40    1    3        1                1                 1           3857   \n",
       "\n",
       "     Duration  Purpose  \n",
       "996        30        1  "
      ]
     },
     "execution_count": 45,
     "metadata": {},
     "output_type": "execute_result"
    }
   ],
   "source": [
    "x_factual"
   ]
  },
  {
   "cell_type": "code",
   "execution_count": 46,
   "metadata": {},
   "outputs": [
    {
     "data": {
      "text/plain": [
       "array([0], dtype=int64)"
      ]
     },
     "execution_count": 46,
     "metadata": {},
     "output_type": "execute_result"
    }
   ],
   "source": [
    "ml_model1.predict(x_factual)"
   ]
  },
  {
   "cell_type": "code",
   "execution_count": 47,
   "metadata": {},
   "outputs": [
    {
     "data": {
      "text/plain": [
       "array([1], dtype=int64)"
      ]
     },
     "execution_count": 47,
     "metadata": {},
     "output_type": "execute_result"
    }
   ],
   "source": [
    "ml_model1.predict(x_counterfactual)"
   ]
  },
  {
   "cell_type": "markdown",
   "metadata": {},
   "source": [
    "#### DisCount - only compatiable with PYT"
   ]
  },
  {
   "cell_type": "code",
   "execution_count": 48,
   "metadata": {},
   "outputs": [],
   "source": [
    "# counterfactual_explainer_discount = counterfactual_explainer.DisCount(\n",
    "#     ml_model = scaled_PyT_DNN,\n",
    "#     data = data1,\n",
    "#     sample_num = 4,\n",
    "# )"
   ]
  },
  {
   "cell_type": "code",
   "execution_count": 49,
   "metadata": {},
   "outputs": [],
   "source": [
    "### DisCount is not compatiable with scikit-learn\n",
    "# counterfactual_explainer2 = counterfactual_explainer.DisCount(ml_model=ml_model1, data=data1, sample_num=4)"
   ]
  },
  {
   "cell_type": "markdown",
   "metadata": {},
   "source": [
    "### *choose policy and make limitation\n"
   ]
  },
  {
   "cell_type": "code",
   "execution_count": 18,
   "metadata": {},
   "outputs": [],
   "source": [
    "ot_pshap_max = COunterfactualwithLimitedActions(\n",
    "    data=data2, \n",
    "    ml_model=ml_model1, \n",
    "    x_factual=a,\n",
    "    x_counterfactual=b,\n",
    "    limited_actions=3, \n",
    "    matcher=\"ot\", # joint_probability\n",
    "    attributor=\"pshap\", # used to get the varphi\n",
    "    Avalues_method=\"max\" # get the q\n",
    "    )"
   ]
  },
  {
   "cell_type": "code",
   "execution_count": 56,
   "metadata": {},
   "outputs": [],
   "source": [
    "# ot_pshap_max = COunterfactualwithLimitedActions(\n",
    "#     data=data1, \n",
    "#     ml_model=ml_model1, \n",
    "#     x_factual=x_factual,\n",
    "#     x_counterfactual=x_counterfactual,\n",
    "#     limited_actions=10, \n",
    "#     matcher=\"ot\", # joint_probability\n",
    "#     attributor=\"pshap\", # used to get the varphi\n",
    "#     Avalues_method=\"max\" # get the q\n",
    "#     )"
   ]
  },
  {
   "cell_type": "code",
   "execution_count": 19,
   "metadata": {},
   "outputs": [
    {
     "name": "stderr",
     "output_type": "stream",
     "text": [
      "INFO:shap:num_full_subsets = 3\n",
      "INFO:shap:phi = [-0.08262096  0.03448063  0.01142397 -0.11477744  0.16859833 -0.25255664\n",
      " -0.07098289]\n",
      "INFO:shap:num_full_subsets = 3\n",
      "INFO:shap:phi = [ 0.18470638  0.03342442  0.03062819  0.23597029 -0.00842148  0.52278706\n",
      " -0.08008822]\n",
      "INFO:shap:num_full_subsets = 4\n",
      "INFO:shap:phi = [ 0.01329149 -0.0262632  -0.00825354  0.00401998 -0.06431161 -0.03795905\n",
      "  0.06636484  0.02551573]\n",
      "INFO:shap:num_full_subsets = 1\n",
      "INFO:shap:phi = [0.22210661 0.03589675]\n",
      "INFO:shap:num_full_subsets = 3\n",
      "INFO:shap:phi = [ 0.29109896 -0.0355451  -0.04918497  0.07103084  0.38973948  0.05048516\n",
      " -0.00780808]\n"
     ]
    }
   ],
   "source": [
    "factual, ce, ace = ot_pshap_max.generate_results()"
   ]
  },
  {
   "cell_type": "code",
   "execution_count": 20,
   "metadata": {},
   "outputs": [
    {
     "data": {
      "text/html": [
       "<div>\n",
       "<style scoped>\n",
       "    .dataframe tbody tr th:only-of-type {\n",
       "        vertical-align: middle;\n",
       "    }\n",
       "\n",
       "    .dataframe tbody tr th {\n",
       "        vertical-align: top;\n",
       "    }\n",
       "\n",
       "    .dataframe thead th {\n",
       "        text-align: right;\n",
       "    }\n",
       "</style>\n",
       "<table border=\"1\" class=\"dataframe\">\n",
       "  <thead>\n",
       "    <tr style=\"text-align: right;\">\n",
       "      <th></th>\n",
       "      <th>Age</th>\n",
       "      <th>Sex</th>\n",
       "      <th>Job</th>\n",
       "      <th>Housing</th>\n",
       "      <th>Saving accounts</th>\n",
       "      <th>Checking account</th>\n",
       "      <th>Credit amount</th>\n",
       "      <th>Duration</th>\n",
       "      <th>Purpose</th>\n",
       "      <th>Risk</th>\n",
       "    </tr>\n",
       "  </thead>\n",
       "  <tbody>\n",
       "    <tr>\n",
       "      <th>0</th>\n",
       "      <td>67</td>\n",
       "      <td>1</td>\n",
       "      <td>2</td>\n",
       "      <td>1</td>\n",
       "      <td>0</td>\n",
       "      <td>1</td>\n",
       "      <td>1169</td>\n",
       "      <td>6</td>\n",
       "      <td>5</td>\n",
       "      <td>0</td>\n",
       "    </tr>\n",
       "    <tr>\n",
       "      <th>1</th>\n",
       "      <td>22</td>\n",
       "      <td>0</td>\n",
       "      <td>2</td>\n",
       "      <td>1</td>\n",
       "      <td>1</td>\n",
       "      <td>2</td>\n",
       "      <td>5951</td>\n",
       "      <td>48</td>\n",
       "      <td>5</td>\n",
       "      <td>1</td>\n",
       "    </tr>\n",
       "    <tr>\n",
       "      <th>2</th>\n",
       "      <td>49</td>\n",
       "      <td>1</td>\n",
       "      <td>1</td>\n",
       "      <td>1</td>\n",
       "      <td>1</td>\n",
       "      <td>0</td>\n",
       "      <td>2096</td>\n",
       "      <td>12</td>\n",
       "      <td>3</td>\n",
       "      <td>0</td>\n",
       "    </tr>\n",
       "    <tr>\n",
       "      <th>3</th>\n",
       "      <td>45</td>\n",
       "      <td>1</td>\n",
       "      <td>2</td>\n",
       "      <td>0</td>\n",
       "      <td>1</td>\n",
       "      <td>1</td>\n",
       "      <td>7882</td>\n",
       "      <td>42</td>\n",
       "      <td>4</td>\n",
       "      <td>0</td>\n",
       "    </tr>\n",
       "    <tr>\n",
       "      <th>4</th>\n",
       "      <td>53</td>\n",
       "      <td>1</td>\n",
       "      <td>2</td>\n",
       "      <td>0</td>\n",
       "      <td>1</td>\n",
       "      <td>1</td>\n",
       "      <td>4870</td>\n",
       "      <td>24</td>\n",
       "      <td>1</td>\n",
       "      <td>1</td>\n",
       "    </tr>\n",
       "  </tbody>\n",
       "</table>\n",
       "</div>"
      ],
      "text/plain": [
       "   Age  Sex  Job  Housing  Saving accounts  Checking account  Credit amount  \\\n",
       "0   67    1    2        1                0                 1           1169   \n",
       "1   22    0    2        1                1                 2           5951   \n",
       "2   49    1    1        1                1                 0           2096   \n",
       "3   45    1    2        0                1                 1           7882   \n",
       "4   53    1    2        0                1                 1           4870   \n",
       "\n",
       "   Duration  Purpose  Risk  \n",
       "0         6        5     0  \n",
       "1        48        5     1  \n",
       "2        12        3     0  \n",
       "3        42        4     0  \n",
       "4        24        1     1  "
      ]
     },
     "execution_count": 20,
     "metadata": {},
     "output_type": "execute_result"
    }
   ],
   "source": [
    "factual"
   ]
  },
  {
   "cell_type": "code",
   "execution_count": 21,
   "metadata": {},
   "outputs": [
    {
     "data": {
      "text/html": [
       "<div>\n",
       "<style scoped>\n",
       "    .dataframe tbody tr th:only-of-type {\n",
       "        vertical-align: middle;\n",
       "    }\n",
       "\n",
       "    .dataframe tbody tr th {\n",
       "        vertical-align: top;\n",
       "    }\n",
       "\n",
       "    .dataframe thead th {\n",
       "        text-align: right;\n",
       "    }\n",
       "</style>\n",
       "<table border=\"1\" class=\"dataframe\">\n",
       "  <thead>\n",
       "    <tr style=\"text-align: right;\">\n",
       "      <th></th>\n",
       "      <th>Age</th>\n",
       "      <th>Sex</th>\n",
       "      <th>Job</th>\n",
       "      <th>Housing</th>\n",
       "      <th>Saving accounts</th>\n",
       "      <th>Checking account</th>\n",
       "      <th>Credit amount</th>\n",
       "      <th>Duration</th>\n",
       "      <th>Purpose</th>\n",
       "      <th>Risk</th>\n",
       "    </tr>\n",
       "  </thead>\n",
       "  <tbody>\n",
       "    <tr>\n",
       "      <th>0</th>\n",
       "      <td>22</td>\n",
       "      <td>0</td>\n",
       "      <td>2</td>\n",
       "      <td>1</td>\n",
       "      <td>1</td>\n",
       "      <td>2</td>\n",
       "      <td>5951</td>\n",
       "      <td>20</td>\n",
       "      <td>2</td>\n",
       "      <td>0</td>\n",
       "    </tr>\n",
       "    <tr>\n",
       "      <th>1</th>\n",
       "      <td>39</td>\n",
       "      <td>1</td>\n",
       "      <td>1</td>\n",
       "      <td>0</td>\n",
       "      <td>1</td>\n",
       "      <td>1</td>\n",
       "      <td>4870</td>\n",
       "      <td>24</td>\n",
       "      <td>1</td>\n",
       "      <td>0</td>\n",
       "    </tr>\n",
       "    <tr>\n",
       "      <th>2</th>\n",
       "      <td>49</td>\n",
       "      <td>1</td>\n",
       "      <td>1</td>\n",
       "      <td>1</td>\n",
       "      <td>1</td>\n",
       "      <td>0</td>\n",
       "      <td>6537</td>\n",
       "      <td>12</td>\n",
       "      <td>3</td>\n",
       "      <td>0</td>\n",
       "    </tr>\n",
       "    <tr>\n",
       "      <th>3</th>\n",
       "      <td>45</td>\n",
       "      <td>1</td>\n",
       "      <td>2</td>\n",
       "      <td>0</td>\n",
       "      <td>1</td>\n",
       "      <td>0</td>\n",
       "      <td>7013</td>\n",
       "      <td>42</td>\n",
       "      <td>4</td>\n",
       "      <td>0</td>\n",
       "    </tr>\n",
       "    <tr>\n",
       "      <th>4</th>\n",
       "      <td>67</td>\n",
       "      <td>1</td>\n",
       "      <td>2</td>\n",
       "      <td>0</td>\n",
       "      <td>0</td>\n",
       "      <td>1</td>\n",
       "      <td>5319</td>\n",
       "      <td>6</td>\n",
       "      <td>5</td>\n",
       "      <td>0</td>\n",
       "    </tr>\n",
       "  </tbody>\n",
       "</table>\n",
       "</div>"
      ],
      "text/plain": [
       "   Age  Sex  Job  Housing  Saving accounts  Checking account  Credit amount  \\\n",
       "0   22    0    2        1                1                 2           5951   \n",
       "1   39    1    1        0                1                 1           4870   \n",
       "2   49    1    1        1                1                 0           6537   \n",
       "3   45    1    2        0                1                 0           7013   \n",
       "4   67    1    2        0                0                 1           5319   \n",
       "\n",
       "   Duration  Purpose  Risk  \n",
       "0        20        2     0  \n",
       "1        24        1     0  \n",
       "2        12        3     0  \n",
       "3        42        4     0  \n",
       "4         6        5     0  "
      ]
     },
     "execution_count": 21,
     "metadata": {},
     "output_type": "execute_result"
    }
   ],
   "source": [
    "ce"
   ]
  },
  {
   "cell_type": "code",
   "execution_count": 22,
   "metadata": {},
   "outputs": [
    {
     "data": {
      "text/html": [
       "<div>\n",
       "<style scoped>\n",
       "    .dataframe tbody tr th:only-of-type {\n",
       "        vertical-align: middle;\n",
       "    }\n",
       "\n",
       "    .dataframe tbody tr th {\n",
       "        vertical-align: top;\n",
       "    }\n",
       "\n",
       "    .dataframe thead th {\n",
       "        text-align: right;\n",
       "    }\n",
       "</style>\n",
       "<table border=\"1\" class=\"dataframe\">\n",
       "  <thead>\n",
       "    <tr style=\"text-align: right;\">\n",
       "      <th></th>\n",
       "      <th>Age</th>\n",
       "      <th>Sex</th>\n",
       "      <th>Job</th>\n",
       "      <th>Housing</th>\n",
       "      <th>Saving accounts</th>\n",
       "      <th>Checking account</th>\n",
       "      <th>Credit amount</th>\n",
       "      <th>Duration</th>\n",
       "      <th>Purpose</th>\n",
       "      <th>Risk</th>\n",
       "    </tr>\n",
       "  </thead>\n",
       "  <tbody>\n",
       "    <tr>\n",
       "      <th>0</th>\n",
       "      <td>67</td>\n",
       "      <td>1</td>\n",
       "      <td>2</td>\n",
       "      <td>1</td>\n",
       "      <td>0</td>\n",
       "      <td>1</td>\n",
       "      <td>1169</td>\n",
       "      <td>6</td>\n",
       "      <td>5</td>\n",
       "      <td>0</td>\n",
       "    </tr>\n",
       "    <tr>\n",
       "      <th>1</th>\n",
       "      <td>22</td>\n",
       "      <td>0</td>\n",
       "      <td>2</td>\n",
       "      <td>1</td>\n",
       "      <td>1</td>\n",
       "      <td>2</td>\n",
       "      <td>5951</td>\n",
       "      <td>12</td>\n",
       "      <td>5</td>\n",
       "      <td>0</td>\n",
       "    </tr>\n",
       "    <tr>\n",
       "      <th>2</th>\n",
       "      <td>49</td>\n",
       "      <td>1</td>\n",
       "      <td>1</td>\n",
       "      <td>1</td>\n",
       "      <td>1</td>\n",
       "      <td>0</td>\n",
       "      <td>2096</td>\n",
       "      <td>12</td>\n",
       "      <td>3</td>\n",
       "      <td>0</td>\n",
       "    </tr>\n",
       "    <tr>\n",
       "      <th>3</th>\n",
       "      <td>45</td>\n",
       "      <td>1</td>\n",
       "      <td>2</td>\n",
       "      <td>0</td>\n",
       "      <td>1</td>\n",
       "      <td>1</td>\n",
       "      <td>7882</td>\n",
       "      <td>42</td>\n",
       "      <td>4</td>\n",
       "      <td>0</td>\n",
       "    </tr>\n",
       "    <tr>\n",
       "      <th>4</th>\n",
       "      <td>22</td>\n",
       "      <td>1</td>\n",
       "      <td>2</td>\n",
       "      <td>0</td>\n",
       "      <td>1</td>\n",
       "      <td>1</td>\n",
       "      <td>5951</td>\n",
       "      <td>24</td>\n",
       "      <td>1</td>\n",
       "      <td>0</td>\n",
       "    </tr>\n",
       "  </tbody>\n",
       "</table>\n",
       "</div>"
      ],
      "text/plain": [
       "   Age  Sex  Job  Housing  Saving accounts  Checking account  Credit amount  \\\n",
       "0   67    1    2        1                0                 1           1169   \n",
       "1   22    0    2        1                1                 2           5951   \n",
       "2   49    1    1        1                1                 0           2096   \n",
       "3   45    1    2        0                1                 1           7882   \n",
       "4   22    1    2        0                1                 1           5951   \n",
       "\n",
       "   Duration  Purpose  Risk  \n",
       "0         6        5     0  \n",
       "1        12        5     0  \n",
       "2        12        3     0  \n",
       "3        42        4     0  \n",
       "4        24        1     0  "
      ]
     },
     "execution_count": 22,
     "metadata": {},
     "output_type": "execute_result"
    }
   ],
   "source": [
    "ace"
   ]
  },
  {
   "cell_type": "markdown",
   "metadata": {},
   "source": [
    "### lime explainer - feature attribution"
   ]
  },
  {
   "cell_type": "code",
   "execution_count": 61,
   "metadata": {},
   "outputs": [
    {
     "name": "stdout",
     "output_type": "stream",
     "text": [
      "Shape of probabilities: (4, 2)\n",
      "Probabilities: [[0.34389295 0.65610705]\n",
      " [0.07014478 0.92985522]\n",
      " [0.04131984 0.95868016]\n",
      " [0.33687725 0.66312275]]\n"
     ]
    }
   ],
   "source": [
    "probabilities = ml_model1.predict_proba(x_factual)\n",
    "print(\"Shape of probabilities:\", probabilities.shape)\n",
    "print(\"Probabilities:\", probabilities)"
   ]
  },
  {
   "cell_type": "code",
   "execution_count": 62,
   "metadata": {},
   "outputs": [],
   "source": [
    "import numpy as np\n",
    "import pandas as pd\n",
    "from lime.lime_tabular import LimeTabularExplainer"
   ]
  },
  {
   "cell_type": "code",
   "execution_count": 63,
   "metadata": {},
   "outputs": [],
   "source": [
    "sample_num = 4\n",
    "\n",
    "def get_factual_indices():\n",
    "    x_factual_ext = data1.get_x().copy()\n",
    "    predict = ml_model1.predict(x_factual_ext)\n",
    "    x_factual_ext[data1.get_target_name()] = predict\n",
    "    sampling_weights = np.exp(x_factual_ext[data1.get_target_name()].values.clip(min=0) * 4)\n",
    "    indices = (x_factual_ext.sample(sample_num, weights=sampling_weights)).index\n",
    "    return indices, x_factual_ext\n"
   ]
  },
  {
   "cell_type": "code",
   "execution_count": 64,
   "metadata": {},
   "outputs": [
    {
     "data": {
      "text/html": [
       "<div>\n",
       "<style scoped>\n",
       "    .dataframe tbody tr th:only-of-type {\n",
       "        vertical-align: middle;\n",
       "    }\n",
       "\n",
       "    .dataframe tbody tr th {\n",
       "        vertical-align: top;\n",
       "    }\n",
       "\n",
       "    .dataframe thead th {\n",
       "        text-align: right;\n",
       "    }\n",
       "</style>\n",
       "<table border=\"1\" class=\"dataframe\">\n",
       "  <thead>\n",
       "    <tr style=\"text-align: right;\">\n",
       "      <th></th>\n",
       "      <th>Age</th>\n",
       "      <th>Sex</th>\n",
       "      <th>Job</th>\n",
       "      <th>Housing</th>\n",
       "      <th>Saving accounts</th>\n",
       "      <th>Checking account</th>\n",
       "      <th>Credit amount</th>\n",
       "      <th>Duration</th>\n",
       "      <th>Purpose</th>\n",
       "    </tr>\n",
       "  </thead>\n",
       "  <tbody>\n",
       "    <tr>\n",
       "      <th>598</th>\n",
       "      <td>31</td>\n",
       "      <td>1</td>\n",
       "      <td>2</td>\n",
       "      <td>1</td>\n",
       "      <td>1</td>\n",
       "      <td>0</td>\n",
       "      <td>2775</td>\n",
       "      <td>18</td>\n",
       "      <td>1</td>\n",
       "    </tr>\n",
       "    <tr>\n",
       "      <th>197</th>\n",
       "      <td>27</td>\n",
       "      <td>0</td>\n",
       "      <td>2</td>\n",
       "      <td>2</td>\n",
       "      <td>2</td>\n",
       "      <td>2</td>\n",
       "      <td>951</td>\n",
       "      <td>12</td>\n",
       "      <td>4</td>\n",
       "    </tr>\n",
       "    <tr>\n",
       "      <th>259</th>\n",
       "      <td>57</td>\n",
       "      <td>0</td>\n",
       "      <td>1</td>\n",
       "      <td>1</td>\n",
       "      <td>2</td>\n",
       "      <td>0</td>\n",
       "      <td>1154</td>\n",
       "      <td>11</td>\n",
       "      <td>5</td>\n",
       "    </tr>\n",
       "    <tr>\n",
       "      <th>54</th>\n",
       "      <td>57</td>\n",
       "      <td>1</td>\n",
       "      <td>2</td>\n",
       "      <td>0</td>\n",
       "      <td>1</td>\n",
       "      <td>2</td>\n",
       "      <td>2225</td>\n",
       "      <td>36</td>\n",
       "      <td>1</td>\n",
       "    </tr>\n",
       "  </tbody>\n",
       "</table>\n",
       "</div>"
      ],
      "text/plain": [
       "     Age  Sex  Job  Housing  Saving accounts  Checking account  Credit amount  \\\n",
       "598   31    1    2        1                1                 0           2775   \n",
       "197   27    0    2        2                2                 2            951   \n",
       "259   57    0    1        1                2                 0           1154   \n",
       "54    57    1    2        0                1                 2           2225   \n",
       "\n",
       "     Duration  Purpose  \n",
       "598        18        1  \n",
       "197        12        4  \n",
       "259        11        5  \n",
       "54         36        1  "
      ]
     },
     "execution_count": 64,
     "metadata": {},
     "output_type": "execute_result"
    }
   ],
   "source": [
    "indices, x_factual_ext = get_factual_indices()\n",
    "x_chosen = data1.get_x().loc[indices] # dataframe without 'Risk'/ target\n",
    "x_chosen"
   ]
  },
  {
   "cell_type": "code",
   "execution_count": 65,
   "metadata": {},
   "outputs": [
    {
     "name": "stderr",
     "output_type": "stream",
     "text": [
      "np.find_common_type is deprecated.  Please use `np.result_type` or `np.promote_types`.\n",
      "See https://numpy.org/devdocs/release/1.25.0-notes.html and the docs for more information.  (Deprecated NumPy 1.25)\n"
     ]
    },
    {
     "data": {
      "text/plain": [
       "Age                   31\n",
       "Sex                    1\n",
       "Job                    2\n",
       "Housing                1\n",
       "Saving accounts        1\n",
       "Checking account       0\n",
       "Credit amount       2775\n",
       "Duration              18\n",
       "Purpose                1\n",
       "Name: 598, dtype: int64"
      ]
     },
     "execution_count": 65,
     "metadata": {},
     "output_type": "execute_result"
    }
   ],
   "source": [
    "x_chosen.iloc[0]"
   ]
  },
  {
   "cell_type": "code",
   "execution_count": 66,
   "metadata": {},
   "outputs": [
    {
     "name": "stderr",
     "output_type": "stream",
     "text": [
      "np.find_common_type is deprecated.  Please use `np.result_type` or `np.promote_types`.\n",
      "See https://numpy.org/devdocs/release/1.25.0-notes.html and the docs for more information.  (Deprecated NumPy 1.25)\n"
     ]
    }
   ],
   "source": [
    "# 初始化LIME解释器\n",
    "explainer = LimeTabularExplainer(\n",
    "    training_data=data1.get_x().values,  #  training data should be numpy\n",
    "    feature_names=data1.get_x_labels(), \n",
    "    class_names=['good credit', 'bad credit'], \n",
    "    discretize_continuous=False)\n"
   ]
  },
  {
   "cell_type": "code",
   "execution_count": 67,
   "metadata": {},
   "outputs": [
    {
     "name": "stderr",
     "output_type": "stream",
     "text": [
      "np.find_common_type is deprecated.  Please use `np.result_type` or `np.promote_types`.\n",
      "See https://numpy.org/devdocs/release/1.25.0-notes.html and the docs for more information.  (Deprecated NumPy 1.25)\n"
     ]
    }
   ],
   "source": [
    "# 选择4个样本并生成反事实解释\n",
    "sample_data = x_chosen.values"
   ]
  },
  {
   "cell_type": "code",
   "execution_count": 68,
   "metadata": {},
   "outputs": [
    {
     "name": "stdout",
     "output_type": "stream",
     "text": [
      "Original Prediction for sample 1: 1\n",
      "Counterfactual explanation for sample 1:\n",
      " - Duration: 0.11302070689821693\n",
      " - Credit amount: -0.056911312818798264\n",
      " - Checking account: 0.04429573221082862\n",
      " - Housing: 0.01910032827385068\n",
      " - Job: -0.009198971404145202\n",
      " - Age: -0.007097459635038736\n",
      " - Sex: -0.006889817077267384\n",
      " - Purpose: -0.0023307998469790777\n",
      " - Saving accounts: -0.001630207871041489\n",
      "\n",
      "\n",
      "Original Prediction for sample 2: 1\n",
      "Counterfactual explanation for sample 2:\n",
      " - Duration: 0.1180417717391339\n",
      " - Credit amount: -0.05415172792897047\n",
      " - Housing: 0.02283568367425364\n",
      " - Checking account: 0.01636318503351073\n",
      " - Job: -0.008076677306929868\n",
      " - Saving accounts: -0.007846844405687975\n",
      " - Sex: -0.006031471791645677\n",
      " - Purpose: -0.00558727568676809\n",
      " - Age: -0.004802725575955554\n",
      "\n",
      "\n",
      "Original Prediction for sample 3: 0\n",
      "Counterfactual explanation for sample 3:\n",
      " - Duration: 0.1269047226231337\n",
      " - Checking account: 0.055410414900948196\n",
      " - Credit amount: -0.039249687109373\n",
      " - Purpose: -0.024627173938695953\n",
      " - Age: -0.02298748288737192\n",
      " - Housing: 0.02058414960573121\n",
      " - Saving accounts: -0.007950089445795908\n",
      " - Sex: 0.0011526621450109625\n",
      " - Job: -0.00025962589324464766\n",
      "\n",
      "\n",
      "Original Prediction for sample 4: 1\n",
      "Counterfactual explanation for sample 4:\n",
      " - Duration: 0.10201837695657981\n",
      " - Credit amount: -0.051771121298589615\n",
      " - Age: -0.022841726764511947\n",
      " - Purpose: -0.021239486116274988\n",
      " - Housing: 0.018394711929323102\n",
      " - Job: -0.01667136518436768\n",
      " - Checking account: 0.009234576518491614\n",
      " - Sex: -0.007644880968203384\n",
      " - Saving accounts: -0.004292056245928549\n",
      "\n",
      "\n"
     ]
    }
   ],
   "source": [
    "for i in range(len(sample_data)):\n",
    "    # LIME的解释对象\n",
    "    exp = explainer.explain_instance(sample_data[i], \n",
    "                                     ml_model1.predict_proba, \n",
    "                                     num_features=len(data1.get_x_labels()))\n",
    "\n",
    "    # 打印原始预测\n",
    "    original_prediction = ml_model1.predict([sample_data[i]])[0]\n",
    "    print(f\"Original Prediction for sample {i+1}: {original_prediction}\")\n",
    "\n",
    "    # 打印反事实解释\n",
    "    print(f\"Counterfactual explanation for sample {i+1}:\")\n",
    "    for feature, weight in exp.as_list():\n",
    "        print(f\" - {feature}: {weight}\")\n",
    "    print(\"\\n\")\n"
   ]
  }
 ],
 "metadata": {
  "kernelspec": {
   "display_name": "COLA",
   "language": "python",
   "name": "python3"
  },
  "language_info": {
   "codemirror_mode": {
    "name": "ipython",
    "version": 3
   },
   "file_extension": ".py",
   "mimetype": "text/x-python",
   "name": "python",
   "nbconvert_exporter": "python",
   "pygments_lexer": "ipython3",
   "version": "3.10.13"
  }
 },
 "nbformat": 4,
 "nbformat_minor": 2
}
