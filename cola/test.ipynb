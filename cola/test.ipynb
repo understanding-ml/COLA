{
 "cells": [
  {
   "cell_type": "code",
   "execution_count": 288,
   "metadata": {},
   "outputs": [],
   "source": [
    "from data_module.data_module import Data\n",
    "from dataset.german_credit import GermanCreditDataset\n",
    "import pandas as pd\n",
    "import joblib\n",
    "from model_module.pretrained_model import PreTrainedModel\n",
    "\n",
    "import numpy as np\n",
    "import dice_ml\n",
    "from sklearn.model_selection import train_test_split\n",
    "import ot"
   ]
  },
  {
   "cell_type": "code",
   "execution_count": 289,
   "metadata": {},
   "outputs": [],
   "source": [
    "%reload_ext autoreload\n",
    "%autoreload 2"
   ]
  },
  {
   "cell_type": "markdown",
   "metadata": {},
   "source": [
    "### 1. Data (x_factual)"
   ]
  },
  {
   "cell_type": "code",
   "execution_count": 290,
   "metadata": {},
   "outputs": [
    {
     "data": {
      "text/html": [
       "<div>\n",
       "<style scoped>\n",
       "    .dataframe tbody tr th:only-of-type {\n",
       "        vertical-align: middle;\n",
       "    }\n",
       "\n",
       "    .dataframe tbody tr th {\n",
       "        vertical-align: top;\n",
       "    }\n",
       "\n",
       "    .dataframe thead th {\n",
       "        text-align: right;\n",
       "    }\n",
       "</style>\n",
       "<table border=\"1\" class=\"dataframe\">\n",
       "  <thead>\n",
       "    <tr style=\"text-align: right;\">\n",
       "      <th></th>\n",
       "      <th>Age</th>\n",
       "      <th>Sex</th>\n",
       "      <th>Job</th>\n",
       "      <th>Housing</th>\n",
       "      <th>Saving accounts</th>\n",
       "      <th>Checking account</th>\n",
       "      <th>Credit amount</th>\n",
       "      <th>Duration</th>\n",
       "      <th>Purpose</th>\n",
       "      <th>Risk</th>\n",
       "    </tr>\n",
       "  </thead>\n",
       "  <tbody>\n",
       "    <tr>\n",
       "      <th>0</th>\n",
       "      <td>67</td>\n",
       "      <td>1</td>\n",
       "      <td>2</td>\n",
       "      <td>1</td>\n",
       "      <td>0</td>\n",
       "      <td>1</td>\n",
       "      <td>1169</td>\n",
       "      <td>6</td>\n",
       "      <td>5</td>\n",
       "      <td>0</td>\n",
       "    </tr>\n",
       "    <tr>\n",
       "      <th>1</th>\n",
       "      <td>22</td>\n",
       "      <td>0</td>\n",
       "      <td>2</td>\n",
       "      <td>1</td>\n",
       "      <td>1</td>\n",
       "      <td>2</td>\n",
       "      <td>5951</td>\n",
       "      <td>48</td>\n",
       "      <td>5</td>\n",
       "      <td>1</td>\n",
       "    </tr>\n",
       "    <tr>\n",
       "      <th>2</th>\n",
       "      <td>49</td>\n",
       "      <td>1</td>\n",
       "      <td>1</td>\n",
       "      <td>1</td>\n",
       "      <td>1</td>\n",
       "      <td>0</td>\n",
       "      <td>2096</td>\n",
       "      <td>12</td>\n",
       "      <td>3</td>\n",
       "      <td>0</td>\n",
       "    </tr>\n",
       "  </tbody>\n",
       "</table>\n",
       "</div>"
      ],
      "text/plain": [
       "   Age  Sex  Job  Housing  Saving accounts  Checking account  Credit amount  \\\n",
       "0   67    1    2        1                0                 1           1169   \n",
       "1   22    0    2        1                1                 2           5951   \n",
       "2   49    1    1        1                1                 0           2096   \n",
       "\n",
       "   Duration  Purpose  Risk  \n",
       "0         6        5     0  \n",
       "1        48        5     1  \n",
       "2        12        3     0  "
      ]
     },
     "execution_count": 290,
     "metadata": {},
     "output_type": "execute_result"
    }
   ],
   "source": [
    "dataset = GermanCreditDataset()\n",
    "df = dataset.get_dataframe()  \n",
    "df.head(3)         ## dataset with target name"
   ]
  },
  {
   "cell_type": "code",
   "execution_count": 291,
   "metadata": {},
   "outputs": [],
   "source": [
    "data = Data(dataset=df, target_name='Risk')\n",
    "x_factual = data.get_x()\n",
    "y_factual = data.get_y()\n",
    "x_labels = data.get_x_labels()"
   ]
  },
  {
   "cell_type": "markdown",
   "metadata": {},
   "source": [
    "### 2. Model (pre-trained model)"
   ]
  },
  {
   "cell_type": "code",
   "execution_count": 292,
   "metadata": {},
   "outputs": [],
   "source": [
    "# model_filename = 'trained_LGBMClassifier.pkl'\n",
    "# loaded_model = joblib.load(model_filename)\n",
    "# print(f\"-----Model has already been downloaded-----\")\n",
    "# #### normalized data"
   ]
  },
  {
   "cell_type": "code",
   "execution_count": 293,
   "metadata": {},
   "outputs": [
    {
     "name": "stdout",
     "output_type": "stream",
     "text": [
      "-----Model has already been downloaded-----\n"
     ]
    }
   ],
   "source": [
    "model_filename2 = 'LGBMClassifier.pkl'\n",
    "LGBMClassifier = joblib.load(model_filename2)\n",
    "print(f\"-----Model has already been downloaded-----\")\n",
    "#### non-normalized data"
   ]
  },
  {
   "cell_type": "code",
   "execution_count": 294,
   "metadata": {},
   "outputs": [],
   "source": [
    "# X_train, X_test, y_train, y_test = dataset.get_standardized_train_test_split(random_state=None)\n",
    "x_train, x_test, y_train, y_test = train_test_split(x_factual, y_factual, test_size=0.2, random_state=None)"
   ]
  },
  {
   "cell_type": "code",
   "execution_count": 295,
   "metadata": {},
   "outputs": [],
   "source": [
    "lgbmclassifier = PreTrainedModel(model_path=model_filename2, backend='sklearn')"
   ]
  },
  {
   "cell_type": "code",
   "execution_count": 314,
   "metadata": {},
   "outputs": [
    {
     "name": "stdout",
     "output_type": "stream",
     "text": [
      "----LGBMClassifier.pkl model has been loaded----\n"
     ]
    }
   ],
   "source": [
    "loaded_model = lgbmclassifier.load_model()"
   ]
  },
  {
   "cell_type": "code",
   "execution_count": 297,
   "metadata": {},
   "outputs": [
    {
     "name": "stdout",
     "output_type": "stream",
     "text": [
      "---- predictions have been made----\n"
     ]
    }
   ],
   "source": [
    "y_factual = lgbmclassifier.predict(x_factual=x_test)"
   ]
  },
  {
   "cell_type": "code",
   "execution_count": 298,
   "metadata": {},
   "outputs": [],
   "source": [
    "# n=0\n",
    "# for i in range(len(y_factual_model_2)):\n",
    "#     if y_factual_model_2['Prediction'][i] == y_factual[i]:\n",
    "#         n=n+1\n",
    "#     else:\n",
    "#         n=n\n",
    "# print(n)\n",
    "# ###  200个数据中只有124个预测对了"
   ]
  },
  {
   "cell_type": "markdown",
   "metadata": {},
   "source": [
    "### 3. CE model"
   ]
  },
  {
   "cell_type": "code",
   "execution_count": 308,
   "metadata": {},
   "outputs": [],
   "source": [
    "from ce_module.ce_models import DiCE"
   ]
  },
  {
   "cell_type": "code",
   "execution_count": 316,
   "metadata": {},
   "outputs": [],
   "source": [
    "dice= DiCE(ml_model=loaded_model, x_factual=x_test, target_name='Risk', sample_num=4)"
   ]
  },
  {
   "cell_type": "code",
   "execution_count": 317,
   "metadata": {},
   "outputs": [
    {
     "name": "stderr",
     "output_type": "stream",
     "text": [
      "100%|██████████| 4/4 [00:00<00:00, 10.39it/s]"
     ]
    },
    {
     "name": "stdout",
     "output_type": "stream",
     "text": [
      "---- x_counterfactual has already been generated ----\n",
      "---- y_counterfactual has already been generated ----\n"
     ]
    },
    {
     "name": "stderr",
     "output_type": "stream",
     "text": [
      "\n"
     ]
    }
   ],
   "source": [
    "x_factual, y_factual, x_counterfactual, y_counterfactual = dice.generate_x_counterfactuals()"
   ]
  },
  {
   "cell_type": "code",
   "execution_count": 318,
   "metadata": {},
   "outputs": [
    {
     "name": "stdout",
     "output_type": "stream",
     "text": [
      "---The X_factual is ---\n",
      "[[  40    1    3    1    0    1 1358   24    7]\n",
      " [  22    1    2    1    1    2 3832   30    4]\n",
      " [  23    1    2    2    1    2 1534   12    5]\n",
      " [  39    0    2    1    1    2 1188   21    0]]\n",
      "---The Y_factual is ---\n",
      "[1 0 1 1]\n",
      "---The X_counterfactual is --- \n",
      "[[  48    1    3    1    3    1 1358   24    7]\n",
      " [  65    1    2    2    1    2 1534    8    5]\n",
      " [  39    0    2    0    1    0 1188   21    0]\n",
      " [  22    1    2    1    1    2 5817   27    4]]\n",
      "---The Y_counterfactual is --- \n",
      "[0 0 0 0]\n"
     ]
    }
   ],
   "source": [
    "print(f'---The X_factual is ---')\n",
    "print(x_factual)\n",
    "print(f'---The Y_factual is ---')\n",
    "print(y_factual)\n",
    "print(f'---The X_counterfactual is --- ')\n",
    "print(x_counterfactual)\n",
    "print(f'---The Y_counterfactual is --- ')\n",
    "print(y_counterfactual)"
   ]
  },
  {
   "cell_type": "markdown",
   "metadata": {},
   "source": [
    "### 4. Probability of joint distribution (Policy)"
   ]
  },
  {
   "cell_type": "code",
   "execution_count": 319,
   "metadata": {},
   "outputs": [],
   "source": [
    "from policy_module import policy"
   ]
  },
  {
   "cell_type": "code",
   "execution_count": 321,
   "metadata": {},
   "outputs": [
    {
     "ename": "AttributeError",
     "evalue": "'dict' object has no attribute 'compute_intervention_policy'",
     "output_type": "error",
     "traceback": [
      "\u001b[1;31m---------------------------------------------------------------------------\u001b[0m",
      "\u001b[1;31mAttributeError\u001b[0m                            Traceback (most recent call last)",
      "Cell \u001b[1;32mIn[321], line 1\u001b[0m\n\u001b[1;32m----> 1\u001b[0m policy \u001b[38;5;241m=\u001b[39m \u001b[43mpolicy\u001b[49m\u001b[38;5;241;43m.\u001b[39;49m\u001b[43mcompute_intervention_policy\u001b[49m(\n\u001b[0;32m      2\u001b[0m                             model\u001b[38;5;241m=\u001b[39mlgbmclassifier,   \u001b[38;5;66;03m#没有使用我们自己模块生成的model\u001b[39;00m\n\u001b[0;32m      3\u001b[0m                             X_train\u001b[38;5;241m=\u001b[39mx_train,\n\u001b[0;32m      4\u001b[0m                             X_factual\u001b[38;5;241m=\u001b[39mx_factual,\n\u001b[0;32m      5\u001b[0m                             X_counterfactual\u001b[38;5;241m=\u001b[39mx_counterfactual,\n\u001b[0;32m      6\u001b[0m                             shapley_method\u001b[38;5;241m=\u001b[39m\u001b[38;5;124m\"\u001b[39m\u001b[38;5;124mCF_OTMatch\u001b[39m\u001b[38;5;124m\"\u001b[39m,\n\u001b[0;32m      7\u001b[0m                             Avalues_method\u001b[38;5;241m=\u001b[39m\u001b[38;5;124m'\u001b[39m\u001b[38;5;124mmax\u001b[39m\u001b[38;5;124m'\u001b[39m, \u001b[38;5;66;03m# 'avg'\u001b[39;00m\n\u001b[0;32m      8\u001b[0m                         )\n",
      "\u001b[1;31mAttributeError\u001b[0m: 'dict' object has no attribute 'compute_intervention_policy'"
     ]
    }
   ],
   "source": [
    "policy = policy.compute_intervention_policy(\n",
    "                            model=lgbmclassifier,   #没有使用我们自己模块生成的model\n",
    "                            X_train=x_train,\n",
    "                            X_factual=x_factual,\n",
    "                            X_counterfactual=x_counterfactual,\n",
    "                            shapley_method=\"CF_OTMatch\",\n",
    "                            Avalues_method='max', # 'avg'\n",
    "                        )\n"
   ]
  },
  {
   "cell_type": "code",
   "execution_count": null,
   "metadata": {},
   "outputs": [],
   "source": [
    "varphi = policy['varphi']\n",
    "p = policy['p']\n",
    "q = policy['q']"
   ]
  },
  {
   "cell_type": "markdown",
   "metadata": {},
   "source": [
    "### 6. get the q, use the shapley value to change the specific position And get the Z."
   ]
  },
  {
   "cell_type": "code",
   "execution_count": null,
   "metadata": {},
   "outputs": [],
   "source": [
    "action = 5"
   ]
  },
  {
   "cell_type": "code",
   "execution_count": null,
   "metadata": {},
   "outputs": [
    {
     "name": "stdout",
     "output_type": "stream",
     "text": [
      "原始 x_factual:\n",
      "[[  25    1    0    1    1    1 2473   18    4]\n",
      " [  21    1    1    2    1    1 1987   24    5]\n",
      " [  26    0    2    1    1    2 9960   48    4]\n",
      " [  35    1    2    1    1    1  691   12    1]]\n",
      "\n",
      "DiCE处理后的x_counterfactual\n",
      "[[  26    0    2    2    0    2 9960   48    4]\n",
      " [  35    1    2    1    2    1 5557   12    1]\n",
      " [  65    1    0    1    2    1 2473   18    4]\n",
      " [  21    1    1    2    1    1  476   24    5]]\n",
      "\n",
      "action constrained  x_action_constrained:\n",
      "[[  25    1    0    1    1    1 5557   18    4]\n",
      " [  65    1    1    2    1    1 1987   24    5]\n",
      " [  26    0    2    1    0    2 9960   48    4]\n",
      " [  35    1    2    1    1    1  476   12    5]]\n"
     ]
    }
   ],
   "source": [
    "# 1. 找到 varphi 矩阵中概率最高的前 action 个数及其位置\n",
    "flat_indices = np.argpartition(varphi.flatten(), -action)[-action:]\n",
    "row_indices, col_indices = np.unravel_index(flat_indices, varphi.shape)\n",
    "\n",
    "# 2. 在 q 中找到这些位置对应的值\n",
    "q_values = q[row_indices, col_indices]\n",
    "\n",
    "# 3. 将 x_factual 中对应位置的值替换为 q 中找到的相应值\n",
    "x_action_constrained = x_factual.copy()\n",
    "\n",
    "for row_idx, col_idx, q_val in zip(row_indices, col_indices, q_values):\n",
    "    x_action_constrained[row_idx, col_idx] = q_val\n",
    "\n",
    "# 打印结果\n",
    "print(\"原始 x_factual:\")\n",
    "print(x_factual)\n",
    "print(\"\\nDiCE处理后的x_counterfactual\")\n",
    "print(x_counterfactual)\n",
    "print(\"\\naction constrained  x_action_constrained:\")\n",
    "print(x_action_constrained)"
   ]
  },
  {
   "cell_type": "code",
   "execution_count": null,
   "metadata": {},
   "outputs": [
    {
     "data": {
      "text/html": [
       "<div>\n",
       "<style scoped>\n",
       "    .dataframe tbody tr th:only-of-type {\n",
       "        vertical-align: middle;\n",
       "    }\n",
       "\n",
       "    .dataframe tbody tr th {\n",
       "        vertical-align: top;\n",
       "    }\n",
       "\n",
       "    .dataframe thead th {\n",
       "        text-align: right;\n",
       "    }\n",
       "</style>\n",
       "<table border=\"1\" class=\"dataframe\">\n",
       "  <thead>\n",
       "    <tr style=\"text-align: right;\">\n",
       "      <th></th>\n",
       "      <th>Age</th>\n",
       "      <th>Sex</th>\n",
       "      <th>Job</th>\n",
       "      <th>Housing</th>\n",
       "      <th>Saving accounts</th>\n",
       "      <th>Checking account</th>\n",
       "      <th>Credit amount</th>\n",
       "      <th>Duration</th>\n",
       "      <th>Purpose</th>\n",
       "      <th>Risk</th>\n",
       "    </tr>\n",
       "  </thead>\n",
       "  <tbody>\n",
       "    <tr>\n",
       "      <th>0</th>\n",
       "      <td>25</td>\n",
       "      <td>1</td>\n",
       "      <td>0</td>\n",
       "      <td>1</td>\n",
       "      <td>1</td>\n",
       "      <td>1</td>\n",
       "      <td>2473</td>\n",
       "      <td>18</td>\n",
       "      <td>4</td>\n",
       "      <td>1</td>\n",
       "    </tr>\n",
       "    <tr>\n",
       "      <th>1</th>\n",
       "      <td>21</td>\n",
       "      <td>1</td>\n",
       "      <td>1</td>\n",
       "      <td>2</td>\n",
       "      <td>1</td>\n",
       "      <td>1</td>\n",
       "      <td>1987</td>\n",
       "      <td>24</td>\n",
       "      <td>5</td>\n",
       "      <td>1</td>\n",
       "    </tr>\n",
       "    <tr>\n",
       "      <th>2</th>\n",
       "      <td>26</td>\n",
       "      <td>0</td>\n",
       "      <td>2</td>\n",
       "      <td>1</td>\n",
       "      <td>1</td>\n",
       "      <td>2</td>\n",
       "      <td>9960</td>\n",
       "      <td>48</td>\n",
       "      <td>4</td>\n",
       "      <td>1</td>\n",
       "    </tr>\n",
       "    <tr>\n",
       "      <th>3</th>\n",
       "      <td>35</td>\n",
       "      <td>1</td>\n",
       "      <td>2</td>\n",
       "      <td>1</td>\n",
       "      <td>1</td>\n",
       "      <td>1</td>\n",
       "      <td>691</td>\n",
       "      <td>12</td>\n",
       "      <td>1</td>\n",
       "      <td>1</td>\n",
       "    </tr>\n",
       "  </tbody>\n",
       "</table>\n",
       "</div>"
      ],
      "text/plain": [
       "   Age  Sex  Job  Housing  Saving accounts  Checking account  Credit amount  \\\n",
       "0   25    1    0        1                1                 1           2473   \n",
       "1   21    1    1        2                1                 1           1987   \n",
       "2   26    0    2        1                1                 2           9960   \n",
       "3   35    1    2        1                1                 1            691   \n",
       "\n",
       "   Duration  Purpose  Risk  \n",
       "0        18        4     1  \n",
       "1        24        5     1  \n",
       "2        48        4     1  \n",
       "3        12        1     1  "
      ]
     },
     "execution_count": 285,
     "metadata": {},
     "output_type": "execute_result"
    }
   ],
   "source": [
    "x_factual= pd.DataFrame(x_factual)\n",
    "x_factual.columns = x_labels\n",
    "x_factual['Risk'] = y_factual\n",
    "x_factual"
   ]
  },
  {
   "cell_type": "code",
   "execution_count": null,
   "metadata": {},
   "outputs": [
    {
     "name": "stdout",
     "output_type": "stream",
     "text": [
      "----LGBMClassifier.pkl model has been loaded----\n",
      "---- predictions have been made----\n"
     ]
    },
    {
     "data": {
      "text/html": [
       "<div>\n",
       "<style scoped>\n",
       "    .dataframe tbody tr th:only-of-type {\n",
       "        vertical-align: middle;\n",
       "    }\n",
       "\n",
       "    .dataframe tbody tr th {\n",
       "        vertical-align: top;\n",
       "    }\n",
       "\n",
       "    .dataframe thead th {\n",
       "        text-align: right;\n",
       "    }\n",
       "</style>\n",
       "<table border=\"1\" class=\"dataframe\">\n",
       "  <thead>\n",
       "    <tr style=\"text-align: right;\">\n",
       "      <th></th>\n",
       "      <th>Age</th>\n",
       "      <th>Sex</th>\n",
       "      <th>Job</th>\n",
       "      <th>Housing</th>\n",
       "      <th>Saving accounts</th>\n",
       "      <th>Checking account</th>\n",
       "      <th>Credit amount</th>\n",
       "      <th>Duration</th>\n",
       "      <th>Purpose</th>\n",
       "      <th>Risk</th>\n",
       "    </tr>\n",
       "  </thead>\n",
       "  <tbody>\n",
       "    <tr>\n",
       "      <th>0</th>\n",
       "      <td>25</td>\n",
       "      <td>1</td>\n",
       "      <td>0</td>\n",
       "      <td>1</td>\n",
       "      <td>1</td>\n",
       "      <td>1</td>\n",
       "      <td>5557</td>\n",
       "      <td>18</td>\n",
       "      <td>4</td>\n",
       "      <td>0</td>\n",
       "    </tr>\n",
       "    <tr>\n",
       "      <th>1</th>\n",
       "      <td>65</td>\n",
       "      <td>1</td>\n",
       "      <td>1</td>\n",
       "      <td>2</td>\n",
       "      <td>1</td>\n",
       "      <td>1</td>\n",
       "      <td>1987</td>\n",
       "      <td>24</td>\n",
       "      <td>5</td>\n",
       "      <td>0</td>\n",
       "    </tr>\n",
       "    <tr>\n",
       "      <th>2</th>\n",
       "      <td>26</td>\n",
       "      <td>0</td>\n",
       "      <td>2</td>\n",
       "      <td>1</td>\n",
       "      <td>0</td>\n",
       "      <td>2</td>\n",
       "      <td>9960</td>\n",
       "      <td>48</td>\n",
       "      <td>4</td>\n",
       "      <td>0</td>\n",
       "    </tr>\n",
       "    <tr>\n",
       "      <th>3</th>\n",
       "      <td>35</td>\n",
       "      <td>1</td>\n",
       "      <td>2</td>\n",
       "      <td>1</td>\n",
       "      <td>1</td>\n",
       "      <td>1</td>\n",
       "      <td>476</td>\n",
       "      <td>12</td>\n",
       "      <td>5</td>\n",
       "      <td>1</td>\n",
       "    </tr>\n",
       "  </tbody>\n",
       "</table>\n",
       "</div>"
      ],
      "text/plain": [
       "   Age  Sex  Job  Housing  Saving accounts  Checking account  Credit amount  \\\n",
       "0   25    1    0        1                1                 1           5557   \n",
       "1   65    1    1        2                1                 1           1987   \n",
       "2   26    0    2        1                0                 2           9960   \n",
       "3   35    1    2        1                1                 1            476   \n",
       "\n",
       "   Duration  Purpose  Risk  \n",
       "0        18        4     0  \n",
       "1        24        5     0  \n",
       "2        48        4     0  \n",
       "3        12        5     1  "
      ]
     },
     "execution_count": 286,
     "metadata": {},
     "output_type": "execute_result"
    }
   ],
   "source": [
    "x_action_constrained_ce = pd.DataFrame(x_action_constrained)\n",
    "y_action_constrained_ce = lgbmclassifier.predict(x_action_constrained_ce)\n",
    "x_action_constrained_ce.columns = x_labels\n",
    "x_action_constrained_ce['Risk'] = y_action_constrained_ce\n",
    "x_action_constrained_ce"
   ]
  }
 ],
 "metadata": {
  "kernelspec": {
   "display_name": "COLA",
   "language": "python",
   "name": "python3"
  },
  "language_info": {
   "codemirror_mode": {
    "name": "ipython",
    "version": 3
   },
   "file_extension": ".py",
   "mimetype": "text/x-python",
   "name": "python",
   "nbconvert_exporter": "python",
   "pygments_lexer": "ipython3",
   "version": "3.10.13"
  }
 },
 "nbformat": 4,
 "nbformat_minor": 2
}
