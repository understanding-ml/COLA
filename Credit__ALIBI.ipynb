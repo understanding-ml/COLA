{
 "cells": [
  {
   "cell_type": "code",
   "execution_count": 47,
   "metadata": {},
   "outputs": [],
   "source": [
    "import dataset\n",
    "import pandas as pd\n",
    "from xai_cola import data,ml_model,counterfactual_explainer,cola,counterfactual_refiner\n",
    "from xai_cola.cola_explainer import COunterfactualwithLimitedActions\n",
    "import joblib\n",
    "import pickle\n",
    "\n",
    "%reload_ext autoreload\n",
    "%autoreload 2"
   ]
  },
  {
   "cell_type": "code",
   "execution_count": 48,
   "metadata": {},
   "outputs": [
    {
     "data": {
      "text/html": [
       "<div>\n",
       "<style scoped>\n",
       "    .dataframe tbody tr th:only-of-type {\n",
       "        vertical-align: middle;\n",
       "    }\n",
       "\n",
       "    .dataframe tbody tr th {\n",
       "        vertical-align: top;\n",
       "    }\n",
       "\n",
       "    .dataframe thead th {\n",
       "        text-align: right;\n",
       "    }\n",
       "</style>\n",
       "<table border=\"1\" class=\"dataframe\">\n",
       "  <thead>\n",
       "    <tr style=\"text-align: right;\">\n",
       "      <th></th>\n",
       "      <th>Age</th>\n",
       "      <th>Sex</th>\n",
       "      <th>Job</th>\n",
       "      <th>Housing</th>\n",
       "      <th>Saving accounts</th>\n",
       "      <th>Checking account</th>\n",
       "      <th>Credit amount</th>\n",
       "      <th>Duration</th>\n",
       "      <th>Purpose</th>\n",
       "      <th>Risk</th>\n",
       "    </tr>\n",
       "  </thead>\n",
       "  <tbody>\n",
       "    <tr>\n",
       "      <th>0</th>\n",
       "      <td>67</td>\n",
       "      <td>1</td>\n",
       "      <td>2</td>\n",
       "      <td>1</td>\n",
       "      <td>0</td>\n",
       "      <td>1</td>\n",
       "      <td>1169</td>\n",
       "      <td>6</td>\n",
       "      <td>5</td>\n",
       "      <td>0</td>\n",
       "    </tr>\n",
       "    <tr>\n",
       "      <th>1</th>\n",
       "      <td>22</td>\n",
       "      <td>0</td>\n",
       "      <td>2</td>\n",
       "      <td>1</td>\n",
       "      <td>1</td>\n",
       "      <td>2</td>\n",
       "      <td>5951</td>\n",
       "      <td>48</td>\n",
       "      <td>5</td>\n",
       "      <td>1</td>\n",
       "    </tr>\n",
       "  </tbody>\n",
       "</table>\n",
       "</div>"
      ],
      "text/plain": [
       "   Age  Sex  Job  Housing  Saving accounts  Checking account  Credit amount  \\\n",
       "0   67    1    2        1                0                 1           1169   \n",
       "1   22    0    2        1                1                 2           5951   \n",
       "\n",
       "   Duration  Purpose  Risk  \n",
       "0         6        5     0  \n",
       "1        48        5     1  "
      ]
     },
     "execution_count": 48,
     "metadata": {},
     "output_type": "execute_result"
    }
   ],
   "source": [
    "dataset1 =dataset.GermanCreditDataset()\n",
    "df1 = dataset1.get_dataframe()\n",
    "df1.head(2)"
   ]
  },
  {
   "cell_type": "code",
   "execution_count": 49,
   "metadata": {},
   "outputs": [
    {
     "data": {
      "text/plain": [
       "Index(['Age', 'Sex', 'Job', 'Housing', 'Saving accounts', 'Checking account',\n",
       "       'Credit amount', 'Duration', 'Purpose'],\n",
       "      dtype='object')"
      ]
     },
     "execution_count": 49,
     "metadata": {},
     "output_type": "execute_result"
    }
   ],
   "source": [
    "x_without_target = df1.drop(columns=['Risk']).copy()\n",
    "x_without_target.head(2)\n",
    "columns_name = x_without_target.columns\n",
    "columns_name"
   ]
  },
  {
   "cell_type": "markdown",
   "metadata": {},
   "source": [
    "#### 1.Configuration"
   ]
  },
  {
   "cell_type": "code",
   "execution_count": 50,
   "metadata": {},
   "outputs": [
    {
     "name": "stdout",
     "output_type": "stream",
     "text": [
      "---scaledLGBMClassifier.pkl has already been loaded---\n"
     ]
    }
   ],
   "source": [
    "scaled_lgbmcClassifier = joblib.load('scaled_LGBMClassifier.pkl')\n",
    "print(f'---scaledLGBMClassifier.pkl has already been loaded---')"
   ]
  },
  {
   "cell_type": "code",
   "execution_count": 51,
   "metadata": {},
   "outputs": [
    {
     "name": "stdout",
     "output_type": "stream",
     "text": [
      "--- scaler has already been loaded ---\n"
     ]
    }
   ],
   "source": [
    "# 从文件加载Scaler\n",
    "with open('scaler.pkl', 'rb') as f:\n",
    "    loaded_scaler = pickle.load(f)\n",
    "print(f'--- scaler has already been loaded ---')"
   ]
  },
  {
   "cell_type": "code",
   "execution_count": 52,
   "metadata": {},
   "outputs": [],
   "source": [
    "a = loaded_scaler.fit_transform(df1)\n",
    "b = loaded_scaler.fit_transform(x_without_target)"
   ]
  },
  {
   "cell_type": "code",
   "execution_count": 53,
   "metadata": {},
   "outputs": [],
   "source": [
    "scaled_data = loaded_scaler.fit_transform(x_without_target)"
   ]
  },
  {
   "cell_type": "code",
   "execution_count": 54,
   "metadata": {},
   "outputs": [
    {
     "data": {
      "text/plain": [
       "array([[ 2.76645648,  0.67028006,  0.14694918, ..., -0.74513141,\n",
       "        -1.23647786,  1.07326286],\n",
       "       [-1.19140394, -1.49191369,  0.14694918, ...,  0.94981679,\n",
       "         2.24819436,  1.07326286],\n",
       "       [ 1.18331231,  0.67028006, -1.38377145, ..., -0.41656241,\n",
       "        -0.73866754,  0.06170503],\n",
       "       ...,\n",
       "       [ 0.21583532,  0.67028006,  0.14694918, ..., -0.87450324,\n",
       "        -0.73866754,  1.07326286],\n",
       "       [-1.10345149,  0.67028006,  0.14694918, ..., -0.50552769,\n",
       "         1.9992892 ,  1.07326286],\n",
       "       [-0.75164167,  0.67028006,  0.14694918, ...,  0.46245715,\n",
       "         1.9992892 , -0.9498528 ]])"
      ]
     },
     "execution_count": 54,
     "metadata": {},
     "output_type": "execute_result"
    }
   ],
   "source": [
    "scaled_data"
   ]
  },
  {
   "cell_type": "code",
   "execution_count": 55,
   "metadata": {},
   "outputs": [
    {
     "data": {
      "text/plain": [
       "(1000, 9)"
      ]
     },
     "execution_count": 55,
     "metadata": {},
     "output_type": "execute_result"
    }
   ],
   "source": [
    "scaled_data.shape"
   ]
  },
  {
   "cell_type": "code",
   "execution_count": 56,
   "metadata": {},
   "outputs": [],
   "source": [
    "data1 = data.NumpyData(scaled_data, target_name='Risk', feature_names=columns_name)   # numpydata has the get_x() method"
   ]
  },
  {
   "cell_type": "code",
   "execution_count": 57,
   "metadata": {},
   "outputs": [],
   "source": [
    "scaled_ml_model = ml_model.Model(\n",
    "    model = scaled_lgbmcClassifier,\n",
    "    backend = 'sklearn'\n",
    "    )"
   ]
  },
  {
   "cell_type": "markdown",
   "metadata": {},
   "source": [
    "### use the alibi counterfactual explanier"
   ]
  },
  {
   "cell_type": "code",
   "execution_count": 70,
   "metadata": {},
   "outputs": [
    {
     "data": {
      "text/html": [
       "<div>\n",
       "<style scoped>\n",
       "    .dataframe tbody tr th:only-of-type {\n",
       "        vertical-align: middle;\n",
       "    }\n",
       "\n",
       "    .dataframe tbody tr th {\n",
       "        vertical-align: top;\n",
       "    }\n",
       "\n",
       "    .dataframe thead th {\n",
       "        text-align: right;\n",
       "    }\n",
       "</style>\n",
       "<table border=\"1\" class=\"dataframe\">\n",
       "  <thead>\n",
       "    <tr style=\"text-align: right;\">\n",
       "      <th></th>\n",
       "      <th>Age</th>\n",
       "      <th>Sex</th>\n",
       "      <th>Job</th>\n",
       "      <th>Housing</th>\n",
       "      <th>Saving accounts</th>\n",
       "      <th>Checking account</th>\n",
       "      <th>Credit amount</th>\n",
       "      <th>Duration</th>\n",
       "      <th>Purpose</th>\n",
       "    </tr>\n",
       "  </thead>\n",
       "  <tbody>\n",
       "    <tr>\n",
       "      <th>0</th>\n",
       "      <td>2.766456</td>\n",
       "      <td>0.670280</td>\n",
       "      <td>0.146949</td>\n",
       "      <td>-0.133710</td>\n",
       "      <td>-1.231393</td>\n",
       "      <td>-0.001045</td>\n",
       "      <td>-0.745131</td>\n",
       "      <td>-1.236478</td>\n",
       "      <td>1.073263</td>\n",
       "    </tr>\n",
       "    <tr>\n",
       "      <th>1</th>\n",
       "      <td>-1.191404</td>\n",
       "      <td>-1.491914</td>\n",
       "      <td>0.146949</td>\n",
       "      <td>-0.133710</td>\n",
       "      <td>-0.196609</td>\n",
       "      <td>1.044372</td>\n",
       "      <td>0.949817</td>\n",
       "      <td>2.248194</td>\n",
       "      <td>1.073263</td>\n",
       "    </tr>\n",
       "    <tr>\n",
       "      <th>2</th>\n",
       "      <td>1.183312</td>\n",
       "      <td>0.670280</td>\n",
       "      <td>-1.383771</td>\n",
       "      <td>-0.133710</td>\n",
       "      <td>-0.196609</td>\n",
       "      <td>-1.046463</td>\n",
       "      <td>-0.416562</td>\n",
       "      <td>-0.738668</td>\n",
       "      <td>0.061705</td>\n",
       "    </tr>\n",
       "    <tr>\n",
       "      <th>3</th>\n",
       "      <td>0.831502</td>\n",
       "      <td>0.670280</td>\n",
       "      <td>0.146949</td>\n",
       "      <td>-2.016956</td>\n",
       "      <td>-0.196609</td>\n",
       "      <td>-0.001045</td>\n",
       "      <td>1.634247</td>\n",
       "      <td>1.750384</td>\n",
       "      <td>0.567484</td>\n",
       "    </tr>\n",
       "    <tr>\n",
       "      <th>4</th>\n",
       "      <td>1.535122</td>\n",
       "      <td>0.670280</td>\n",
       "      <td>0.146949</td>\n",
       "      <td>-2.016956</td>\n",
       "      <td>-0.196609</td>\n",
       "      <td>-0.001045</td>\n",
       "      <td>0.566664</td>\n",
       "      <td>0.256953</td>\n",
       "      <td>-0.949853</td>\n",
       "    </tr>\n",
       "    <tr>\n",
       "      <th>...</th>\n",
       "      <td>...</td>\n",
       "      <td>...</td>\n",
       "      <td>...</td>\n",
       "      <td>...</td>\n",
       "      <td>...</td>\n",
       "      <td>...</td>\n",
       "      <td>...</td>\n",
       "      <td>...</td>\n",
       "      <td>...</td>\n",
       "    </tr>\n",
       "    <tr>\n",
       "      <th>995</th>\n",
       "      <td>-0.399832</td>\n",
       "      <td>-1.491914</td>\n",
       "      <td>-1.383771</td>\n",
       "      <td>-0.133710</td>\n",
       "      <td>-0.196609</td>\n",
       "      <td>-1.046463</td>\n",
       "      <td>-0.544162</td>\n",
       "      <td>-0.738668</td>\n",
       "      <td>0.567484</td>\n",
       "    </tr>\n",
       "    <tr>\n",
       "      <th>996</th>\n",
       "      <td>0.391740</td>\n",
       "      <td>0.670280</td>\n",
       "      <td>1.677670</td>\n",
       "      <td>-0.133710</td>\n",
       "      <td>-0.196609</td>\n",
       "      <td>-0.001045</td>\n",
       "      <td>0.207612</td>\n",
       "      <td>0.754763</td>\n",
       "      <td>-0.949853</td>\n",
       "    </tr>\n",
       "    <tr>\n",
       "      <th>997</th>\n",
       "      <td>0.215835</td>\n",
       "      <td>0.670280</td>\n",
       "      <td>0.146949</td>\n",
       "      <td>-0.133710</td>\n",
       "      <td>-0.196609</td>\n",
       "      <td>-1.046463</td>\n",
       "      <td>-0.874503</td>\n",
       "      <td>-0.738668</td>\n",
       "      <td>1.073263</td>\n",
       "    </tr>\n",
       "    <tr>\n",
       "      <th>998</th>\n",
       "      <td>-1.103451</td>\n",
       "      <td>0.670280</td>\n",
       "      <td>0.146949</td>\n",
       "      <td>-2.016956</td>\n",
       "      <td>-0.196609</td>\n",
       "      <td>-0.001045</td>\n",
       "      <td>-0.505528</td>\n",
       "      <td>1.999289</td>\n",
       "      <td>1.073263</td>\n",
       "    </tr>\n",
       "    <tr>\n",
       "      <th>999</th>\n",
       "      <td>-0.751642</td>\n",
       "      <td>0.670280</td>\n",
       "      <td>0.146949</td>\n",
       "      <td>-0.133710</td>\n",
       "      <td>0.838175</td>\n",
       "      <td>1.044372</td>\n",
       "      <td>0.462457</td>\n",
       "      <td>1.999289</td>\n",
       "      <td>-0.949853</td>\n",
       "    </tr>\n",
       "  </tbody>\n",
       "</table>\n",
       "<p>1000 rows × 9 columns</p>\n",
       "</div>"
      ],
      "text/plain": [
       "          Age       Sex       Job   Housing  Saving accounts  \\\n",
       "0    2.766456  0.670280  0.146949 -0.133710        -1.231393   \n",
       "1   -1.191404 -1.491914  0.146949 -0.133710        -0.196609   \n",
       "2    1.183312  0.670280 -1.383771 -0.133710        -0.196609   \n",
       "3    0.831502  0.670280  0.146949 -2.016956        -0.196609   \n",
       "4    1.535122  0.670280  0.146949 -2.016956        -0.196609   \n",
       "..        ...       ...       ...       ...              ...   \n",
       "995 -0.399832 -1.491914 -1.383771 -0.133710        -0.196609   \n",
       "996  0.391740  0.670280  1.677670 -0.133710        -0.196609   \n",
       "997  0.215835  0.670280  0.146949 -0.133710        -0.196609   \n",
       "998 -1.103451  0.670280  0.146949 -2.016956        -0.196609   \n",
       "999 -0.751642  0.670280  0.146949 -0.133710         0.838175   \n",
       "\n",
       "     Checking account  Credit amount  Duration   Purpose  \n",
       "0           -0.001045      -0.745131 -1.236478  1.073263  \n",
       "1            1.044372       0.949817  2.248194  1.073263  \n",
       "2           -1.046463      -0.416562 -0.738668  0.061705  \n",
       "3           -0.001045       1.634247  1.750384  0.567484  \n",
       "4           -0.001045       0.566664  0.256953 -0.949853  \n",
       "..                ...            ...       ...       ...  \n",
       "995         -1.046463      -0.544162 -0.738668  0.567484  \n",
       "996         -0.001045       0.207612  0.754763 -0.949853  \n",
       "997         -1.046463      -0.874503 -0.738668  1.073263  \n",
       "998         -0.001045      -0.505528  1.999289  1.073263  \n",
       "999          1.044372       0.462457  1.999289 -0.949853  \n",
       "\n",
       "[1000 rows x 9 columns]"
      ]
     },
     "execution_count": 70,
     "metadata": {},
     "output_type": "execute_result"
    }
   ],
   "source": [
    "data1.get_x()"
   ]
  },
  {
   "cell_type": "code",
   "execution_count": 71,
   "metadata": {},
   "outputs": [
    {
     "name": "stdout",
     "output_type": "stream",
     "text": [
      "Predicted class for factual instance 0: [1]\n",
      "Target class for counterfactual instance 0: 0\n",
      "Predicted class for factual instance 1: [1]\n",
      "Target class for counterfactual instance 1: 0\n",
      "Predicted class for factual instance 2: [1]\n",
      "Target class for counterfactual instance 2: 0\n",
      "Predicted class for factual instance 3: [1]\n",
      "Target class for counterfactual instance 3: 0\n"
     ]
    }
   ],
   "source": [
    "from xai_cola.counterfactual_explainer import AlibiCounterfactualInstances \n",
    "alibi_test = AlibiCounterfactualInstances(ml_model=scaled_ml_model)"
   ]
  },
  {
   "cell_type": "code",
   "execution_count": 75,
   "metadata": {},
   "outputs": [
    {
     "name": "stdout",
     "output_type": "stream",
     "text": [
      "        Age       Sex       Job   Housing  Saving accounts  Checking account  \\\n",
      "0 -0.663689 -1.491914 -1.383771 -0.133710        -0.196609          2.089789   \n",
      "1 -0.839594  0.670280  0.146949 -0.133710        -0.196609          2.089789   \n",
      "2  1.535122  0.670280  1.677670 -2.016956        -0.196609         -0.001045   \n",
      "3  0.655598  0.670280  0.146949  1.749535        -0.196609         -0.001045   \n",
      "\n",
      "   Credit amount  Duration   Purpose  \n",
      "0      -0.895415 -0.987573  1.073263  \n",
      "1       0.332731  1.252574  1.073263  \n",
      "2       1.628221 -0.738668  0.567484  \n",
      "3      -0.229062 -0.406794 -0.949853  \n"
     ]
    }
   ],
   "source": [
    "a,b = alibi_test.generate_counterfactuals(\n",
    "    data=data1, \n",
    "    target_proba=0.51,\n",
    "    tolerance=0.2,\n",
    "    lam_init=1e-7,\n",
    "    max_iter=8000,\n",
    "    max_lam_steps=30\n",
    ")\n",
    "a_df = pd.DataFrame(a, columns=columns_name)\n",
    "print(a_df)"
   ]
  },
  {
   "cell_type": "code",
   "execution_count": 74,
   "metadata": {},
   "outputs": [
    {
     "name": "stdout",
     "output_type": "stream",
     "text": [
      "        Age       Sex       Job   Housing  Saving accounts  Checking account  \\\n",
      "0 -0.663689 -1.491914 -1.383771 -0.133710        -0.196609          2.089789   \n",
      "1 -0.839594  0.670280  0.146949 -0.133710        -0.196609          2.089789   \n",
      "2  1.535122  0.670280  1.677670 -2.016956        -0.196609          0.000725   \n",
      "3  0.655598  0.670280  0.146949  1.749535        -0.196609          0.049193   \n",
      "\n",
      "   Credit amount  Duration   Purpose  \n",
      "0      -0.886748 -0.987573  1.073263  \n",
      "1       0.345637  1.252574  1.073263  \n",
      "2       1.628221 -0.738668  0.567484  \n",
      "3      -0.203897 -0.406794 -0.949853  \n"
     ]
    }
   ],
   "source": [
    "b = alibi_test.counterfactual\n",
    "b_df = pd.DataFrame(b,columns=columns_name)\n",
    "print(b_df)"
   ]
  },
  {
   "cell_type": "code",
   "execution_count": null,
   "metadata": {},
   "outputs": [],
   "source": []
  }
 ],
 "metadata": {
  "kernelspec": {
   "display_name": "COLA",
   "language": "python",
   "name": "python3"
  },
  "language_info": {
   "codemirror_mode": {
    "name": "ipython",
    "version": 3
   },
   "file_extension": ".py",
   "mimetype": "text/x-python",
   "name": "python",
   "nbconvert_exporter": "python",
   "pygments_lexer": "ipython3",
   "version": "3.10.13"
  }
 },
 "nbformat": 4,
 "nbformat_minor": 2
}
