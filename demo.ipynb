{
 "cells": [
  {
   "cell_type": "code",
   "execution_count": 17,
   "metadata": {},
   "outputs": [],
   "source": [
    "%reload_ext autoreload\n",
    "%autoreload 2"
   ]
  },
  {
   "cell_type": "markdown",
   "metadata": {},
   "source": [
    "#### 0. Pick the data to be factual(\"Risk\"=1)"
   ]
  },
  {
   "cell_type": "code",
   "execution_count": 18,
   "metadata": {},
   "outputs": [
    {
     "name": "stderr",
     "output_type": "stream",
     "text": [
      "Downcasting behavior in `replace` is deprecated and will be removed in a future version. To retain the old behavior, explicitly call `result.infer_objects(copy=False)`. To opt-in to the future behavior, set `pd.set_option('future.no_silent_downcasting', True)`\n"
     ]
    },
    {
     "data": {
      "text/html": [
       "<div>\n",
       "<style scoped>\n",
       "    .dataframe tbody tr th:only-of-type {\n",
       "        vertical-align: middle;\n",
       "    }\n",
       "\n",
       "    .dataframe tbody tr th {\n",
       "        vertical-align: top;\n",
       "    }\n",
       "\n",
       "    .dataframe thead th {\n",
       "        text-align: right;\n",
       "    }\n",
       "</style>\n",
       "<table border=\"1\" class=\"dataframe\">\n",
       "  <thead>\n",
       "    <tr style=\"text-align: right;\">\n",
       "      <th></th>\n",
       "      <th>Age</th>\n",
       "      <th>Sex</th>\n",
       "      <th>Job</th>\n",
       "      <th>Housing</th>\n",
       "      <th>Saving accounts</th>\n",
       "      <th>Checking account</th>\n",
       "      <th>Credit amount</th>\n",
       "      <th>Duration</th>\n",
       "      <th>Purpose</th>\n",
       "      <th>Risk</th>\n",
       "    </tr>\n",
       "  </thead>\n",
       "  <tbody>\n",
       "    <tr>\n",
       "      <th>0</th>\n",
       "      <td>67</td>\n",
       "      <td>1</td>\n",
       "      <td>2</td>\n",
       "      <td>1</td>\n",
       "      <td>0</td>\n",
       "      <td>1</td>\n",
       "      <td>1169</td>\n",
       "      <td>6</td>\n",
       "      <td>5</td>\n",
       "      <td>0</td>\n",
       "    </tr>\n",
       "    <tr>\n",
       "      <th>1</th>\n",
       "      <td>22</td>\n",
       "      <td>0</td>\n",
       "      <td>2</td>\n",
       "      <td>1</td>\n",
       "      <td>1</td>\n",
       "      <td>2</td>\n",
       "      <td>5951</td>\n",
       "      <td>48</td>\n",
       "      <td>5</td>\n",
       "      <td>1</td>\n",
       "    </tr>\n",
       "    <tr>\n",
       "      <th>2</th>\n",
       "      <td>49</td>\n",
       "      <td>1</td>\n",
       "      <td>1</td>\n",
       "      <td>1</td>\n",
       "      <td>1</td>\n",
       "      <td>0</td>\n",
       "      <td>2096</td>\n",
       "      <td>12</td>\n",
       "      <td>3</td>\n",
       "      <td>0</td>\n",
       "    </tr>\n",
       "  </tbody>\n",
       "</table>\n",
       "</div>"
      ],
      "text/plain": [
       "   Age  Sex  Job  Housing  Saving accounts  Checking account  Credit amount  \\\n",
       "0   67    1    2        1                0                 1           1169   \n",
       "1   22    0    2        1                1                 2           5951   \n",
       "2   49    1    1        1                1                 0           2096   \n",
       "\n",
       "   Duration  Purpose  Risk  \n",
       "0         6        5     0  \n",
       "1        48        5     1  \n",
       "2        12        3     0  "
      ]
     },
     "execution_count": 18,
     "metadata": {},
     "output_type": "execute_result"
    }
   ],
   "source": [
    "from test_dataset.german_credit import GermanCreditDataset\n",
    "dataset = GermanCreditDataset()\n",
    "df = dataset.get_dataframe()\n",
    "df.head(3)"
   ]
  },
  {
   "cell_type": "code",
   "execution_count": 19,
   "metadata": {},
   "outputs": [
    {
     "data": {
      "text/html": [
       "<div>\n",
       "<style scoped>\n",
       "    .dataframe tbody tr th:only-of-type {\n",
       "        vertical-align: middle;\n",
       "    }\n",
       "\n",
       "    .dataframe tbody tr th {\n",
       "        vertical-align: top;\n",
       "    }\n",
       "\n",
       "    .dataframe thead th {\n",
       "        text-align: right;\n",
       "    }\n",
       "</style>\n",
       "<table border=\"1\" class=\"dataframe\">\n",
       "  <thead>\n",
       "    <tr style=\"text-align: right;\">\n",
       "      <th></th>\n",
       "      <th>Age</th>\n",
       "      <th>Sex</th>\n",
       "      <th>Job</th>\n",
       "      <th>Housing</th>\n",
       "      <th>Saving accounts</th>\n",
       "      <th>Checking account</th>\n",
       "      <th>Credit amount</th>\n",
       "      <th>Duration</th>\n",
       "      <th>Purpose</th>\n",
       "      <th>Risk</th>\n",
       "    </tr>\n",
       "  </thead>\n",
       "  <tbody>\n",
       "    <tr>\n",
       "      <th>169</th>\n",
       "      <td>31</td>\n",
       "      <td>1</td>\n",
       "      <td>2</td>\n",
       "      <td>1</td>\n",
       "      <td>1</td>\n",
       "      <td>2</td>\n",
       "      <td>1935</td>\n",
       "      <td>24</td>\n",
       "      <td>0</td>\n",
       "      <td>1</td>\n",
       "    </tr>\n",
       "    <tr>\n",
       "      <th>249</th>\n",
       "      <td>22</td>\n",
       "      <td>0</td>\n",
       "      <td>2</td>\n",
       "      <td>2</td>\n",
       "      <td>1</td>\n",
       "      <td>0</td>\n",
       "      <td>433</td>\n",
       "      <td>18</td>\n",
       "      <td>5</td>\n",
       "      <td>1</td>\n",
       "    </tr>\n",
       "    <tr>\n",
       "      <th>973</th>\n",
       "      <td>36</td>\n",
       "      <td>1</td>\n",
       "      <td>2</td>\n",
       "      <td>2</td>\n",
       "      <td>1</td>\n",
       "      <td>1</td>\n",
       "      <td>7297</td>\n",
       "      <td>60</td>\n",
       "      <td>0</td>\n",
       "      <td>1</td>\n",
       "    </tr>\n",
       "    <tr>\n",
       "      <th>700</th>\n",
       "      <td>29</td>\n",
       "      <td>0</td>\n",
       "      <td>1</td>\n",
       "      <td>2</td>\n",
       "      <td>3</td>\n",
       "      <td>0</td>\n",
       "      <td>1123</td>\n",
       "      <td>12</td>\n",
       "      <td>4</td>\n",
       "      <td>1</td>\n",
       "    </tr>\n",
       "    <tr>\n",
       "      <th>37</th>\n",
       "      <td>37</td>\n",
       "      <td>1</td>\n",
       "      <td>2</td>\n",
       "      <td>1</td>\n",
       "      <td>1</td>\n",
       "      <td>3</td>\n",
       "      <td>2100</td>\n",
       "      <td>18</td>\n",
       "      <td>5</td>\n",
       "      <td>1</td>\n",
       "    </tr>\n",
       "  </tbody>\n",
       "</table>\n",
       "</div>"
      ],
      "text/plain": [
       "     Age  Sex  Job  Housing  Saving accounts  Checking account  Credit amount  \\\n",
       "169   31    1    2        1                1                 2           1935   \n",
       "249   22    0    2        2                1                 0            433   \n",
       "973   36    1    2        2                1                 1           7297   \n",
       "700   29    0    1        2                3                 0           1123   \n",
       "37    37    1    2        1                1                 3           2100   \n",
       "\n",
       "     Duration  Purpose  Risk  \n",
       "169        24        0     1  \n",
       "249        18        5     1  \n",
       "973        60        0     1  \n",
       "700        12        4     1  \n",
       "37         18        5     1  "
      ]
     },
     "execution_count": 19,
     "metadata": {},
     "output_type": "execute_result"
    }
   ],
   "source": [
    "df_Risk_1 = df[df['Risk'] == 1]\n",
    "df_Risk_1 = df_Risk_1.sample(5)\n",
    "df_Risk_1.head()"
   ]
  },
  {
   "cell_type": "code",
   "execution_count": 20,
   "metadata": {},
   "outputs": [
    {
     "data": {
      "text/html": [
       "<div>\n",
       "<style scoped>\n",
       "    .dataframe tbody tr th:only-of-type {\n",
       "        vertical-align: middle;\n",
       "    }\n",
       "\n",
       "    .dataframe tbody tr th {\n",
       "        vertical-align: top;\n",
       "    }\n",
       "\n",
       "    .dataframe thead th {\n",
       "        text-align: right;\n",
       "    }\n",
       "</style>\n",
       "<table border=\"1\" class=\"dataframe\">\n",
       "  <thead>\n",
       "    <tr style=\"text-align: right;\">\n",
       "      <th></th>\n",
       "      <th>Age</th>\n",
       "      <th>Sex</th>\n",
       "      <th>Job</th>\n",
       "      <th>Housing</th>\n",
       "      <th>Saving accounts</th>\n",
       "      <th>Checking account</th>\n",
       "      <th>Credit amount</th>\n",
       "      <th>Duration</th>\n",
       "      <th>Purpose</th>\n",
       "    </tr>\n",
       "  </thead>\n",
       "  <tbody>\n",
       "    <tr>\n",
       "      <th>169</th>\n",
       "      <td>31</td>\n",
       "      <td>1</td>\n",
       "      <td>2</td>\n",
       "      <td>1</td>\n",
       "      <td>1</td>\n",
       "      <td>2</td>\n",
       "      <td>1935</td>\n",
       "      <td>24</td>\n",
       "      <td>0</td>\n",
       "    </tr>\n",
       "    <tr>\n",
       "      <th>249</th>\n",
       "      <td>22</td>\n",
       "      <td>0</td>\n",
       "      <td>2</td>\n",
       "      <td>2</td>\n",
       "      <td>1</td>\n",
       "      <td>0</td>\n",
       "      <td>433</td>\n",
       "      <td>18</td>\n",
       "      <td>5</td>\n",
       "    </tr>\n",
       "    <tr>\n",
       "      <th>973</th>\n",
       "      <td>36</td>\n",
       "      <td>1</td>\n",
       "      <td>2</td>\n",
       "      <td>2</td>\n",
       "      <td>1</td>\n",
       "      <td>1</td>\n",
       "      <td>7297</td>\n",
       "      <td>60</td>\n",
       "      <td>0</td>\n",
       "    </tr>\n",
       "    <tr>\n",
       "      <th>700</th>\n",
       "      <td>29</td>\n",
       "      <td>0</td>\n",
       "      <td>1</td>\n",
       "      <td>2</td>\n",
       "      <td>3</td>\n",
       "      <td>0</td>\n",
       "      <td>1123</td>\n",
       "      <td>12</td>\n",
       "      <td>4</td>\n",
       "    </tr>\n",
       "    <tr>\n",
       "      <th>37</th>\n",
       "      <td>37</td>\n",
       "      <td>1</td>\n",
       "      <td>2</td>\n",
       "      <td>1</td>\n",
       "      <td>1</td>\n",
       "      <td>3</td>\n",
       "      <td>2100</td>\n",
       "      <td>18</td>\n",
       "      <td>5</td>\n",
       "    </tr>\n",
       "  </tbody>\n",
       "</table>\n",
       "</div>"
      ],
      "text/plain": [
       "     Age  Sex  Job  Housing  Saving accounts  Checking account  Credit amount  \\\n",
       "169   31    1    2        1                1                 2           1935   \n",
       "249   22    0    2        2                1                 0            433   \n",
       "973   36    1    2        2                1                 1           7297   \n",
       "700   29    0    1        2                3                 0           1123   \n",
       "37    37    1    2        1                1                 3           2100   \n",
       "\n",
       "     Duration  Purpose  \n",
       "169        24        0  \n",
       "249        18        5  \n",
       "973        60        0  \n",
       "700        12        4  \n",
       "37         18        5  "
      ]
     },
     "execution_count": 20,
     "metadata": {},
     "output_type": "execute_result"
    }
   ],
   "source": [
    "df_without_target = df_Risk_1.drop(columns=['Risk']).copy()\n",
    "df_without_target.head()"
   ]
  },
  {
   "cell_type": "code",
   "execution_count": 21,
   "metadata": {},
   "outputs": [
    {
     "data": {
      "text/plain": [
       "Index(['Age', 'Sex', 'Job', 'Housing', 'Saving accounts', 'Checking account',\n",
       "       'Credit amount', 'Duration', 'Purpose'],\n",
       "      dtype='object')"
      ]
     },
     "execution_count": 21,
     "metadata": {},
     "output_type": "execute_result"
    }
   ],
   "source": [
    "feature_names = df_without_target.columns\n",
    "feature_names"
   ]
  },
  {
   "cell_type": "markdown",
   "metadata": {},
   "source": [
    "#### 1. Initialize data interface"
   ]
  },
  {
   "cell_type": "code",
   "execution_count": 22,
   "metadata": {},
   "outputs": [],
   "source": [
    "from xai_cola import data_interface \n",
    "data1 = data_interface.PandasData(df_without_target, target_name='Risk')"
   ]
  },
  {
   "cell_type": "markdown",
   "metadata": {},
   "source": [
    "#### 2. Initialize model interface"
   ]
  },
  {
   "cell_type": "code",
   "execution_count": 23,
   "metadata": {},
   "outputs": [
    {
     "name": "stdout",
     "output_type": "stream",
     "text": [
      "----lgbm_GremanCredit.pkl model has been loaded----\n"
     ]
    }
   ],
   "source": [
    "import joblib\n",
    "lgbmcClassifier = joblib.load('lgbm_GremanCredit.pkl')\n",
    "print(f'----lgbm_GremanCredit.pkl model has been loaded----')"
   ]
  },
  {
   "cell_type": "code",
   "execution_count": 24,
   "metadata": {},
   "outputs": [],
   "source": [
    "from xai_cola import ml_model_interface\n",
    "ml_model1 = ml_model_interface.Model(model=lgbmcClassifier, backend=\"sklearn\")"
   ]
  },
  {
   "cell_type": "markdown",
   "metadata": {},
   "source": [
    "#### 3.Choose the CounterfactualExplanation Algorithm"
   ]
  },
  {
   "cell_type": "code",
   "execution_count": 25,
   "metadata": {},
   "outputs": [],
   "source": [
    "from counterfactual_explainer import DiCE\n",
    "explainer = DiCE(ml_model=ml_model1)"
   ]
  },
  {
   "cell_type": "code",
   "execution_count": 26,
   "metadata": {},
   "outputs": [
    {
     "name": "stderr",
     "output_type": "stream",
     "text": [
      "100%|██████████| 5/5 [00:00<00:00, 11.74it/s]"
     ]
    },
    {
     "name": "stdout",
     "output_type": "stream",
     "text": [
      "Factual: [[  31    1    2    1    1    2 1935   24    0]\n",
      " [  22    0    2    2    1    0  433   18    5]\n",
      " [  36    1    2    2    1    1 7297   60    0]\n",
      " [  29    0    1    2    3    0 1123   12    4]\n",
      " [  37    1    2    1    1    3 2100   18    5]]\n",
      "Counterfactual: [[  31    0    2    1    1    0 1935   24    0]\n",
      " [  37    0    2    2    3    0  433   18    5]\n",
      " [  36    1    2    2    3    1 7297   42    0]\n",
      " [  29    0    1    1    3    0 3989   12    4]\n",
      " [  29    1    2    1    1    0 2100   18    5]]\n"
     ]
    },
    {
     "name": "stderr",
     "output_type": "stream",
     "text": [
      "\n"
     ]
    }
   ],
   "source": [
    "factual, counterfactual = explainer.generate_counterfactuals(data=data1,\n",
    "                                                             factual_class=1,\n",
    "                                                             total_cfs=1)\n",
    "print(f'Factual: {factual}')\n",
    "print(f'Counterfactual: {counterfactual}')"
   ]
  },
  {
   "cell_type": "markdown",
   "metadata": {},
   "source": [
    "#### 4. Choose policy and make limitation"
   ]
  },
  {
   "cell_type": "code",
   "execution_count": 27,
   "metadata": {},
   "outputs": [
    {
     "name": "stdout",
     "output_type": "stream",
     "text": [
      "You choose the Policy: pshap With Optimal Transport Matching, Avalues_method is max\n"
     ]
    }
   ],
   "source": [
    "from xai_cola.counterfactual_limited_actions import COLA\n",
    "refiner = COLA(\n",
    "    data=data1,\n",
    "    ml_model=ml_model1,\n",
    "    x_factual=factual,\n",
    "    x_counterfactual=counterfactual,\n",
    ")\n",
    "refiner.set_policy(\n",
    "    matcher=\"ot\",\n",
    "    attributor=\"pshap\",\n",
    "    Avalues_method=\"max\"\n",
    "    )"
   ]
  },
  {
   "cell_type": "code",
   "execution_count": 28,
   "metadata": {},
   "outputs": [
    {
     "name": "stderr",
     "output_type": "stream",
     "text": [
      "INFO:shap:num_full_subsets = 2\n",
      "INFO:shap:phi = [ 0.10845291  0.32940638 -0.02482684  0.09001071 -0.01369091]\n",
      "INFO:shap:num_full_subsets = 1\n",
      "INFO:shap:phi = [ 0.40606964 -0.00211596]\n",
      "INFO:shap:num_full_subsets = 1\n",
      "INFO:shap:phi = [0.23691719 0.45963417]\n",
      "INFO:shap:num_full_subsets = 3\n",
      "INFO:shap:phi = [-0.0647144   0.29240912  0.04947976  0.06077738 -0.00799271  0.02456827\n",
      "  0.10825887]\n",
      "INFO:shap:num_full_subsets = 4\n",
      "INFO:shap:phi = [-0.00231767 -0.06277694 -0.03997775  0.05313482  0.09225603  0.20100465\n",
      "  0.14036763 -0.02769859]\n"
     ]
    }
   ],
   "source": [
    "factual, ce, ace = refiner.get_refined_counterfactual(limited_actions=5)"
   ]
  },
  {
   "cell_type": "markdown",
   "metadata": {},
   "source": [
    "#### 5.Highlight the generated counterfactuals"
   ]
  },
  {
   "cell_type": "code",
   "execution_count": 29,
   "metadata": {},
   "outputs": [],
   "source": [
    "factual, refine_ce, refine_ace = refiner.highlight_changes()"
   ]
  },
  {
   "cell_type": "code",
   "execution_count": 32,
   "metadata": {},
   "outputs": [
    {
     "name": "stdout",
     "output_type": "stream",
     "text": [
      "factual\n"
     ]
    },
    {
     "data": {
      "text/html": [
       "<div>\n",
       "<style scoped>\n",
       "    .dataframe tbody tr th:only-of-type {\n",
       "        vertical-align: middle;\n",
       "    }\n",
       "\n",
       "    .dataframe tbody tr th {\n",
       "        vertical-align: top;\n",
       "    }\n",
       "\n",
       "    .dataframe thead th {\n",
       "        text-align: right;\n",
       "    }\n",
       "</style>\n",
       "<table border=\"1\" class=\"dataframe\">\n",
       "  <thead>\n",
       "    <tr style=\"text-align: right;\">\n",
       "      <th></th>\n",
       "      <th>Age</th>\n",
       "      <th>Sex</th>\n",
       "      <th>Job</th>\n",
       "      <th>Housing</th>\n",
       "      <th>Saving accounts</th>\n",
       "      <th>Checking account</th>\n",
       "      <th>Credit amount</th>\n",
       "      <th>Duration</th>\n",
       "      <th>Purpose</th>\n",
       "      <th>Risk</th>\n",
       "    </tr>\n",
       "  </thead>\n",
       "  <tbody>\n",
       "    <tr>\n",
       "      <th>0</th>\n",
       "      <td>31</td>\n",
       "      <td>1</td>\n",
       "      <td>2</td>\n",
       "      <td>1</td>\n",
       "      <td>1</td>\n",
       "      <td>2</td>\n",
       "      <td>1935</td>\n",
       "      <td>24</td>\n",
       "      <td>0</td>\n",
       "      <td>1</td>\n",
       "    </tr>\n",
       "    <tr>\n",
       "      <th>1</th>\n",
       "      <td>22</td>\n",
       "      <td>0</td>\n",
       "      <td>2</td>\n",
       "      <td>2</td>\n",
       "      <td>1</td>\n",
       "      <td>0</td>\n",
       "      <td>433</td>\n",
       "      <td>18</td>\n",
       "      <td>5</td>\n",
       "      <td>0</td>\n",
       "    </tr>\n",
       "    <tr>\n",
       "      <th>2</th>\n",
       "      <td>36</td>\n",
       "      <td>1</td>\n",
       "      <td>2</td>\n",
       "      <td>2</td>\n",
       "      <td>1</td>\n",
       "      <td>1</td>\n",
       "      <td>7297</td>\n",
       "      <td>60</td>\n",
       "      <td>0</td>\n",
       "      <td>1</td>\n",
       "    </tr>\n",
       "    <tr>\n",
       "      <th>3</th>\n",
       "      <td>29</td>\n",
       "      <td>0</td>\n",
       "      <td>1</td>\n",
       "      <td>2</td>\n",
       "      <td>3</td>\n",
       "      <td>0</td>\n",
       "      <td>1123</td>\n",
       "      <td>12</td>\n",
       "      <td>4</td>\n",
       "      <td>1</td>\n",
       "    </tr>\n",
       "    <tr>\n",
       "      <th>4</th>\n",
       "      <td>37</td>\n",
       "      <td>1</td>\n",
       "      <td>2</td>\n",
       "      <td>1</td>\n",
       "      <td>1</td>\n",
       "      <td>3</td>\n",
       "      <td>2100</td>\n",
       "      <td>18</td>\n",
       "      <td>5</td>\n",
       "      <td>1</td>\n",
       "    </tr>\n",
       "  </tbody>\n",
       "</table>\n",
       "</div>"
      ],
      "text/plain": [
       "  Age Sex Job Housing Saving accounts Checking account Credit amount Duration  \\\n",
       "0  31   1   2       1               1                2          1935       24   \n",
       "1  22   0   2       2               1                0           433       18   \n",
       "2  36   1   2       2               1                1          7297       60   \n",
       "3  29   0   1       2               3                0          1123       12   \n",
       "4  37   1   2       1               1                3          2100       18   \n",
       "\n",
       "  Purpose Risk  \n",
       "0       0    1  \n",
       "1       5    0  \n",
       "2       0    1  \n",
       "3       4    1  \n",
       "4       5    1  "
      ]
     },
     "metadata": {},
     "output_type": "display_data"
    },
    {
     "name": "stdout",
     "output_type": "stream",
     "text": [
      "factaul -> corresponding counterfactual\n"
     ]
    },
    {
     "data": {
      "text/html": [
       "<style type=\"text/css\">\n",
       "#T_29974_row0_col0, #T_29974_row0_col5, #T_29974_row0_col6, #T_29974_row0_col7, #T_29974_row0_col8, #T_29974_row1_col0, #T_29974_row1_col4, #T_29974_row2_col4, #T_29974_row2_col7, #T_29974_row3_col0, #T_29974_row3_col2, #T_29974_row3_col3, #T_29974_row3_col4, #T_29974_row3_col6, #T_29974_row3_col7, #T_29974_row3_col8, #T_29974_row4_col0, #T_29974_row4_col1, #T_29974_row4_col2, #T_29974_row4_col4, #T_29974_row4_col5, #T_29974_row4_col6, #T_29974_row4_col7, #T_29974_row4_col8 {\n",
       "  background-color: yellow;\n",
       "  border: 1px solid black;\n",
       "  text-align: center;\n",
       "}\n",
       "#T_29974_row0_col1, #T_29974_row0_col2, #T_29974_row0_col3, #T_29974_row0_col4, #T_29974_row1_col1, #T_29974_row1_col2, #T_29974_row1_col3, #T_29974_row1_col5, #T_29974_row1_col6, #T_29974_row1_col7, #T_29974_row1_col8, #T_29974_row1_col9, #T_29974_row2_col0, #T_29974_row2_col1, #T_29974_row2_col2, #T_29974_row2_col3, #T_29974_row2_col5, #T_29974_row2_col6, #T_29974_row2_col8, #T_29974_row3_col1, #T_29974_row3_col5, #T_29974_row4_col3 {\n",
       "  text-align: center;\n",
       "}\n",
       "#T_29974_row0_col9, #T_29974_row2_col9, #T_29974_row3_col9, #T_29974_row4_col9 {\n",
       "  background-color: lightgray;\n",
       "  border: 1px solid black;\n",
       "  text-align: center;\n",
       "}\n",
       "</style>\n",
       "<table id=\"T_29974\">\n",
       "  <thead>\n",
       "    <tr>\n",
       "      <th class=\"blank level0\" >&nbsp;</th>\n",
       "      <th id=\"T_29974_level0_col0\" class=\"col_heading level0 col0\" >Age</th>\n",
       "      <th id=\"T_29974_level0_col1\" class=\"col_heading level0 col1\" >Sex</th>\n",
       "      <th id=\"T_29974_level0_col2\" class=\"col_heading level0 col2\" >Job</th>\n",
       "      <th id=\"T_29974_level0_col3\" class=\"col_heading level0 col3\" >Housing</th>\n",
       "      <th id=\"T_29974_level0_col4\" class=\"col_heading level0 col4\" >Saving accounts</th>\n",
       "      <th id=\"T_29974_level0_col5\" class=\"col_heading level0 col5\" >Checking account</th>\n",
       "      <th id=\"T_29974_level0_col6\" class=\"col_heading level0 col6\" >Credit amount</th>\n",
       "      <th id=\"T_29974_level0_col7\" class=\"col_heading level0 col7\" >Duration</th>\n",
       "      <th id=\"T_29974_level0_col8\" class=\"col_heading level0 col8\" >Purpose</th>\n",
       "      <th id=\"T_29974_level0_col9\" class=\"col_heading level0 col9\" >Risk</th>\n",
       "    </tr>\n",
       "  </thead>\n",
       "  <tbody>\n",
       "    <tr>\n",
       "      <th id=\"T_29974_level0_row0\" class=\"row_heading level0 row0\" >0</th>\n",
       "      <td id=\"T_29974_row0_col0\" class=\"data row0 col0\" >31 -> 29</td>\n",
       "      <td id=\"T_29974_row0_col1\" class=\"data row0 col1\" >1</td>\n",
       "      <td id=\"T_29974_row0_col2\" class=\"data row0 col2\" >2</td>\n",
       "      <td id=\"T_29974_row0_col3\" class=\"data row0 col3\" >1</td>\n",
       "      <td id=\"T_29974_row0_col4\" class=\"data row0 col4\" >1</td>\n",
       "      <td id=\"T_29974_row0_col5\" class=\"data row0 col5\" >2 -> 0</td>\n",
       "      <td id=\"T_29974_row0_col6\" class=\"data row0 col6\" >1935 -> 2100</td>\n",
       "      <td id=\"T_29974_row0_col7\" class=\"data row0 col7\" >24 -> 18</td>\n",
       "      <td id=\"T_29974_row0_col8\" class=\"data row0 col8\" >0 -> 5</td>\n",
       "      <td id=\"T_29974_row0_col9\" class=\"data row0 col9\" >1 -> 0</td>\n",
       "    </tr>\n",
       "    <tr>\n",
       "      <th id=\"T_29974_level0_row1\" class=\"row_heading level0 row1\" >1</th>\n",
       "      <td id=\"T_29974_row1_col0\" class=\"data row1 col0\" >22 -> 37</td>\n",
       "      <td id=\"T_29974_row1_col1\" class=\"data row1 col1\" >0</td>\n",
       "      <td id=\"T_29974_row1_col2\" class=\"data row1 col2\" >2</td>\n",
       "      <td id=\"T_29974_row1_col3\" class=\"data row1 col3\" >2</td>\n",
       "      <td id=\"T_29974_row1_col4\" class=\"data row1 col4\" >1 -> 3</td>\n",
       "      <td id=\"T_29974_row1_col5\" class=\"data row1 col5\" >0</td>\n",
       "      <td id=\"T_29974_row1_col6\" class=\"data row1 col6\" >433</td>\n",
       "      <td id=\"T_29974_row1_col7\" class=\"data row1 col7\" >18</td>\n",
       "      <td id=\"T_29974_row1_col8\" class=\"data row1 col8\" >5</td>\n",
       "      <td id=\"T_29974_row1_col9\" class=\"data row1 col9\" >0</td>\n",
       "    </tr>\n",
       "    <tr>\n",
       "      <th id=\"T_29974_level0_row2\" class=\"row_heading level0 row2\" >2</th>\n",
       "      <td id=\"T_29974_row2_col0\" class=\"data row2 col0\" >36</td>\n",
       "      <td id=\"T_29974_row2_col1\" class=\"data row2 col1\" >1</td>\n",
       "      <td id=\"T_29974_row2_col2\" class=\"data row2 col2\" >2</td>\n",
       "      <td id=\"T_29974_row2_col3\" class=\"data row2 col3\" >2</td>\n",
       "      <td id=\"T_29974_row2_col4\" class=\"data row2 col4\" >1 -> 3</td>\n",
       "      <td id=\"T_29974_row2_col5\" class=\"data row2 col5\" >1</td>\n",
       "      <td id=\"T_29974_row2_col6\" class=\"data row2 col6\" >7297</td>\n",
       "      <td id=\"T_29974_row2_col7\" class=\"data row2 col7\" >60 -> 42</td>\n",
       "      <td id=\"T_29974_row2_col8\" class=\"data row2 col8\" >0</td>\n",
       "      <td id=\"T_29974_row2_col9\" class=\"data row2 col9\" >1 -> 0</td>\n",
       "    </tr>\n",
       "    <tr>\n",
       "      <th id=\"T_29974_level0_row3\" class=\"row_heading level0 row3\" >3</th>\n",
       "      <td id=\"T_29974_row3_col0\" class=\"data row3 col0\" >29 -> 31</td>\n",
       "      <td id=\"T_29974_row3_col1\" class=\"data row3 col1\" >0</td>\n",
       "      <td id=\"T_29974_row3_col2\" class=\"data row3 col2\" >1 -> 2</td>\n",
       "      <td id=\"T_29974_row3_col3\" class=\"data row3 col3\" >2 -> 1</td>\n",
       "      <td id=\"T_29974_row3_col4\" class=\"data row3 col4\" >3 -> 1</td>\n",
       "      <td id=\"T_29974_row3_col5\" class=\"data row3 col5\" >0</td>\n",
       "      <td id=\"T_29974_row3_col6\" class=\"data row3 col6\" >1123 -> 1935</td>\n",
       "      <td id=\"T_29974_row3_col7\" class=\"data row3 col7\" >12 -> 24</td>\n",
       "      <td id=\"T_29974_row3_col8\" class=\"data row3 col8\" >4 -> 0</td>\n",
       "      <td id=\"T_29974_row3_col9\" class=\"data row3 col9\" >1 -> 0</td>\n",
       "    </tr>\n",
       "    <tr>\n",
       "      <th id=\"T_29974_level0_row4\" class=\"row_heading level0 row4\" >4</th>\n",
       "      <td id=\"T_29974_row4_col0\" class=\"data row4 col0\" >37 -> 29</td>\n",
       "      <td id=\"T_29974_row4_col1\" class=\"data row4 col1\" >1 -> 0</td>\n",
       "      <td id=\"T_29974_row4_col2\" class=\"data row4 col2\" >2 -> 1</td>\n",
       "      <td id=\"T_29974_row4_col3\" class=\"data row4 col3\" >1</td>\n",
       "      <td id=\"T_29974_row4_col4\" class=\"data row4 col4\" >1 -> 3</td>\n",
       "      <td id=\"T_29974_row4_col5\" class=\"data row4 col5\" >3 -> 0</td>\n",
       "      <td id=\"T_29974_row4_col6\" class=\"data row4 col6\" >2100 -> 3989</td>\n",
       "      <td id=\"T_29974_row4_col7\" class=\"data row4 col7\" >18 -> 12</td>\n",
       "      <td id=\"T_29974_row4_col8\" class=\"data row4 col8\" >5 -> 4</td>\n",
       "      <td id=\"T_29974_row4_col9\" class=\"data row4 col9\" >1 -> 0</td>\n",
       "    </tr>\n",
       "  </tbody>\n",
       "</table>\n"
      ],
      "text/plain": [
       "<pandas.io.formats.style.Styler at 0x22b8440ead0>"
      ]
     },
     "metadata": {},
     "output_type": "display_data"
    },
    {
     "name": "stdout",
     "output_type": "stream",
     "text": [
      "factual -> action-limited counterfactual\n"
     ]
    },
    {
     "data": {
      "text/html": [
       "<style type=\"text/css\">\n",
       "#T_d0d62_row0_col0, #T_d0d62_row0_col1, #T_d0d62_row0_col2, #T_d0d62_row0_col3, #T_d0d62_row0_col4, #T_d0d62_row0_col6, #T_d0d62_row0_col7, #T_d0d62_row0_col8, #T_d0d62_row1_col1, #T_d0d62_row1_col2, #T_d0d62_row1_col3, #T_d0d62_row1_col4, #T_d0d62_row1_col5, #T_d0d62_row1_col6, #T_d0d62_row1_col7, #T_d0d62_row1_col8, #T_d0d62_row1_col9, #T_d0d62_row2_col0, #T_d0d62_row2_col1, #T_d0d62_row2_col2, #T_d0d62_row2_col3, #T_d0d62_row2_col5, #T_d0d62_row2_col6, #T_d0d62_row2_col8, #T_d0d62_row3_col0, #T_d0d62_row3_col1, #T_d0d62_row3_col3, #T_d0d62_row3_col4, #T_d0d62_row3_col5, #T_d0d62_row3_col6, #T_d0d62_row3_col7, #T_d0d62_row3_col8, #T_d0d62_row4_col0, #T_d0d62_row4_col1, #T_d0d62_row4_col2, #T_d0d62_row4_col3, #T_d0d62_row4_col4, #T_d0d62_row4_col5, #T_d0d62_row4_col6, #T_d0d62_row4_col7, #T_d0d62_row4_col8, #T_d0d62_row4_col9 {\n",
       "  text-align: center;\n",
       "}\n",
       "#T_d0d62_row0_col5, #T_d0d62_row1_col0, #T_d0d62_row2_col4, #T_d0d62_row2_col7, #T_d0d62_row3_col2 {\n",
       "  background-color: yellow;\n",
       "  border: 1px solid black;\n",
       "  text-align: center;\n",
       "}\n",
       "#T_d0d62_row0_col9, #T_d0d62_row2_col9, #T_d0d62_row3_col9 {\n",
       "  background-color: lightgray;\n",
       "  border: 1px solid black;\n",
       "  text-align: center;\n",
       "}\n",
       "</style>\n",
       "<table id=\"T_d0d62\">\n",
       "  <thead>\n",
       "    <tr>\n",
       "      <th class=\"blank level0\" >&nbsp;</th>\n",
       "      <th id=\"T_d0d62_level0_col0\" class=\"col_heading level0 col0\" >Age</th>\n",
       "      <th id=\"T_d0d62_level0_col1\" class=\"col_heading level0 col1\" >Sex</th>\n",
       "      <th id=\"T_d0d62_level0_col2\" class=\"col_heading level0 col2\" >Job</th>\n",
       "      <th id=\"T_d0d62_level0_col3\" class=\"col_heading level0 col3\" >Housing</th>\n",
       "      <th id=\"T_d0d62_level0_col4\" class=\"col_heading level0 col4\" >Saving accounts</th>\n",
       "      <th id=\"T_d0d62_level0_col5\" class=\"col_heading level0 col5\" >Checking account</th>\n",
       "      <th id=\"T_d0d62_level0_col6\" class=\"col_heading level0 col6\" >Credit amount</th>\n",
       "      <th id=\"T_d0d62_level0_col7\" class=\"col_heading level0 col7\" >Duration</th>\n",
       "      <th id=\"T_d0d62_level0_col8\" class=\"col_heading level0 col8\" >Purpose</th>\n",
       "      <th id=\"T_d0d62_level0_col9\" class=\"col_heading level0 col9\" >Risk</th>\n",
       "    </tr>\n",
       "  </thead>\n",
       "  <tbody>\n",
       "    <tr>\n",
       "      <th id=\"T_d0d62_level0_row0\" class=\"row_heading level0 row0\" >0</th>\n",
       "      <td id=\"T_d0d62_row0_col0\" class=\"data row0 col0\" >31</td>\n",
       "      <td id=\"T_d0d62_row0_col1\" class=\"data row0 col1\" >1</td>\n",
       "      <td id=\"T_d0d62_row0_col2\" class=\"data row0 col2\" >2</td>\n",
       "      <td id=\"T_d0d62_row0_col3\" class=\"data row0 col3\" >1</td>\n",
       "      <td id=\"T_d0d62_row0_col4\" class=\"data row0 col4\" >1</td>\n",
       "      <td id=\"T_d0d62_row0_col5\" class=\"data row0 col5\" >2 -> 0</td>\n",
       "      <td id=\"T_d0d62_row0_col6\" class=\"data row0 col6\" >1935</td>\n",
       "      <td id=\"T_d0d62_row0_col7\" class=\"data row0 col7\" >24</td>\n",
       "      <td id=\"T_d0d62_row0_col8\" class=\"data row0 col8\" >0</td>\n",
       "      <td id=\"T_d0d62_row0_col9\" class=\"data row0 col9\" >1 -> 0</td>\n",
       "    </tr>\n",
       "    <tr>\n",
       "      <th id=\"T_d0d62_level0_row1\" class=\"row_heading level0 row1\" >1</th>\n",
       "      <td id=\"T_d0d62_row1_col0\" class=\"data row1 col0\" >22 -> 37</td>\n",
       "      <td id=\"T_d0d62_row1_col1\" class=\"data row1 col1\" >0</td>\n",
       "      <td id=\"T_d0d62_row1_col2\" class=\"data row1 col2\" >2</td>\n",
       "      <td id=\"T_d0d62_row1_col3\" class=\"data row1 col3\" >2</td>\n",
       "      <td id=\"T_d0d62_row1_col4\" class=\"data row1 col4\" >1</td>\n",
       "      <td id=\"T_d0d62_row1_col5\" class=\"data row1 col5\" >0</td>\n",
       "      <td id=\"T_d0d62_row1_col6\" class=\"data row1 col6\" >433</td>\n",
       "      <td id=\"T_d0d62_row1_col7\" class=\"data row1 col7\" >18</td>\n",
       "      <td id=\"T_d0d62_row1_col8\" class=\"data row1 col8\" >5</td>\n",
       "      <td id=\"T_d0d62_row1_col9\" class=\"data row1 col9\" >0</td>\n",
       "    </tr>\n",
       "    <tr>\n",
       "      <th id=\"T_d0d62_level0_row2\" class=\"row_heading level0 row2\" >2</th>\n",
       "      <td id=\"T_d0d62_row2_col0\" class=\"data row2 col0\" >36</td>\n",
       "      <td id=\"T_d0d62_row2_col1\" class=\"data row2 col1\" >1</td>\n",
       "      <td id=\"T_d0d62_row2_col2\" class=\"data row2 col2\" >2</td>\n",
       "      <td id=\"T_d0d62_row2_col3\" class=\"data row2 col3\" >2</td>\n",
       "      <td id=\"T_d0d62_row2_col4\" class=\"data row2 col4\" >1 -> 3</td>\n",
       "      <td id=\"T_d0d62_row2_col5\" class=\"data row2 col5\" >1</td>\n",
       "      <td id=\"T_d0d62_row2_col6\" class=\"data row2 col6\" >7297</td>\n",
       "      <td id=\"T_d0d62_row2_col7\" class=\"data row2 col7\" >60 -> 42</td>\n",
       "      <td id=\"T_d0d62_row2_col8\" class=\"data row2 col8\" >0</td>\n",
       "      <td id=\"T_d0d62_row2_col9\" class=\"data row2 col9\" >1 -> 0</td>\n",
       "    </tr>\n",
       "    <tr>\n",
       "      <th id=\"T_d0d62_level0_row3\" class=\"row_heading level0 row3\" >3</th>\n",
       "      <td id=\"T_d0d62_row3_col0\" class=\"data row3 col0\" >29</td>\n",
       "      <td id=\"T_d0d62_row3_col1\" class=\"data row3 col1\" >0</td>\n",
       "      <td id=\"T_d0d62_row3_col2\" class=\"data row3 col2\" >1 -> 2</td>\n",
       "      <td id=\"T_d0d62_row3_col3\" class=\"data row3 col3\" >2</td>\n",
       "      <td id=\"T_d0d62_row3_col4\" class=\"data row3 col4\" >3</td>\n",
       "      <td id=\"T_d0d62_row3_col5\" class=\"data row3 col5\" >0</td>\n",
       "      <td id=\"T_d0d62_row3_col6\" class=\"data row3 col6\" >1123</td>\n",
       "      <td id=\"T_d0d62_row3_col7\" class=\"data row3 col7\" >12</td>\n",
       "      <td id=\"T_d0d62_row3_col8\" class=\"data row3 col8\" >4</td>\n",
       "      <td id=\"T_d0d62_row3_col9\" class=\"data row3 col9\" >1 -> 0</td>\n",
       "    </tr>\n",
       "    <tr>\n",
       "      <th id=\"T_d0d62_level0_row4\" class=\"row_heading level0 row4\" >4</th>\n",
       "      <td id=\"T_d0d62_row4_col0\" class=\"data row4 col0\" >37</td>\n",
       "      <td id=\"T_d0d62_row4_col1\" class=\"data row4 col1\" >1</td>\n",
       "      <td id=\"T_d0d62_row4_col2\" class=\"data row4 col2\" >2</td>\n",
       "      <td id=\"T_d0d62_row4_col3\" class=\"data row4 col3\" >1</td>\n",
       "      <td id=\"T_d0d62_row4_col4\" class=\"data row4 col4\" >1</td>\n",
       "      <td id=\"T_d0d62_row4_col5\" class=\"data row4 col5\" >3</td>\n",
       "      <td id=\"T_d0d62_row4_col6\" class=\"data row4 col6\" >2100</td>\n",
       "      <td id=\"T_d0d62_row4_col7\" class=\"data row4 col7\" >18</td>\n",
       "      <td id=\"T_d0d62_row4_col8\" class=\"data row4 col8\" >5</td>\n",
       "      <td id=\"T_d0d62_row4_col9\" class=\"data row4 col9\" >1</td>\n",
       "    </tr>\n",
       "  </tbody>\n",
       "</table>\n"
      ],
      "text/plain": [
       "<pandas.io.formats.style.Styler at 0x22b8449bf10>"
      ]
     },
     "metadata": {},
     "output_type": "display_data"
    }
   ],
   "source": [
    "print(\"factual\")\n",
    "display(factual)\n",
    "print(\"factaul -> corresponding counterfactual\")\n",
    "display(refine_ce)\n",
    "print(\"factual -> action-limited counterfactual\")\n",
    "display(refine_ace)"
   ]
  }
 ],
 "metadata": {
  "kernelspec": {
   "display_name": "COLA",
   "language": "python",
   "name": "python3"
  },
  "language_info": {
   "codemirror_mode": {
    "name": "ipython",
    "version": 3
   },
   "file_extension": ".py",
   "mimetype": "text/x-python",
   "name": "python",
   "nbconvert_exporter": "python",
   "pygments_lexer": "ipython3",
   "version": "3.10.13"
  }
 },
 "nbformat": 4,
 "nbformat_minor": 2
}
