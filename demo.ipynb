{
 "cells": [
  {
   "cell_type": "code",
   "execution_count": 702,
   "metadata": {},
   "outputs": [],
   "source": [
    "%reload_ext autoreload\n",
    "%autoreload 2"
   ]
  },
  {
   "cell_type": "markdown",
   "metadata": {},
   "source": [
    "#### 0. Pick the data to be factual(\"Risk\"=1)"
   ]
  },
  {
   "cell_type": "code",
   "execution_count": 703,
   "metadata": {},
   "outputs": [
    {
     "name": "stderr",
     "output_type": "stream",
     "text": [
      "Downcasting behavior in `replace` is deprecated and will be removed in a future version. To retain the old behavior, explicitly call `result.infer_objects(copy=False)`. To opt-in to the future behavior, set `pd.set_option('future.no_silent_downcasting', True)`\n"
     ]
    },
    {
     "data": {
      "text/html": [
       "<div>\n",
       "<style scoped>\n",
       "    .dataframe tbody tr th:only-of-type {\n",
       "        vertical-align: middle;\n",
       "    }\n",
       "\n",
       "    .dataframe tbody tr th {\n",
       "        vertical-align: top;\n",
       "    }\n",
       "\n",
       "    .dataframe thead th {\n",
       "        text-align: right;\n",
       "    }\n",
       "</style>\n",
       "<table border=\"1\" class=\"dataframe\">\n",
       "  <thead>\n",
       "    <tr style=\"text-align: right;\">\n",
       "      <th></th>\n",
       "      <th>Age</th>\n",
       "      <th>Sex</th>\n",
       "      <th>Job</th>\n",
       "      <th>Housing</th>\n",
       "      <th>Saving accounts</th>\n",
       "      <th>Checking account</th>\n",
       "      <th>Credit amount</th>\n",
       "      <th>Duration</th>\n",
       "      <th>Purpose</th>\n",
       "      <th>Risk</th>\n",
       "    </tr>\n",
       "  </thead>\n",
       "  <tbody>\n",
       "    <tr>\n",
       "      <th>0</th>\n",
       "      <td>67</td>\n",
       "      <td>1</td>\n",
       "      <td>2</td>\n",
       "      <td>1</td>\n",
       "      <td>0</td>\n",
       "      <td>1</td>\n",
       "      <td>1169</td>\n",
       "      <td>6</td>\n",
       "      <td>5</td>\n",
       "      <td>0</td>\n",
       "    </tr>\n",
       "    <tr>\n",
       "      <th>1</th>\n",
       "      <td>22</td>\n",
       "      <td>0</td>\n",
       "      <td>2</td>\n",
       "      <td>1</td>\n",
       "      <td>1</td>\n",
       "      <td>2</td>\n",
       "      <td>5951</td>\n",
       "      <td>48</td>\n",
       "      <td>5</td>\n",
       "      <td>1</td>\n",
       "    </tr>\n",
       "    <tr>\n",
       "      <th>2</th>\n",
       "      <td>49</td>\n",
       "      <td>1</td>\n",
       "      <td>1</td>\n",
       "      <td>1</td>\n",
       "      <td>1</td>\n",
       "      <td>0</td>\n",
       "      <td>2096</td>\n",
       "      <td>12</td>\n",
       "      <td>3</td>\n",
       "      <td>0</td>\n",
       "    </tr>\n",
       "  </tbody>\n",
       "</table>\n",
       "</div>"
      ],
      "text/plain": [
       "   Age  Sex  Job  Housing  Saving accounts  Checking account  Credit amount  \\\n",
       "0   67    1    2        1                0                 1           1169   \n",
       "1   22    0    2        1                1                 2           5951   \n",
       "2   49    1    1        1                1                 0           2096   \n",
       "\n",
       "   Duration  Purpose  Risk  \n",
       "0         6        5     0  \n",
       "1        48        5     1  \n",
       "2        12        3     0  "
      ]
     },
     "execution_count": 703,
     "metadata": {},
     "output_type": "execute_result"
    }
   ],
   "source": [
    "from test_dataset.german_credit import GermanCreditDataset\n",
    "dataset = GermanCreditDataset()\n",
    "df = dataset.get_dataframe()\n",
    "df.head(3)"
   ]
  },
  {
   "cell_type": "code",
   "execution_count": 704,
   "metadata": {},
   "outputs": [
    {
     "data": {
      "text/html": [
       "<div>\n",
       "<style scoped>\n",
       "    .dataframe tbody tr th:only-of-type {\n",
       "        vertical-align: middle;\n",
       "    }\n",
       "\n",
       "    .dataframe tbody tr th {\n",
       "        vertical-align: top;\n",
       "    }\n",
       "\n",
       "    .dataframe thead th {\n",
       "        text-align: right;\n",
       "    }\n",
       "</style>\n",
       "<table border=\"1\" class=\"dataframe\">\n",
       "  <thead>\n",
       "    <tr style=\"text-align: right;\">\n",
       "      <th></th>\n",
       "      <th>Age</th>\n",
       "      <th>Sex</th>\n",
       "      <th>Job</th>\n",
       "      <th>Housing</th>\n",
       "      <th>Saving accounts</th>\n",
       "      <th>Checking account</th>\n",
       "      <th>Credit amount</th>\n",
       "      <th>Duration</th>\n",
       "      <th>Purpose</th>\n",
       "      <th>Risk</th>\n",
       "    </tr>\n",
       "  </thead>\n",
       "  <tbody>\n",
       "    <tr>\n",
       "      <th>192</th>\n",
       "      <td>36</td>\n",
       "      <td>1</td>\n",
       "      <td>2</td>\n",
       "      <td>1</td>\n",
       "      <td>1</td>\n",
       "      <td>2</td>\n",
       "      <td>3915</td>\n",
       "      <td>27</td>\n",
       "      <td>0</td>\n",
       "      <td>1</td>\n",
       "    </tr>\n",
       "    <tr>\n",
       "      <th>545</th>\n",
       "      <td>43</td>\n",
       "      <td>1</td>\n",
       "      <td>2</td>\n",
       "      <td>0</td>\n",
       "      <td>1</td>\n",
       "      <td>1</td>\n",
       "      <td>1333</td>\n",
       "      <td>24</td>\n",
       "      <td>1</td>\n",
       "      <td>1</td>\n",
       "    </tr>\n",
       "    <tr>\n",
       "      <th>653</th>\n",
       "      <td>42</td>\n",
       "      <td>1</td>\n",
       "      <td>3</td>\n",
       "      <td>1</td>\n",
       "      <td>2</td>\n",
       "      <td>2</td>\n",
       "      <td>8086</td>\n",
       "      <td>36</td>\n",
       "      <td>1</td>\n",
       "      <td>1</td>\n",
       "    </tr>\n",
       "    <tr>\n",
       "      <th>918</th>\n",
       "      <td>33</td>\n",
       "      <td>1</td>\n",
       "      <td>2</td>\n",
       "      <td>1</td>\n",
       "      <td>2</td>\n",
       "      <td>1</td>\n",
       "      <td>2359</td>\n",
       "      <td>24</td>\n",
       "      <td>4</td>\n",
       "      <td>1</td>\n",
       "    </tr>\n",
       "    <tr>\n",
       "      <th>935</th>\n",
       "      <td>30</td>\n",
       "      <td>1</td>\n",
       "      <td>3</td>\n",
       "      <td>1</td>\n",
       "      <td>2</td>\n",
       "      <td>2</td>\n",
       "      <td>1919</td>\n",
       "      <td>30</td>\n",
       "      <td>5</td>\n",
       "      <td>1</td>\n",
       "    </tr>\n",
       "  </tbody>\n",
       "</table>\n",
       "</div>"
      ],
      "text/plain": [
       "     Age  Sex  Job  Housing  Saving accounts  Checking account  Credit amount  \\\n",
       "192   36    1    2        1                1                 2           3915   \n",
       "545   43    1    2        0                1                 1           1333   \n",
       "653   42    1    3        1                2                 2           8086   \n",
       "918   33    1    2        1                2                 1           2359   \n",
       "935   30    1    3        1                2                 2           1919   \n",
       "\n",
       "     Duration  Purpose  Risk  \n",
       "192        27        0     1  \n",
       "545        24        1     1  \n",
       "653        36        1     1  \n",
       "918        24        4     1  \n",
       "935        30        5     1  "
      ]
     },
     "execution_count": 704,
     "metadata": {},
     "output_type": "execute_result"
    }
   ],
   "source": [
    "df_Risk_1 = df[df['Risk'] == 1]\n",
    "df_Risk_1 = df_Risk_1.sample(5)\n",
    "df_Risk_1.head()"
   ]
  },
  {
   "cell_type": "code",
   "execution_count": 705,
   "metadata": {},
   "outputs": [
    {
     "data": {
      "text/html": [
       "<div>\n",
       "<style scoped>\n",
       "    .dataframe tbody tr th:only-of-type {\n",
       "        vertical-align: middle;\n",
       "    }\n",
       "\n",
       "    .dataframe tbody tr th {\n",
       "        vertical-align: top;\n",
       "    }\n",
       "\n",
       "    .dataframe thead th {\n",
       "        text-align: right;\n",
       "    }\n",
       "</style>\n",
       "<table border=\"1\" class=\"dataframe\">\n",
       "  <thead>\n",
       "    <tr style=\"text-align: right;\">\n",
       "      <th></th>\n",
       "      <th>Age</th>\n",
       "      <th>Sex</th>\n",
       "      <th>Job</th>\n",
       "      <th>Housing</th>\n",
       "      <th>Saving accounts</th>\n",
       "      <th>Checking account</th>\n",
       "      <th>Credit amount</th>\n",
       "      <th>Duration</th>\n",
       "      <th>Purpose</th>\n",
       "    </tr>\n",
       "  </thead>\n",
       "  <tbody>\n",
       "    <tr>\n",
       "      <th>192</th>\n",
       "      <td>36</td>\n",
       "      <td>1</td>\n",
       "      <td>2</td>\n",
       "      <td>1</td>\n",
       "      <td>1</td>\n",
       "      <td>2</td>\n",
       "      <td>3915</td>\n",
       "      <td>27</td>\n",
       "      <td>0</td>\n",
       "    </tr>\n",
       "    <tr>\n",
       "      <th>545</th>\n",
       "      <td>43</td>\n",
       "      <td>1</td>\n",
       "      <td>2</td>\n",
       "      <td>0</td>\n",
       "      <td>1</td>\n",
       "      <td>1</td>\n",
       "      <td>1333</td>\n",
       "      <td>24</td>\n",
       "      <td>1</td>\n",
       "    </tr>\n",
       "    <tr>\n",
       "      <th>653</th>\n",
       "      <td>42</td>\n",
       "      <td>1</td>\n",
       "      <td>3</td>\n",
       "      <td>1</td>\n",
       "      <td>2</td>\n",
       "      <td>2</td>\n",
       "      <td>8086</td>\n",
       "      <td>36</td>\n",
       "      <td>1</td>\n",
       "    </tr>\n",
       "    <tr>\n",
       "      <th>918</th>\n",
       "      <td>33</td>\n",
       "      <td>1</td>\n",
       "      <td>2</td>\n",
       "      <td>1</td>\n",
       "      <td>2</td>\n",
       "      <td>1</td>\n",
       "      <td>2359</td>\n",
       "      <td>24</td>\n",
       "      <td>4</td>\n",
       "    </tr>\n",
       "    <tr>\n",
       "      <th>935</th>\n",
       "      <td>30</td>\n",
       "      <td>1</td>\n",
       "      <td>3</td>\n",
       "      <td>1</td>\n",
       "      <td>2</td>\n",
       "      <td>2</td>\n",
       "      <td>1919</td>\n",
       "      <td>30</td>\n",
       "      <td>5</td>\n",
       "    </tr>\n",
       "  </tbody>\n",
       "</table>\n",
       "</div>"
      ],
      "text/plain": [
       "     Age  Sex  Job  Housing  Saving accounts  Checking account  Credit amount  \\\n",
       "192   36    1    2        1                1                 2           3915   \n",
       "545   43    1    2        0                1                 1           1333   \n",
       "653   42    1    3        1                2                 2           8086   \n",
       "918   33    1    2        1                2                 1           2359   \n",
       "935   30    1    3        1                2                 2           1919   \n",
       "\n",
       "     Duration  Purpose  \n",
       "192        27        0  \n",
       "545        24        1  \n",
       "653        36        1  \n",
       "918        24        4  \n",
       "935        30        5  "
      ]
     },
     "execution_count": 705,
     "metadata": {},
     "output_type": "execute_result"
    }
   ],
   "source": [
    "df_without_target = df_Risk_1.drop(columns=['Risk']).copy()\n",
    "df_without_target.head()"
   ]
  },
  {
   "cell_type": "code",
   "execution_count": 706,
   "metadata": {},
   "outputs": [
    {
     "data": {
      "text/plain": [
       "Index(['Age', 'Sex', 'Job', 'Housing', 'Saving accounts', 'Checking account',\n",
       "       'Credit amount', 'Duration', 'Purpose'],\n",
       "      dtype='object')"
      ]
     },
     "execution_count": 706,
     "metadata": {},
     "output_type": "execute_result"
    }
   ],
   "source": [
    "feature_names = df_without_target.columns\n",
    "feature_names"
   ]
  },
  {
   "cell_type": "markdown",
   "metadata": {},
   "source": [
    "#### 1. Initialize data interface"
   ]
  },
  {
   "cell_type": "code",
   "execution_count": 707,
   "metadata": {},
   "outputs": [],
   "source": [
    "from xai_cola import data_interface \n",
    "data1 = data_interface.PandasData(df_without_target, target_name='Risk')"
   ]
  },
  {
   "cell_type": "markdown",
   "metadata": {},
   "source": [
    "#### 2. Initialize model interface"
   ]
  },
  {
   "cell_type": "code",
   "execution_count": 708,
   "metadata": {},
   "outputs": [
    {
     "name": "stdout",
     "output_type": "stream",
     "text": [
      "----lgbm_GremanCredit.pkl model has been loaded----\n"
     ]
    }
   ],
   "source": [
    "import joblib\n",
    "lgbmcClassifier = joblib.load('lgbm_GremanCredit.pkl')\n",
    "print(f'----lgbm_GremanCredit.pkl model has been loaded----')"
   ]
  },
  {
   "cell_type": "code",
   "execution_count": 709,
   "metadata": {},
   "outputs": [],
   "source": [
    "from xai_cola import ml_model_interface\n",
    "ml_model1 = ml_model_interface.Model(model=lgbmcClassifier, backend=\"sklearn\")"
   ]
  },
  {
   "cell_type": "markdown",
   "metadata": {},
   "source": [
    "#### 3.Choose the CounterfactualExplanation Algorithm"
   ]
  },
  {
   "cell_type": "code",
   "execution_count": 710,
   "metadata": {},
   "outputs": [],
   "source": [
    "from counterfactual_explainer import DiCE\n",
    "explainer = DiCE(ml_model=ml_model1)"
   ]
  },
  {
   "cell_type": "code",
   "execution_count": 711,
   "metadata": {},
   "outputs": [
    {
     "name": "stderr",
     "output_type": "stream",
     "text": [
      "100%|██████████| 5/5 [00:00<00:00,  7.32it/s]"
     ]
    },
    {
     "name": "stdout",
     "output_type": "stream",
     "text": [
      "Factual: [[  36    1    2    1    1    2 3915   27    0]\n",
      " [  43    1    2    0    1    1 1333   24    1]\n",
      " [  42    1    3    1    2    2 8086   36    1]\n",
      " [  33    1    2    1    2    1 2359   24    4]\n",
      " [  30    1    3    1    2    2 1919   30    5]]\n",
      "Counterfactual: [[  36    1    2    1    1    2 7203   27    0]\n",
      " [  43    1    2    0    1    1 5497   24    1]\n",
      " [  42    1    3    1    2    2 7928   36    1]\n",
      " [  39    1    2    1    2    1 2359   27    4]\n",
      " [  30    1    3    1    2    2 7942   30    5]]\n"
     ]
    },
    {
     "name": "stderr",
     "output_type": "stream",
     "text": [
      "\n"
     ]
    }
   ],
   "source": [
    "factual, counterfactual = explainer.generate_counterfactuals(data=data1,\n",
    "                                                             factual_class=1,\n",
    "                                                             total_cfs=1)\n",
    "print(f'Factual: {factual}')\n",
    "print(f'Counterfactual: {counterfactual}')"
   ]
  },
  {
   "cell_type": "markdown",
   "metadata": {},
   "source": [
    "#### 4. Choose policy and make limitation"
   ]
  },
  {
   "cell_type": "code",
   "execution_count": 712,
   "metadata": {},
   "outputs": [
    {
     "name": "stdout",
     "output_type": "stream",
     "text": [
      "You choose the Policy: pshap With Optimal Transport Matching, Avalues_method is max\n"
     ]
    }
   ],
   "source": [
    "from xai_cola.counterfactual_limited_actions import COLA\n",
    "refiner = COLA(\n",
    "    data=data1,\n",
    "    ml_model=ml_model1,\n",
    "    x_factual=factual,\n",
    "    x_counterfactual=counterfactual,\n",
    ")\n",
    "refiner.set_policy(\n",
    "    matcher=\"ot\",\n",
    "    attributor=\"pshap\",\n",
    "    Avalues_method=\"max\"\n",
    "    )"
   ]
  },
  {
   "cell_type": "code",
   "execution_count": 713,
   "metadata": {},
   "outputs": [
    {
     "name": "stderr",
     "output_type": "stream",
     "text": [
      "INFO:shap:num_full_subsets = 3\n",
      "INFO:shap:phi = [-0.21057749 -0.0274783   0.0594797   0.21461199  0.10654806  0.16918744]\n",
      "INFO:shap:num_full_subsets = 3\n",
      "INFO:shap:phi = [-0.03291602  0.2184701  -0.005328    0.45929694  0.01910381  0.01044684]\n",
      "INFO:shap:num_full_subsets = 2\n",
      "INFO:shap:phi = [ 0.23467718  0.31134386 -0.02635609 -0.00718227]\n",
      "INFO:shap:num_full_subsets = 3\n",
      "INFO:shap:phi = [ 0.07351582 -0.04075535  0.21608805  0.20190609  0.02129067  0.15928859]\n",
      "INFO:shap:num_full_subsets = 4\n",
      "INFO:shap:phi = [-0.03664901 -0.04346676 -0.08997685  0.00110699 -0.01324027  0.56155565\n",
      "  0.01243991  0.02509277]\n"
     ]
    }
   ],
   "source": [
    "factual, ce, ace = refiner.get_refined_counterfactual(limited_actions=5)"
   ]
  },
  {
   "cell_type": "markdown",
   "metadata": {},
   "source": [
    "#### 5.Highlight the generated counterfactuals"
   ]
  },
  {
   "cell_type": "code",
   "execution_count": 714,
   "metadata": {},
   "outputs": [],
   "source": [
    "factual, refine_ce, refine_ace = refiner.highlight_changes()"
   ]
  },
  {
   "cell_type": "code",
   "execution_count": 715,
   "metadata": {},
   "outputs": [
    {
     "name": "stdout",
     "output_type": "stream",
     "text": [
      "factual\n"
     ]
    },
    {
     "data": {
      "text/html": [
       "<div>\n",
       "<style scoped>\n",
       "    .dataframe tbody tr th:only-of-type {\n",
       "        vertical-align: middle;\n",
       "    }\n",
       "\n",
       "    .dataframe tbody tr th {\n",
       "        vertical-align: top;\n",
       "    }\n",
       "\n",
       "    .dataframe thead th {\n",
       "        text-align: right;\n",
       "    }\n",
       "</style>\n",
       "<table border=\"1\" class=\"dataframe\">\n",
       "  <thead>\n",
       "    <tr style=\"text-align: right;\">\n",
       "      <th></th>\n",
       "      <th>Age</th>\n",
       "      <th>Sex</th>\n",
       "      <th>Job</th>\n",
       "      <th>Housing</th>\n",
       "      <th>Saving accounts</th>\n",
       "      <th>Checking account</th>\n",
       "      <th>Credit amount</th>\n",
       "      <th>Duration</th>\n",
       "      <th>Purpose</th>\n",
       "      <th>Risk</th>\n",
       "    </tr>\n",
       "  </thead>\n",
       "  <tbody>\n",
       "    <tr>\n",
       "      <th>0</th>\n",
       "      <td>36</td>\n",
       "      <td>1</td>\n",
       "      <td>2</td>\n",
       "      <td>1</td>\n",
       "      <td>1</td>\n",
       "      <td>2</td>\n",
       "      <td>3915</td>\n",
       "      <td>27</td>\n",
       "      <td>0</td>\n",
       "      <td>1</td>\n",
       "    </tr>\n",
       "    <tr>\n",
       "      <th>1</th>\n",
       "      <td>43</td>\n",
       "      <td>1</td>\n",
       "      <td>2</td>\n",
       "      <td>0</td>\n",
       "      <td>1</td>\n",
       "      <td>1</td>\n",
       "      <td>1333</td>\n",
       "      <td>24</td>\n",
       "      <td>1</td>\n",
       "      <td>1</td>\n",
       "    </tr>\n",
       "    <tr>\n",
       "      <th>2</th>\n",
       "      <td>42</td>\n",
       "      <td>1</td>\n",
       "      <td>3</td>\n",
       "      <td>1</td>\n",
       "      <td>2</td>\n",
       "      <td>2</td>\n",
       "      <td>8086</td>\n",
       "      <td>36</td>\n",
       "      <td>1</td>\n",
       "      <td>1</td>\n",
       "    </tr>\n",
       "    <tr>\n",
       "      <th>3</th>\n",
       "      <td>33</td>\n",
       "      <td>1</td>\n",
       "      <td>2</td>\n",
       "      <td>1</td>\n",
       "      <td>2</td>\n",
       "      <td>1</td>\n",
       "      <td>2359</td>\n",
       "      <td>24</td>\n",
       "      <td>4</td>\n",
       "      <td>1</td>\n",
       "    </tr>\n",
       "    <tr>\n",
       "      <th>4</th>\n",
       "      <td>30</td>\n",
       "      <td>1</td>\n",
       "      <td>3</td>\n",
       "      <td>1</td>\n",
       "      <td>2</td>\n",
       "      <td>2</td>\n",
       "      <td>1919</td>\n",
       "      <td>30</td>\n",
       "      <td>5</td>\n",
       "      <td>1</td>\n",
       "    </tr>\n",
       "  </tbody>\n",
       "</table>\n",
       "</div>"
      ],
      "text/plain": [
       "  Age Sex Job Housing Saving accounts Checking account Credit amount Duration  \\\n",
       "0  36   1   2       1               1                2          3915       27   \n",
       "1  43   1   2       0               1                1          1333       24   \n",
       "2  42   1   3       1               2                2          8086       36   \n",
       "3  33   1   2       1               2                1          2359       24   \n",
       "4  30   1   3       1               2                2          1919       30   \n",
       "\n",
       "  Purpose Risk  \n",
       "0       0    1  \n",
       "1       1    1  \n",
       "2       1    1  \n",
       "3       4    1  \n",
       "4       5    1  "
      ]
     },
     "metadata": {},
     "output_type": "display_data"
    },
    {
     "name": "stdout",
     "output_type": "stream",
     "text": [
      "factaul -> corresponding counterfactual\n"
     ]
    },
    {
     "data": {
      "text/html": [
       "<style type=\"text/css\">\n",
       "#T_2dcdd_row0_col0, #T_2dcdd_row0_col2, #T_2dcdd_row0_col4, #T_2dcdd_row0_col6, #T_2dcdd_row0_col7, #T_2dcdd_row0_col8, #T_2dcdd_row1_col0, #T_2dcdd_row1_col3, #T_2dcdd_row1_col4, #T_2dcdd_row1_col6, #T_2dcdd_row1_col7, #T_2dcdd_row1_col8, #T_2dcdd_row2_col0, #T_2dcdd_row2_col6, #T_2dcdd_row2_col7, #T_2dcdd_row2_col8, #T_2dcdd_row3_col0, #T_2dcdd_row3_col4, #T_2dcdd_row3_col5, #T_2dcdd_row3_col6, #T_2dcdd_row3_col7, #T_2dcdd_row3_col8, #T_2dcdd_row4_col0, #T_2dcdd_row4_col2, #T_2dcdd_row4_col3, #T_2dcdd_row4_col4, #T_2dcdd_row4_col5, #T_2dcdd_row4_col6, #T_2dcdd_row4_col7, #T_2dcdd_row4_col8 {\n",
       "  background-color: yellow;\n",
       "  border: 1px solid black;\n",
       "  text-align: center;\n",
       "}\n",
       "#T_2dcdd_row0_col1, #T_2dcdd_row0_col3, #T_2dcdd_row0_col5, #T_2dcdd_row1_col1, #T_2dcdd_row1_col2, #T_2dcdd_row1_col5, #T_2dcdd_row2_col1, #T_2dcdd_row2_col2, #T_2dcdd_row2_col3, #T_2dcdd_row2_col4, #T_2dcdd_row2_col5, #T_2dcdd_row3_col1, #T_2dcdd_row3_col2, #T_2dcdd_row3_col3, #T_2dcdd_row4_col1 {\n",
       "  text-align: center;\n",
       "}\n",
       "#T_2dcdd_row0_col9, #T_2dcdd_row1_col9, #T_2dcdd_row2_col9, #T_2dcdd_row3_col9, #T_2dcdd_row4_col9 {\n",
       "  background-color: lightgray;\n",
       "  border: 1px solid black;\n",
       "  text-align: center;\n",
       "}\n",
       "</style>\n",
       "<table id=\"T_2dcdd\">\n",
       "  <thead>\n",
       "    <tr>\n",
       "      <th class=\"blank level0\" >&nbsp;</th>\n",
       "      <th id=\"T_2dcdd_level0_col0\" class=\"col_heading level0 col0\" >Age</th>\n",
       "      <th id=\"T_2dcdd_level0_col1\" class=\"col_heading level0 col1\" >Sex</th>\n",
       "      <th id=\"T_2dcdd_level0_col2\" class=\"col_heading level0 col2\" >Job</th>\n",
       "      <th id=\"T_2dcdd_level0_col3\" class=\"col_heading level0 col3\" >Housing</th>\n",
       "      <th id=\"T_2dcdd_level0_col4\" class=\"col_heading level0 col4\" >Saving accounts</th>\n",
       "      <th id=\"T_2dcdd_level0_col5\" class=\"col_heading level0 col5\" >Checking account</th>\n",
       "      <th id=\"T_2dcdd_level0_col6\" class=\"col_heading level0 col6\" >Credit amount</th>\n",
       "      <th id=\"T_2dcdd_level0_col7\" class=\"col_heading level0 col7\" >Duration</th>\n",
       "      <th id=\"T_2dcdd_level0_col8\" class=\"col_heading level0 col8\" >Purpose</th>\n",
       "      <th id=\"T_2dcdd_level0_col9\" class=\"col_heading level0 col9\" >Risk</th>\n",
       "    </tr>\n",
       "  </thead>\n",
       "  <tbody>\n",
       "    <tr>\n",
       "      <th id=\"T_2dcdd_level0_row0\" class=\"row_heading level0 row0\" >0</th>\n",
       "      <td id=\"T_2dcdd_row0_col0\" class=\"data row0 col0\" >36 -> 42</td>\n",
       "      <td id=\"T_2dcdd_row0_col1\" class=\"data row0 col1\" >1</td>\n",
       "      <td id=\"T_2dcdd_row0_col2\" class=\"data row0 col2\" >2 -> 3</td>\n",
       "      <td id=\"T_2dcdd_row0_col3\" class=\"data row0 col3\" >1</td>\n",
       "      <td id=\"T_2dcdd_row0_col4\" class=\"data row0 col4\" >1 -> 2</td>\n",
       "      <td id=\"T_2dcdd_row0_col5\" class=\"data row0 col5\" >2</td>\n",
       "      <td id=\"T_2dcdd_row0_col6\" class=\"data row0 col6\" >3915 -> 7928</td>\n",
       "      <td id=\"T_2dcdd_row0_col7\" class=\"data row0 col7\" >27 -> 36</td>\n",
       "      <td id=\"T_2dcdd_row0_col8\" class=\"data row0 col8\" >0 -> 1</td>\n",
       "      <td id=\"T_2dcdd_row0_col9\" class=\"data row0 col9\" >1 -> 0</td>\n",
       "    </tr>\n",
       "    <tr>\n",
       "      <th id=\"T_2dcdd_level0_row1\" class=\"row_heading level0 row1\" >1</th>\n",
       "      <td id=\"T_2dcdd_row1_col0\" class=\"data row1 col0\" >43 -> 39</td>\n",
       "      <td id=\"T_2dcdd_row1_col1\" class=\"data row1 col1\" >1</td>\n",
       "      <td id=\"T_2dcdd_row1_col2\" class=\"data row1 col2\" >2</td>\n",
       "      <td id=\"T_2dcdd_row1_col3\" class=\"data row1 col3\" >0 -> 1</td>\n",
       "      <td id=\"T_2dcdd_row1_col4\" class=\"data row1 col4\" >1 -> 2</td>\n",
       "      <td id=\"T_2dcdd_row1_col5\" class=\"data row1 col5\" >1</td>\n",
       "      <td id=\"T_2dcdd_row1_col6\" class=\"data row1 col6\" >1333 -> 2359</td>\n",
       "      <td id=\"T_2dcdd_row1_col7\" class=\"data row1 col7\" >24 -> 27</td>\n",
       "      <td id=\"T_2dcdd_row1_col8\" class=\"data row1 col8\" >1 -> 4</td>\n",
       "      <td id=\"T_2dcdd_row1_col9\" class=\"data row1 col9\" >1 -> 0</td>\n",
       "    </tr>\n",
       "    <tr>\n",
       "      <th id=\"T_2dcdd_level0_row2\" class=\"row_heading level0 row2\" >2</th>\n",
       "      <td id=\"T_2dcdd_row2_col0\" class=\"data row2 col0\" >42 -> 30</td>\n",
       "      <td id=\"T_2dcdd_row2_col1\" class=\"data row2 col1\" >1</td>\n",
       "      <td id=\"T_2dcdd_row2_col2\" class=\"data row2 col2\" >3</td>\n",
       "      <td id=\"T_2dcdd_row2_col3\" class=\"data row2 col3\" >1</td>\n",
       "      <td id=\"T_2dcdd_row2_col4\" class=\"data row2 col4\" >2</td>\n",
       "      <td id=\"T_2dcdd_row2_col5\" class=\"data row2 col5\" >2</td>\n",
       "      <td id=\"T_2dcdd_row2_col6\" class=\"data row2 col6\" >8086 -> 7942</td>\n",
       "      <td id=\"T_2dcdd_row2_col7\" class=\"data row2 col7\" >36 -> 30</td>\n",
       "      <td id=\"T_2dcdd_row2_col8\" class=\"data row2 col8\" >1 -> 5</td>\n",
       "      <td id=\"T_2dcdd_row2_col9\" class=\"data row2 col9\" >1 -> 0</td>\n",
       "    </tr>\n",
       "    <tr>\n",
       "      <th id=\"T_2dcdd_level0_row3\" class=\"row_heading level0 row3\" >3</th>\n",
       "      <td id=\"T_2dcdd_row3_col0\" class=\"data row3 col0\" >33 -> 36</td>\n",
       "      <td id=\"T_2dcdd_row3_col1\" class=\"data row3 col1\" >1</td>\n",
       "      <td id=\"T_2dcdd_row3_col2\" class=\"data row3 col2\" >2</td>\n",
       "      <td id=\"T_2dcdd_row3_col3\" class=\"data row3 col3\" >1</td>\n",
       "      <td id=\"T_2dcdd_row3_col4\" class=\"data row3 col4\" >2 -> 1</td>\n",
       "      <td id=\"T_2dcdd_row3_col5\" class=\"data row3 col5\" >1 -> 2</td>\n",
       "      <td id=\"T_2dcdd_row3_col6\" class=\"data row3 col6\" >2359 -> 7203</td>\n",
       "      <td id=\"T_2dcdd_row3_col7\" class=\"data row3 col7\" >24 -> 27</td>\n",
       "      <td id=\"T_2dcdd_row3_col8\" class=\"data row3 col8\" >4 -> 0</td>\n",
       "      <td id=\"T_2dcdd_row3_col9\" class=\"data row3 col9\" >1 -> 0</td>\n",
       "    </tr>\n",
       "    <tr>\n",
       "      <th id=\"T_2dcdd_level0_row4\" class=\"row_heading level0 row4\" >4</th>\n",
       "      <td id=\"T_2dcdd_row4_col0\" class=\"data row4 col0\" >30 -> 43</td>\n",
       "      <td id=\"T_2dcdd_row4_col1\" class=\"data row4 col1\" >1</td>\n",
       "      <td id=\"T_2dcdd_row4_col2\" class=\"data row4 col2\" >3 -> 2</td>\n",
       "      <td id=\"T_2dcdd_row4_col3\" class=\"data row4 col3\" >1 -> 0</td>\n",
       "      <td id=\"T_2dcdd_row4_col4\" class=\"data row4 col4\" >2 -> 1</td>\n",
       "      <td id=\"T_2dcdd_row4_col5\" class=\"data row4 col5\" >2 -> 1</td>\n",
       "      <td id=\"T_2dcdd_row4_col6\" class=\"data row4 col6\" >1919 -> 5497</td>\n",
       "      <td id=\"T_2dcdd_row4_col7\" class=\"data row4 col7\" >30 -> 24</td>\n",
       "      <td id=\"T_2dcdd_row4_col8\" class=\"data row4 col8\" >5 -> 1</td>\n",
       "      <td id=\"T_2dcdd_row4_col9\" class=\"data row4 col9\" >1 -> 0</td>\n",
       "    </tr>\n",
       "  </tbody>\n",
       "</table>\n"
      ],
      "text/plain": [
       "<pandas.io.formats.style.Styler at 0x276edca70d0>"
      ]
     },
     "metadata": {},
     "output_type": "display_data"
    },
    {
     "name": "stdout",
     "output_type": "stream",
     "text": [
      "factual -> action-limited counterfactual\n"
     ]
    },
    {
     "data": {
      "text/html": [
       "<style type=\"text/css\">\n",
       "#T_77811_row0_col0, #T_77811_row0_col1, #T_77811_row0_col2, #T_77811_row0_col3, #T_77811_row0_col4, #T_77811_row0_col5, #T_77811_row0_col6, #T_77811_row0_col7, #T_77811_row0_col8, #T_77811_row0_col9, #T_77811_row1_col0, #T_77811_row1_col1, #T_77811_row1_col2, #T_77811_row1_col4, #T_77811_row1_col5, #T_77811_row1_col7, #T_77811_row1_col8, #T_77811_row2_col1, #T_77811_row2_col2, #T_77811_row2_col3, #T_77811_row2_col4, #T_77811_row2_col5, #T_77811_row2_col7, #T_77811_row2_col8, #T_77811_row3_col0, #T_77811_row3_col1, #T_77811_row3_col2, #T_77811_row3_col3, #T_77811_row3_col4, #T_77811_row3_col5, #T_77811_row3_col6, #T_77811_row3_col7, #T_77811_row3_col8, #T_77811_row3_col9, #T_77811_row4_col0, #T_77811_row4_col1, #T_77811_row4_col2, #T_77811_row4_col3, #T_77811_row4_col4, #T_77811_row4_col5, #T_77811_row4_col7, #T_77811_row4_col8 {\n",
       "  text-align: center;\n",
       "}\n",
       "#T_77811_row1_col3, #T_77811_row1_col6, #T_77811_row2_col0, #T_77811_row2_col6, #T_77811_row4_col6 {\n",
       "  background-color: yellow;\n",
       "  border: 1px solid black;\n",
       "  text-align: center;\n",
       "}\n",
       "#T_77811_row1_col9, #T_77811_row2_col9, #T_77811_row4_col9 {\n",
       "  background-color: lightgray;\n",
       "  border: 1px solid black;\n",
       "  text-align: center;\n",
       "}\n",
       "</style>\n",
       "<table id=\"T_77811\">\n",
       "  <thead>\n",
       "    <tr>\n",
       "      <th class=\"blank level0\" >&nbsp;</th>\n",
       "      <th id=\"T_77811_level0_col0\" class=\"col_heading level0 col0\" >Age</th>\n",
       "      <th id=\"T_77811_level0_col1\" class=\"col_heading level0 col1\" >Sex</th>\n",
       "      <th id=\"T_77811_level0_col2\" class=\"col_heading level0 col2\" >Job</th>\n",
       "      <th id=\"T_77811_level0_col3\" class=\"col_heading level0 col3\" >Housing</th>\n",
       "      <th id=\"T_77811_level0_col4\" class=\"col_heading level0 col4\" >Saving accounts</th>\n",
       "      <th id=\"T_77811_level0_col5\" class=\"col_heading level0 col5\" >Checking account</th>\n",
       "      <th id=\"T_77811_level0_col6\" class=\"col_heading level0 col6\" >Credit amount</th>\n",
       "      <th id=\"T_77811_level0_col7\" class=\"col_heading level0 col7\" >Duration</th>\n",
       "      <th id=\"T_77811_level0_col8\" class=\"col_heading level0 col8\" >Purpose</th>\n",
       "      <th id=\"T_77811_level0_col9\" class=\"col_heading level0 col9\" >Risk</th>\n",
       "    </tr>\n",
       "  </thead>\n",
       "  <tbody>\n",
       "    <tr>\n",
       "      <th id=\"T_77811_level0_row0\" class=\"row_heading level0 row0\" >0</th>\n",
       "      <td id=\"T_77811_row0_col0\" class=\"data row0 col0\" >36</td>\n",
       "      <td id=\"T_77811_row0_col1\" class=\"data row0 col1\" >1</td>\n",
       "      <td id=\"T_77811_row0_col2\" class=\"data row0 col2\" >2</td>\n",
       "      <td id=\"T_77811_row0_col3\" class=\"data row0 col3\" >1</td>\n",
       "      <td id=\"T_77811_row0_col4\" class=\"data row0 col4\" >1</td>\n",
       "      <td id=\"T_77811_row0_col5\" class=\"data row0 col5\" >2</td>\n",
       "      <td id=\"T_77811_row0_col6\" class=\"data row0 col6\" >3915</td>\n",
       "      <td id=\"T_77811_row0_col7\" class=\"data row0 col7\" >27</td>\n",
       "      <td id=\"T_77811_row0_col8\" class=\"data row0 col8\" >0</td>\n",
       "      <td id=\"T_77811_row0_col9\" class=\"data row0 col9\" >1</td>\n",
       "    </tr>\n",
       "    <tr>\n",
       "      <th id=\"T_77811_level0_row1\" class=\"row_heading level0 row1\" >1</th>\n",
       "      <td id=\"T_77811_row1_col0\" class=\"data row1 col0\" >43</td>\n",
       "      <td id=\"T_77811_row1_col1\" class=\"data row1 col1\" >1</td>\n",
       "      <td id=\"T_77811_row1_col2\" class=\"data row1 col2\" >2</td>\n",
       "      <td id=\"T_77811_row1_col3\" class=\"data row1 col3\" >0 -> 1</td>\n",
       "      <td id=\"T_77811_row1_col4\" class=\"data row1 col4\" >1</td>\n",
       "      <td id=\"T_77811_row1_col5\" class=\"data row1 col5\" >1</td>\n",
       "      <td id=\"T_77811_row1_col6\" class=\"data row1 col6\" >1333 -> 2359</td>\n",
       "      <td id=\"T_77811_row1_col7\" class=\"data row1 col7\" >24</td>\n",
       "      <td id=\"T_77811_row1_col8\" class=\"data row1 col8\" >1</td>\n",
       "      <td id=\"T_77811_row1_col9\" class=\"data row1 col9\" >1 -> 0</td>\n",
       "    </tr>\n",
       "    <tr>\n",
       "      <th id=\"T_77811_level0_row2\" class=\"row_heading level0 row2\" >2</th>\n",
       "      <td id=\"T_77811_row2_col0\" class=\"data row2 col0\" >42 -> 30</td>\n",
       "      <td id=\"T_77811_row2_col1\" class=\"data row2 col1\" >1</td>\n",
       "      <td id=\"T_77811_row2_col2\" class=\"data row2 col2\" >3</td>\n",
       "      <td id=\"T_77811_row2_col3\" class=\"data row2 col3\" >1</td>\n",
       "      <td id=\"T_77811_row2_col4\" class=\"data row2 col4\" >2</td>\n",
       "      <td id=\"T_77811_row2_col5\" class=\"data row2 col5\" >2</td>\n",
       "      <td id=\"T_77811_row2_col6\" class=\"data row2 col6\" >8086 -> 7942</td>\n",
       "      <td id=\"T_77811_row2_col7\" class=\"data row2 col7\" >36</td>\n",
       "      <td id=\"T_77811_row2_col8\" class=\"data row2 col8\" >1</td>\n",
       "      <td id=\"T_77811_row2_col9\" class=\"data row2 col9\" >1 -> 0</td>\n",
       "    </tr>\n",
       "    <tr>\n",
       "      <th id=\"T_77811_level0_row3\" class=\"row_heading level0 row3\" >3</th>\n",
       "      <td id=\"T_77811_row3_col0\" class=\"data row3 col0\" >33</td>\n",
       "      <td id=\"T_77811_row3_col1\" class=\"data row3 col1\" >1</td>\n",
       "      <td id=\"T_77811_row3_col2\" class=\"data row3 col2\" >2</td>\n",
       "      <td id=\"T_77811_row3_col3\" class=\"data row3 col3\" >1</td>\n",
       "      <td id=\"T_77811_row3_col4\" class=\"data row3 col4\" >2</td>\n",
       "      <td id=\"T_77811_row3_col5\" class=\"data row3 col5\" >1</td>\n",
       "      <td id=\"T_77811_row3_col6\" class=\"data row3 col6\" >2359</td>\n",
       "      <td id=\"T_77811_row3_col7\" class=\"data row3 col7\" >24</td>\n",
       "      <td id=\"T_77811_row3_col8\" class=\"data row3 col8\" >4</td>\n",
       "      <td id=\"T_77811_row3_col9\" class=\"data row3 col9\" >1</td>\n",
       "    </tr>\n",
       "    <tr>\n",
       "      <th id=\"T_77811_level0_row4\" class=\"row_heading level0 row4\" >4</th>\n",
       "      <td id=\"T_77811_row4_col0\" class=\"data row4 col0\" >30</td>\n",
       "      <td id=\"T_77811_row4_col1\" class=\"data row4 col1\" >1</td>\n",
       "      <td id=\"T_77811_row4_col2\" class=\"data row4 col2\" >3</td>\n",
       "      <td id=\"T_77811_row4_col3\" class=\"data row4 col3\" >1</td>\n",
       "      <td id=\"T_77811_row4_col4\" class=\"data row4 col4\" >2</td>\n",
       "      <td id=\"T_77811_row4_col5\" class=\"data row4 col5\" >2</td>\n",
       "      <td id=\"T_77811_row4_col6\" class=\"data row4 col6\" >1919 -> 5497</td>\n",
       "      <td id=\"T_77811_row4_col7\" class=\"data row4 col7\" >30</td>\n",
       "      <td id=\"T_77811_row4_col8\" class=\"data row4 col8\" >5</td>\n",
       "      <td id=\"T_77811_row4_col9\" class=\"data row4 col9\" >1 -> 0</td>\n",
       "    </tr>\n",
       "  </tbody>\n",
       "</table>\n"
      ],
      "text/plain": [
       "<pandas.io.formats.style.Styler at 0x276edd26680>"
      ]
     },
     "metadata": {},
     "output_type": "display_data"
    }
   ],
   "source": [
    "print(\"factual\")\n",
    "display(factual)\n",
    "print(\"factaul -> corresponding counterfactual\")\n",
    "display(refine_ce)\n",
    "print(\"factual -> action-limited counterfactual\")\n",
    "display(refine_ace)"
   ]
  }
 ],
 "metadata": {
  "kernelspec": {
   "display_name": "COLA",
   "language": "python",
   "name": "python3"
  },
  "language_info": {
   "codemirror_mode": {
    "name": "ipython",
    "version": 3
   },
   "file_extension": ".py",
   "mimetype": "text/x-python",
   "name": "python",
   "nbconvert_exporter": "python",
   "pygments_lexer": "ipython3",
   "version": "3.10.13"
  }
 },
 "nbformat": 4,
 "nbformat_minor": 2
}
