{
 "cells": [
  {
   "cell_type": "code",
   "execution_count": 105,
   "metadata": {},
   "outputs": [],
   "source": [
    "%reload_ext autoreload\n",
    "%autoreload 2"
   ]
  },
  {
   "cell_type": "code",
   "execution_count": 106,
   "metadata": {},
   "outputs": [],
   "source": [
    "from xai_cola import data_interface \n",
    "from xai_cola import ml_model_interface\n",
    "from counterfactual_explainer import DiCE,DisCount\n",
    "from xai_cola.cola_policy.matching import CounterfactualExactMatchingPolicy\n",
    "from xai_cola.counterfactual_limited_actions import COLA"
   ]
  },
  {
   "cell_type": "markdown",
   "metadata": {},
   "source": [
    "#### 0. Pick the data to be factual(\"Risk\"=1)"
   ]
  },
  {
   "cell_type": "code",
   "execution_count": 107,
   "metadata": {},
   "outputs": [
    {
     "name": "stderr",
     "output_type": "stream",
     "text": [
      "Downcasting behavior in `replace` is deprecated and will be removed in a future version. To retain the old behavior, explicitly call `result.infer_objects(copy=False)`. To opt-in to the future behavior, set `pd.set_option('future.no_silent_downcasting', True)`\n"
     ]
    },
    {
     "data": {
      "text/html": [
       "<div>\n",
       "<style scoped>\n",
       "    .dataframe tbody tr th:only-of-type {\n",
       "        vertical-align: middle;\n",
       "    }\n",
       "\n",
       "    .dataframe tbody tr th {\n",
       "        vertical-align: top;\n",
       "    }\n",
       "\n",
       "    .dataframe thead th {\n",
       "        text-align: right;\n",
       "    }\n",
       "</style>\n",
       "<table border=\"1\" class=\"dataframe\">\n",
       "  <thead>\n",
       "    <tr style=\"text-align: right;\">\n",
       "      <th></th>\n",
       "      <th>Age</th>\n",
       "      <th>Sex</th>\n",
       "      <th>Job</th>\n",
       "      <th>Housing</th>\n",
       "      <th>Saving accounts</th>\n",
       "      <th>Checking account</th>\n",
       "      <th>Credit amount</th>\n",
       "      <th>Duration</th>\n",
       "      <th>Purpose</th>\n",
       "      <th>Risk</th>\n",
       "    </tr>\n",
       "  </thead>\n",
       "  <tbody>\n",
       "    <tr>\n",
       "      <th>0</th>\n",
       "      <td>67</td>\n",
       "      <td>1</td>\n",
       "      <td>2</td>\n",
       "      <td>1</td>\n",
       "      <td>0</td>\n",
       "      <td>1</td>\n",
       "      <td>1169</td>\n",
       "      <td>6</td>\n",
       "      <td>5</td>\n",
       "      <td>0</td>\n",
       "    </tr>\n",
       "    <tr>\n",
       "      <th>1</th>\n",
       "      <td>22</td>\n",
       "      <td>0</td>\n",
       "      <td>2</td>\n",
       "      <td>1</td>\n",
       "      <td>1</td>\n",
       "      <td>2</td>\n",
       "      <td>5951</td>\n",
       "      <td>48</td>\n",
       "      <td>5</td>\n",
       "      <td>1</td>\n",
       "    </tr>\n",
       "    <tr>\n",
       "      <th>2</th>\n",
       "      <td>49</td>\n",
       "      <td>1</td>\n",
       "      <td>1</td>\n",
       "      <td>1</td>\n",
       "      <td>1</td>\n",
       "      <td>0</td>\n",
       "      <td>2096</td>\n",
       "      <td>12</td>\n",
       "      <td>3</td>\n",
       "      <td>0</td>\n",
       "    </tr>\n",
       "  </tbody>\n",
       "</table>\n",
       "</div>"
      ],
      "text/plain": [
       "   Age  Sex  Job  Housing  Saving accounts  Checking account  Credit amount  \\\n",
       "0   67    1    2        1                0                 1           1169   \n",
       "1   22    0    2        1                1                 2           5951   \n",
       "2   49    1    1        1                1                 0           2096   \n",
       "\n",
       "   Duration  Purpose  Risk  \n",
       "0         6        5     0  \n",
       "1        48        5     1  \n",
       "2        12        3     0  "
      ]
     },
     "execution_count": 107,
     "metadata": {},
     "output_type": "execute_result"
    }
   ],
   "source": [
    "from test_dataset.german_credit import GermanCreditDataset\n",
    "dataset = GermanCreditDataset()\n",
    "df = dataset.get_dataframe()\n",
    "df.head(3)"
   ]
  },
  {
   "cell_type": "code",
   "execution_count": 108,
   "metadata": {},
   "outputs": [
    {
     "data": {
      "text/html": [
       "<div>\n",
       "<style scoped>\n",
       "    .dataframe tbody tr th:only-of-type {\n",
       "        vertical-align: middle;\n",
       "    }\n",
       "\n",
       "    .dataframe tbody tr th {\n",
       "        vertical-align: top;\n",
       "    }\n",
       "\n",
       "    .dataframe thead th {\n",
       "        text-align: right;\n",
       "    }\n",
       "</style>\n",
       "<table border=\"1\" class=\"dataframe\">\n",
       "  <thead>\n",
       "    <tr style=\"text-align: right;\">\n",
       "      <th></th>\n",
       "      <th>Age</th>\n",
       "      <th>Sex</th>\n",
       "      <th>Job</th>\n",
       "      <th>Housing</th>\n",
       "      <th>Saving accounts</th>\n",
       "      <th>Checking account</th>\n",
       "      <th>Credit amount</th>\n",
       "      <th>Duration</th>\n",
       "      <th>Purpose</th>\n",
       "    </tr>\n",
       "  </thead>\n",
       "  <tbody>\n",
       "    <tr>\n",
       "      <th>197</th>\n",
       "      <td>27</td>\n",
       "      <td>0</td>\n",
       "      <td>2</td>\n",
       "      <td>2</td>\n",
       "      <td>2</td>\n",
       "      <td>2</td>\n",
       "      <td>951</td>\n",
       "      <td>12</td>\n",
       "      <td>4</td>\n",
       "    </tr>\n",
       "    <tr>\n",
       "      <th>634</th>\n",
       "      <td>25</td>\n",
       "      <td>0</td>\n",
       "      <td>1</td>\n",
       "      <td>1</td>\n",
       "      <td>1</td>\n",
       "      <td>2</td>\n",
       "      <td>1355</td>\n",
       "      <td>24</td>\n",
       "      <td>1</td>\n",
       "    </tr>\n",
       "    <tr>\n",
       "      <th>454</th>\n",
       "      <td>31</td>\n",
       "      <td>1</td>\n",
       "      <td>2</td>\n",
       "      <td>1</td>\n",
       "      <td>1</td>\n",
       "      <td>1</td>\n",
       "      <td>4817</td>\n",
       "      <td>24</td>\n",
       "      <td>1</td>\n",
       "    </tr>\n",
       "    <tr>\n",
       "      <th>596</th>\n",
       "      <td>23</td>\n",
       "      <td>0</td>\n",
       "      <td>2</td>\n",
       "      <td>2</td>\n",
       "      <td>1</td>\n",
       "      <td>1</td>\n",
       "      <td>1442</td>\n",
       "      <td>24</td>\n",
       "      <td>1</td>\n",
       "    </tr>\n",
       "    <tr>\n",
       "      <th>15</th>\n",
       "      <td>32</td>\n",
       "      <td>0</td>\n",
       "      <td>1</td>\n",
       "      <td>1</td>\n",
       "      <td>2</td>\n",
       "      <td>1</td>\n",
       "      <td>1282</td>\n",
       "      <td>24</td>\n",
       "      <td>5</td>\n",
       "    </tr>\n",
       "  </tbody>\n",
       "</table>\n",
       "</div>"
      ],
      "text/plain": [
       "     Age  Sex  Job  Housing  Saving accounts  Checking account  Credit amount  \\\n",
       "197   27    0    2        2                2                 2            951   \n",
       "634   25    0    1        1                1                 2           1355   \n",
       "454   31    1    2        1                1                 1           4817   \n",
       "596   23    0    2        2                1                 1           1442   \n",
       "15    32    0    1        1                2                 1           1282   \n",
       "\n",
       "     Duration  Purpose  \n",
       "197        12        4  \n",
       "634        24        1  \n",
       "454        24        1  \n",
       "596        24        1  \n",
       "15         24        5  "
      ]
     },
     "execution_count": 108,
     "metadata": {},
     "output_type": "execute_result"
    }
   ],
   "source": [
    "# pick 4 samples with Risk = 1\n",
    "df_Risk_1 = df[df['Risk'] == 1]\n",
    "df_Risk_1 = df_Risk_1.sample(6)\n",
    "\n",
    "# drop the target column.\n",
    "# Normally, the input data doesn't contain the target column\n",
    "df_without_target = df_Risk_1.drop(columns=['Risk']).copy()\n",
    "feature_names = df_without_target.columns\n",
    "df_without_target.head()"
   ]
  },
  {
   "cell_type": "markdown",
   "metadata": {},
   "source": [
    "#### 1. Initialize data interface"
   ]
  },
  {
   "cell_type": "code",
   "execution_count": 109,
   "metadata": {},
   "outputs": [],
   "source": [
    "data1 = data_interface.PandasData(df_without_target, target_name='Risk')"
   ]
  },
  {
   "cell_type": "markdown",
   "metadata": {},
   "source": [
    "#### 2. Initialize model interface"
   ]
  },
  {
   "cell_type": "code",
   "execution_count": 110,
   "metadata": {},
   "outputs": [
    {
     "name": "stdout",
     "output_type": "stream",
     "text": [
      "----lgbm_GremanCredit.pkl model has been loaded----\n"
     ]
    }
   ],
   "source": [
    "import joblib\n",
    "lgbmcClassifier = joblib.load('lgbm_GremanCredit.pkl')\n",
    "print(f'----lgbm_GremanCredit.pkl model has been loaded----')"
   ]
  },
  {
   "cell_type": "code",
   "execution_count": 111,
   "metadata": {},
   "outputs": [],
   "source": [
    "ml_model1 = ml_model_interface.Model(model=lgbmcClassifier, backend=\"sklearn\")"
   ]
  },
  {
   "cell_type": "markdown",
   "metadata": {},
   "source": [
    "#### 3.Choose the CounterfactualExplanation Algorithm"
   ]
  },
  {
   "cell_type": "code",
   "execution_count": 112,
   "metadata": {},
   "outputs": [],
   "source": [
    "explainer = DiCE(ml_model=ml_model1)\n",
    "explainer_discount = DisCount(ml_model=ml_model1)"
   ]
  },
  {
   "cell_type": "code",
   "execution_count": 113,
   "metadata": {},
   "outputs": [
    {
     "name": "stderr",
     "output_type": "stream",
     "text": [
      "100%|██████████| 6/6 [00:00<00:00,  9.47it/s]\n"
     ]
    }
   ],
   "source": [
    "factual, counterfactual = explainer.generate_counterfactuals(data=data1,\n",
    "                                                             factual_class=1,\n",
    "                                                             total_cfs=1,\n",
    "                                                             features_to_keep=['Age','Sex'])"
   ]
  },
  {
   "cell_type": "markdown",
   "metadata": {},
   "source": [
    "#### 4. Choose policy and make limitation"
   ]
  },
  {
   "cell_type": "code",
   "execution_count": 114,
   "metadata": {},
   "outputs": [
    {
     "name": "stdout",
     "output_type": "stream",
     "text": [
      "You choose the Policy: pshap With Exact Matching, Avalues_method is max\n"
     ]
    }
   ],
   "source": [
    "refiner = COLA(\n",
    "            data=data1,\n",
    "            ml_model=ml_model1,\n",
    "            x_factual=factual,\n",
    "            x_counterfactual=counterfactual,\n",
    "            )\n",
    "refiner.set_policy(\n",
    "            matcher=\"ect\",\n",
    "            attributor=\"pshap\",\n",
    "            Avalues_method=\"max\"\n",
    "            )"
   ]
  },
  {
   "cell_type": "code",
   "execution_count": 115,
   "metadata": {},
   "outputs": [
    {
     "name": "stderr",
     "output_type": "stream",
     "text": [
      "INFO:shap:num_full_subsets = 1\n",
      "INFO:shap:phi = [0.02914475 0.69187346]\n",
      "INFO:shap:num_full_subsets = 1\n",
      "INFO:shap:phi = [0.28868069 0.02056964]\n",
      "INFO:shap:num_full_subsets = 1\n",
      "INFO:shap:phi = [-0.02085537  0.65714961]\n",
      "INFO:shap:num_full_subsets = 1\n",
      "INFO:shap:phi = [0.53633698 0.10245351]\n",
      "INFO:shap:num_full_subsets = 1\n",
      "INFO:shap:phi = [0.74194351 0.        ]\n"
     ]
    }
   ],
   "source": [
    "\"\"\" Here! control the limited actions \"\"\"\n",
    "factual, ce, ace = refiner.get_refined_counterfactual(limited_actions=7)"
   ]
  },
  {
   "cell_type": "markdown",
   "metadata": {},
   "source": [
    "#### 5.Highlight the generated counterfactuals"
   ]
  },
  {
   "cell_type": "code",
   "execution_count": 116,
   "metadata": {},
   "outputs": [],
   "source": [
    "refine_factual, refine_ce, refine_ace = refiner.highlight_changes()"
   ]
  },
  {
   "cell_type": "code",
   "execution_count": 117,
   "metadata": {},
   "outputs": [
    {
     "name": "stdout",
     "output_type": "stream",
     "text": [
      "factual\n"
     ]
    },
    {
     "data": {
      "text/html": [
       "<div>\n",
       "<style scoped>\n",
       "    .dataframe tbody tr th:only-of-type {\n",
       "        vertical-align: middle;\n",
       "    }\n",
       "\n",
       "    .dataframe tbody tr th {\n",
       "        vertical-align: top;\n",
       "    }\n",
       "\n",
       "    .dataframe thead th {\n",
       "        text-align: right;\n",
       "    }\n",
       "</style>\n",
       "<table border=\"1\" class=\"dataframe\">\n",
       "  <thead>\n",
       "    <tr style=\"text-align: right;\">\n",
       "      <th></th>\n",
       "      <th>Age</th>\n",
       "      <th>Sex</th>\n",
       "      <th>Job</th>\n",
       "      <th>Housing</th>\n",
       "      <th>Saving accounts</th>\n",
       "      <th>Checking account</th>\n",
       "      <th>Credit amount</th>\n",
       "      <th>Duration</th>\n",
       "      <th>Purpose</th>\n",
       "      <th>Risk</th>\n",
       "    </tr>\n",
       "  </thead>\n",
       "  <tbody>\n",
       "    <tr>\n",
       "      <th>0</th>\n",
       "      <td>27</td>\n",
       "      <td>0</td>\n",
       "      <td>2</td>\n",
       "      <td>2</td>\n",
       "      <td>2</td>\n",
       "      <td>2</td>\n",
       "      <td>951</td>\n",
       "      <td>12</td>\n",
       "      <td>4</td>\n",
       "      <td>1</td>\n",
       "    </tr>\n",
       "    <tr>\n",
       "      <th>1</th>\n",
       "      <td>25</td>\n",
       "      <td>0</td>\n",
       "      <td>1</td>\n",
       "      <td>1</td>\n",
       "      <td>1</td>\n",
       "      <td>2</td>\n",
       "      <td>1355</td>\n",
       "      <td>24</td>\n",
       "      <td>1</td>\n",
       "      <td>1</td>\n",
       "    </tr>\n",
       "    <tr>\n",
       "      <th>2</th>\n",
       "      <td>31</td>\n",
       "      <td>1</td>\n",
       "      <td>2</td>\n",
       "      <td>1</td>\n",
       "      <td>1</td>\n",
       "      <td>1</td>\n",
       "      <td>4817</td>\n",
       "      <td>24</td>\n",
       "      <td>1</td>\n",
       "      <td>1</td>\n",
       "    </tr>\n",
       "    <tr>\n",
       "      <th>3</th>\n",
       "      <td>23</td>\n",
       "      <td>0</td>\n",
       "      <td>2</td>\n",
       "      <td>2</td>\n",
       "      <td>1</td>\n",
       "      <td>1</td>\n",
       "      <td>1442</td>\n",
       "      <td>24</td>\n",
       "      <td>1</td>\n",
       "      <td>1</td>\n",
       "    </tr>\n",
       "    <tr>\n",
       "      <th>4</th>\n",
       "      <td>32</td>\n",
       "      <td>0</td>\n",
       "      <td>1</td>\n",
       "      <td>1</td>\n",
       "      <td>2</td>\n",
       "      <td>1</td>\n",
       "      <td>1282</td>\n",
       "      <td>24</td>\n",
       "      <td>5</td>\n",
       "      <td>1</td>\n",
       "    </tr>\n",
       "    <tr>\n",
       "      <th>5</th>\n",
       "      <td>53</td>\n",
       "      <td>0</td>\n",
       "      <td>3</td>\n",
       "      <td>1</td>\n",
       "      <td>0</td>\n",
       "      <td>0</td>\n",
       "      <td>7485</td>\n",
       "      <td>30</td>\n",
       "      <td>1</td>\n",
       "      <td>1</td>\n",
       "    </tr>\n",
       "  </tbody>\n",
       "</table>\n",
       "</div>"
      ],
      "text/plain": [
       "   Age  Sex  Job  Housing  Saving accounts  Checking account  Credit amount  \\\n",
       "0   27    0    2        2                2                 2            951   \n",
       "1   25    0    1        1                1                 2           1355   \n",
       "2   31    1    2        1                1                 1           4817   \n",
       "3   23    0    2        2                1                 1           1442   \n",
       "4   32    0    1        1                2                 1           1282   \n",
       "5   53    0    3        1                0                 0           7485   \n",
       "\n",
       "   Duration  Purpose  Risk  \n",
       "0        12        4     1  \n",
       "1        24        1     1  \n",
       "2        24        1     1  \n",
       "3        24        1     1  \n",
       "4        24        5     1  \n",
       "5        30        1     1  "
      ]
     },
     "metadata": {},
     "output_type": "display_data"
    },
    {
     "name": "stdout",
     "output_type": "stream",
     "text": [
      "factaul -> corresponding counterfactual\n"
     ]
    },
    {
     "data": {
      "text/html": [
       "<style type=\"text/css\">\n",
       "#T_91cc6_row0_col0, #T_91cc6_row0_col1, #T_91cc6_row0_col2, #T_91cc6_row0_col3, #T_91cc6_row0_col4, #T_91cc6_row0_col5, #T_91cc6_row0_col7, #T_91cc6_row0_col8, #T_91cc6_row1_col0, #T_91cc6_row1_col1, #T_91cc6_row1_col3, #T_91cc6_row1_col4, #T_91cc6_row1_col5, #T_91cc6_row1_col7, #T_91cc6_row1_col8, #T_91cc6_row2_col0, #T_91cc6_row2_col1, #T_91cc6_row2_col2, #T_91cc6_row2_col3, #T_91cc6_row2_col4, #T_91cc6_row2_col5, #T_91cc6_row2_col8, #T_91cc6_row3_col0, #T_91cc6_row3_col1, #T_91cc6_row3_col3, #T_91cc6_row3_col4, #T_91cc6_row3_col5, #T_91cc6_row3_col7, #T_91cc6_row3_col8, #T_91cc6_row4_col0, #T_91cc6_row4_col1, #T_91cc6_row4_col2, #T_91cc6_row4_col3, #T_91cc6_row4_col4, #T_91cc6_row4_col5, #T_91cc6_row4_col8, #T_91cc6_row5_col0, #T_91cc6_row5_col1, #T_91cc6_row5_col2, #T_91cc6_row5_col3, #T_91cc6_row5_col4, #T_91cc6_row5_col5, #T_91cc6_row5_col7 {\n",
       "  text-align: center;\n",
       "}\n",
       "#T_91cc6_row0_col6, #T_91cc6_row1_col2, #T_91cc6_row1_col6, #T_91cc6_row2_col6, #T_91cc6_row2_col7, #T_91cc6_row3_col2, #T_91cc6_row3_col6, #T_91cc6_row4_col6, #T_91cc6_row4_col7, #T_91cc6_row5_col6, #T_91cc6_row5_col8 {\n",
       "  background-color: yellow;\n",
       "  border: 1px solid black;\n",
       "  text-align: center;\n",
       "}\n",
       "#T_91cc6_row0_col9, #T_91cc6_row1_col9, #T_91cc6_row2_col9, #T_91cc6_row3_col9, #T_91cc6_row4_col9, #T_91cc6_row5_col9 {\n",
       "  background-color: lightgray;\n",
       "  border: 1px solid black;\n",
       "  text-align: center;\n",
       "}\n",
       "</style>\n",
       "<table id=\"T_91cc6\">\n",
       "  <thead>\n",
       "    <tr>\n",
       "      <th class=\"blank level0\" >&nbsp;</th>\n",
       "      <th id=\"T_91cc6_level0_col0\" class=\"col_heading level0 col0\" >Age</th>\n",
       "      <th id=\"T_91cc6_level0_col1\" class=\"col_heading level0 col1\" >Sex</th>\n",
       "      <th id=\"T_91cc6_level0_col2\" class=\"col_heading level0 col2\" >Job</th>\n",
       "      <th id=\"T_91cc6_level0_col3\" class=\"col_heading level0 col3\" >Housing</th>\n",
       "      <th id=\"T_91cc6_level0_col4\" class=\"col_heading level0 col4\" >Saving accounts</th>\n",
       "      <th id=\"T_91cc6_level0_col5\" class=\"col_heading level0 col5\" >Checking account</th>\n",
       "      <th id=\"T_91cc6_level0_col6\" class=\"col_heading level0 col6\" >Credit amount</th>\n",
       "      <th id=\"T_91cc6_level0_col7\" class=\"col_heading level0 col7\" >Duration</th>\n",
       "      <th id=\"T_91cc6_level0_col8\" class=\"col_heading level0 col8\" >Purpose</th>\n",
       "      <th id=\"T_91cc6_level0_col9\" class=\"col_heading level0 col9\" >Risk</th>\n",
       "    </tr>\n",
       "  </thead>\n",
       "  <tbody>\n",
       "    <tr>\n",
       "      <th id=\"T_91cc6_level0_row0\" class=\"row_heading level0 row0\" >0</th>\n",
       "      <td id=\"T_91cc6_row0_col0\" class=\"data row0 col0\" >27</td>\n",
       "      <td id=\"T_91cc6_row0_col1\" class=\"data row0 col1\" >0</td>\n",
       "      <td id=\"T_91cc6_row0_col2\" class=\"data row0 col2\" >2</td>\n",
       "      <td id=\"T_91cc6_row0_col3\" class=\"data row0 col3\" >2</td>\n",
       "      <td id=\"T_91cc6_row0_col4\" class=\"data row0 col4\" >2</td>\n",
       "      <td id=\"T_91cc6_row0_col5\" class=\"data row0 col5\" >2</td>\n",
       "      <td id=\"T_91cc6_row0_col6\" class=\"data row0 col6\" >951 -> 3939</td>\n",
       "      <td id=\"T_91cc6_row0_col7\" class=\"data row0 col7\" >12</td>\n",
       "      <td id=\"T_91cc6_row0_col8\" class=\"data row0 col8\" >4</td>\n",
       "      <td id=\"T_91cc6_row0_col9\" class=\"data row0 col9\" >1 -> 0</td>\n",
       "    </tr>\n",
       "    <tr>\n",
       "      <th id=\"T_91cc6_level0_row1\" class=\"row_heading level0 row1\" >1</th>\n",
       "      <td id=\"T_91cc6_row1_col0\" class=\"data row1 col0\" >25</td>\n",
       "      <td id=\"T_91cc6_row1_col1\" class=\"data row1 col1\" >0</td>\n",
       "      <td id=\"T_91cc6_row1_col2\" class=\"data row1 col2\" >1 -> 2</td>\n",
       "      <td id=\"T_91cc6_row1_col3\" class=\"data row1 col3\" >1</td>\n",
       "      <td id=\"T_91cc6_row1_col4\" class=\"data row1 col4\" >1</td>\n",
       "      <td id=\"T_91cc6_row1_col5\" class=\"data row1 col5\" >2</td>\n",
       "      <td id=\"T_91cc6_row1_col6\" class=\"data row1 col6\" >1355 -> 6180</td>\n",
       "      <td id=\"T_91cc6_row1_col7\" class=\"data row1 col7\" >24</td>\n",
       "      <td id=\"T_91cc6_row1_col8\" class=\"data row1 col8\" >1</td>\n",
       "      <td id=\"T_91cc6_row1_col9\" class=\"data row1 col9\" >1 -> 0</td>\n",
       "    </tr>\n",
       "    <tr>\n",
       "      <th id=\"T_91cc6_level0_row2\" class=\"row_heading level0 row2\" >2</th>\n",
       "      <td id=\"T_91cc6_row2_col0\" class=\"data row2 col0\" >31</td>\n",
       "      <td id=\"T_91cc6_row2_col1\" class=\"data row2 col1\" >1</td>\n",
       "      <td id=\"T_91cc6_row2_col2\" class=\"data row2 col2\" >2</td>\n",
       "      <td id=\"T_91cc6_row2_col3\" class=\"data row2 col3\" >1</td>\n",
       "      <td id=\"T_91cc6_row2_col4\" class=\"data row2 col4\" >1</td>\n",
       "      <td id=\"T_91cc6_row2_col5\" class=\"data row2 col5\" >1</td>\n",
       "      <td id=\"T_91cc6_row2_col6\" class=\"data row2 col6\" >4817 -> 6489</td>\n",
       "      <td id=\"T_91cc6_row2_col7\" class=\"data row2 col7\" >24 -> 29</td>\n",
       "      <td id=\"T_91cc6_row2_col8\" class=\"data row2 col8\" >1</td>\n",
       "      <td id=\"T_91cc6_row2_col9\" class=\"data row2 col9\" >1 -> 0</td>\n",
       "    </tr>\n",
       "    <tr>\n",
       "      <th id=\"T_91cc6_level0_row3\" class=\"row_heading level0 row3\" >3</th>\n",
       "      <td id=\"T_91cc6_row3_col0\" class=\"data row3 col0\" >23</td>\n",
       "      <td id=\"T_91cc6_row3_col1\" class=\"data row3 col1\" >0</td>\n",
       "      <td id=\"T_91cc6_row3_col2\" class=\"data row3 col2\" >2 -> 1</td>\n",
       "      <td id=\"T_91cc6_row3_col3\" class=\"data row3 col3\" >2</td>\n",
       "      <td id=\"T_91cc6_row3_col4\" class=\"data row3 col4\" >1</td>\n",
       "      <td id=\"T_91cc6_row3_col5\" class=\"data row3 col5\" >1</td>\n",
       "      <td id=\"T_91cc6_row3_col6\" class=\"data row3 col6\" >1442 -> 5934</td>\n",
       "      <td id=\"T_91cc6_row3_col7\" class=\"data row3 col7\" >24</td>\n",
       "      <td id=\"T_91cc6_row3_col8\" class=\"data row3 col8\" >1</td>\n",
       "      <td id=\"T_91cc6_row3_col9\" class=\"data row3 col9\" >1 -> 0</td>\n",
       "    </tr>\n",
       "    <tr>\n",
       "      <th id=\"T_91cc6_level0_row4\" class=\"row_heading level0 row4\" >4</th>\n",
       "      <td id=\"T_91cc6_row4_col0\" class=\"data row4 col0\" >32</td>\n",
       "      <td id=\"T_91cc6_row4_col1\" class=\"data row4 col1\" >0</td>\n",
       "      <td id=\"T_91cc6_row4_col2\" class=\"data row4 col2\" >1</td>\n",
       "      <td id=\"T_91cc6_row4_col3\" class=\"data row4 col3\" >1</td>\n",
       "      <td id=\"T_91cc6_row4_col4\" class=\"data row4 col4\" >2</td>\n",
       "      <td id=\"T_91cc6_row4_col5\" class=\"data row4 col5\" >1</td>\n",
       "      <td id=\"T_91cc6_row4_col6\" class=\"data row4 col6\" >1282 -> 4851</td>\n",
       "      <td id=\"T_91cc6_row4_col7\" class=\"data row4 col7\" >24 -> 30</td>\n",
       "      <td id=\"T_91cc6_row4_col8\" class=\"data row4 col8\" >5</td>\n",
       "      <td id=\"T_91cc6_row4_col9\" class=\"data row4 col9\" >1 -> 0</td>\n",
       "    </tr>\n",
       "    <tr>\n",
       "      <th id=\"T_91cc6_level0_row5\" class=\"row_heading level0 row5\" >5</th>\n",
       "      <td id=\"T_91cc6_row5_col0\" class=\"data row5 col0\" >53</td>\n",
       "      <td id=\"T_91cc6_row5_col1\" class=\"data row5 col1\" >0</td>\n",
       "      <td id=\"T_91cc6_row5_col2\" class=\"data row5 col2\" >3</td>\n",
       "      <td id=\"T_91cc6_row5_col3\" class=\"data row5 col3\" >1</td>\n",
       "      <td id=\"T_91cc6_row5_col4\" class=\"data row5 col4\" >0</td>\n",
       "      <td id=\"T_91cc6_row5_col5\" class=\"data row5 col5\" >0</td>\n",
       "      <td id=\"T_91cc6_row5_col6\" class=\"data row5 col6\" >7485 -> 2021</td>\n",
       "      <td id=\"T_91cc6_row5_col7\" class=\"data row5 col7\" >30</td>\n",
       "      <td id=\"T_91cc6_row5_col8\" class=\"data row5 col8\" >1 -> 2</td>\n",
       "      <td id=\"T_91cc6_row5_col9\" class=\"data row5 col9\" >1 -> 0</td>\n",
       "    </tr>\n",
       "  </tbody>\n",
       "</table>\n"
      ],
      "text/plain": [
       "<pandas.io.formats.style.Styler at 0x1c575c9fbb0>"
      ]
     },
     "metadata": {},
     "output_type": "display_data"
    },
    {
     "name": "stdout",
     "output_type": "stream",
     "text": [
      "factual -> action-limited counterfactual\n"
     ]
    },
    {
     "data": {
      "text/html": [
       "<style type=\"text/css\">\n",
       "#T_233ef_row0_col0, #T_233ef_row0_col1, #T_233ef_row0_col2, #T_233ef_row0_col3, #T_233ef_row0_col4, #T_233ef_row0_col5, #T_233ef_row0_col7, #T_233ef_row0_col8, #T_233ef_row1_col0, #T_233ef_row1_col1, #T_233ef_row1_col2, #T_233ef_row1_col3, #T_233ef_row1_col4, #T_233ef_row1_col5, #T_233ef_row1_col7, #T_233ef_row1_col8, #T_233ef_row2_col0, #T_233ef_row2_col1, #T_233ef_row2_col2, #T_233ef_row2_col3, #T_233ef_row2_col4, #T_233ef_row2_col5, #T_233ef_row2_col7, #T_233ef_row2_col8, #T_233ef_row3_col0, #T_233ef_row3_col1, #T_233ef_row3_col2, #T_233ef_row3_col3, #T_233ef_row3_col4, #T_233ef_row3_col5, #T_233ef_row3_col7, #T_233ef_row3_col8, #T_233ef_row4_col0, #T_233ef_row4_col1, #T_233ef_row4_col2, #T_233ef_row4_col3, #T_233ef_row4_col4, #T_233ef_row4_col5, #T_233ef_row4_col8, #T_233ef_row5_col0, #T_233ef_row5_col1, #T_233ef_row5_col2, #T_233ef_row5_col3, #T_233ef_row5_col4, #T_233ef_row5_col5, #T_233ef_row5_col7, #T_233ef_row5_col8 {\n",
       "  text-align: center;\n",
       "}\n",
       "#T_233ef_row0_col6, #T_233ef_row1_col6, #T_233ef_row2_col6, #T_233ef_row3_col6, #T_233ef_row4_col6, #T_233ef_row4_col7, #T_233ef_row5_col6 {\n",
       "  background-color: yellow;\n",
       "  border: 1px solid black;\n",
       "  text-align: center;\n",
       "}\n",
       "#T_233ef_row0_col9, #T_233ef_row1_col9, #T_233ef_row2_col9, #T_233ef_row3_col9, #T_233ef_row4_col9, #T_233ef_row5_col9 {\n",
       "  background-color: lightgray;\n",
       "  border: 1px solid black;\n",
       "  text-align: center;\n",
       "}\n",
       "</style>\n",
       "<table id=\"T_233ef\">\n",
       "  <thead>\n",
       "    <tr>\n",
       "      <th class=\"blank level0\" >&nbsp;</th>\n",
       "      <th id=\"T_233ef_level0_col0\" class=\"col_heading level0 col0\" >Age</th>\n",
       "      <th id=\"T_233ef_level0_col1\" class=\"col_heading level0 col1\" >Sex</th>\n",
       "      <th id=\"T_233ef_level0_col2\" class=\"col_heading level0 col2\" >Job</th>\n",
       "      <th id=\"T_233ef_level0_col3\" class=\"col_heading level0 col3\" >Housing</th>\n",
       "      <th id=\"T_233ef_level0_col4\" class=\"col_heading level0 col4\" >Saving accounts</th>\n",
       "      <th id=\"T_233ef_level0_col5\" class=\"col_heading level0 col5\" >Checking account</th>\n",
       "      <th id=\"T_233ef_level0_col6\" class=\"col_heading level0 col6\" >Credit amount</th>\n",
       "      <th id=\"T_233ef_level0_col7\" class=\"col_heading level0 col7\" >Duration</th>\n",
       "      <th id=\"T_233ef_level0_col8\" class=\"col_heading level0 col8\" >Purpose</th>\n",
       "      <th id=\"T_233ef_level0_col9\" class=\"col_heading level0 col9\" >Risk</th>\n",
       "    </tr>\n",
       "  </thead>\n",
       "  <tbody>\n",
       "    <tr>\n",
       "      <th id=\"T_233ef_level0_row0\" class=\"row_heading level0 row0\" >0</th>\n",
       "      <td id=\"T_233ef_row0_col0\" class=\"data row0 col0\" >27</td>\n",
       "      <td id=\"T_233ef_row0_col1\" class=\"data row0 col1\" >0</td>\n",
       "      <td id=\"T_233ef_row0_col2\" class=\"data row0 col2\" >2</td>\n",
       "      <td id=\"T_233ef_row0_col3\" class=\"data row0 col3\" >2</td>\n",
       "      <td id=\"T_233ef_row0_col4\" class=\"data row0 col4\" >2</td>\n",
       "      <td id=\"T_233ef_row0_col5\" class=\"data row0 col5\" >2</td>\n",
       "      <td id=\"T_233ef_row0_col6\" class=\"data row0 col6\" >951 -> 3939</td>\n",
       "      <td id=\"T_233ef_row0_col7\" class=\"data row0 col7\" >12</td>\n",
       "      <td id=\"T_233ef_row0_col8\" class=\"data row0 col8\" >4</td>\n",
       "      <td id=\"T_233ef_row0_col9\" class=\"data row0 col9\" >1 -> 0</td>\n",
       "    </tr>\n",
       "    <tr>\n",
       "      <th id=\"T_233ef_level0_row1\" class=\"row_heading level0 row1\" >1</th>\n",
       "      <td id=\"T_233ef_row1_col0\" class=\"data row1 col0\" >25</td>\n",
       "      <td id=\"T_233ef_row1_col1\" class=\"data row1 col1\" >0</td>\n",
       "      <td id=\"T_233ef_row1_col2\" class=\"data row1 col2\" >1</td>\n",
       "      <td id=\"T_233ef_row1_col3\" class=\"data row1 col3\" >1</td>\n",
       "      <td id=\"T_233ef_row1_col4\" class=\"data row1 col4\" >1</td>\n",
       "      <td id=\"T_233ef_row1_col5\" class=\"data row1 col5\" >2</td>\n",
       "      <td id=\"T_233ef_row1_col6\" class=\"data row1 col6\" >1355 -> 6180</td>\n",
       "      <td id=\"T_233ef_row1_col7\" class=\"data row1 col7\" >24</td>\n",
       "      <td id=\"T_233ef_row1_col8\" class=\"data row1 col8\" >1</td>\n",
       "      <td id=\"T_233ef_row1_col9\" class=\"data row1 col9\" >1 -> 0</td>\n",
       "    </tr>\n",
       "    <tr>\n",
       "      <th id=\"T_233ef_level0_row2\" class=\"row_heading level0 row2\" >2</th>\n",
       "      <td id=\"T_233ef_row2_col0\" class=\"data row2 col0\" >31</td>\n",
       "      <td id=\"T_233ef_row2_col1\" class=\"data row2 col1\" >1</td>\n",
       "      <td id=\"T_233ef_row2_col2\" class=\"data row2 col2\" >2</td>\n",
       "      <td id=\"T_233ef_row2_col3\" class=\"data row2 col3\" >1</td>\n",
       "      <td id=\"T_233ef_row2_col4\" class=\"data row2 col4\" >1</td>\n",
       "      <td id=\"T_233ef_row2_col5\" class=\"data row2 col5\" >1</td>\n",
       "      <td id=\"T_233ef_row2_col6\" class=\"data row2 col6\" >4817 -> 6489</td>\n",
       "      <td id=\"T_233ef_row2_col7\" class=\"data row2 col7\" >24</td>\n",
       "      <td id=\"T_233ef_row2_col8\" class=\"data row2 col8\" >1</td>\n",
       "      <td id=\"T_233ef_row2_col9\" class=\"data row2 col9\" >1 -> 0</td>\n",
       "    </tr>\n",
       "    <tr>\n",
       "      <th id=\"T_233ef_level0_row3\" class=\"row_heading level0 row3\" >3</th>\n",
       "      <td id=\"T_233ef_row3_col0\" class=\"data row3 col0\" >23</td>\n",
       "      <td id=\"T_233ef_row3_col1\" class=\"data row3 col1\" >0</td>\n",
       "      <td id=\"T_233ef_row3_col2\" class=\"data row3 col2\" >2</td>\n",
       "      <td id=\"T_233ef_row3_col3\" class=\"data row3 col3\" >2</td>\n",
       "      <td id=\"T_233ef_row3_col4\" class=\"data row3 col4\" >1</td>\n",
       "      <td id=\"T_233ef_row3_col5\" class=\"data row3 col5\" >1</td>\n",
       "      <td id=\"T_233ef_row3_col6\" class=\"data row3 col6\" >1442 -> 5934</td>\n",
       "      <td id=\"T_233ef_row3_col7\" class=\"data row3 col7\" >24</td>\n",
       "      <td id=\"T_233ef_row3_col8\" class=\"data row3 col8\" >1</td>\n",
       "      <td id=\"T_233ef_row3_col9\" class=\"data row3 col9\" >1 -> 0</td>\n",
       "    </tr>\n",
       "    <tr>\n",
       "      <th id=\"T_233ef_level0_row4\" class=\"row_heading level0 row4\" >4</th>\n",
       "      <td id=\"T_233ef_row4_col0\" class=\"data row4 col0\" >32</td>\n",
       "      <td id=\"T_233ef_row4_col1\" class=\"data row4 col1\" >0</td>\n",
       "      <td id=\"T_233ef_row4_col2\" class=\"data row4 col2\" >1</td>\n",
       "      <td id=\"T_233ef_row4_col3\" class=\"data row4 col3\" >1</td>\n",
       "      <td id=\"T_233ef_row4_col4\" class=\"data row4 col4\" >2</td>\n",
       "      <td id=\"T_233ef_row4_col5\" class=\"data row4 col5\" >1</td>\n",
       "      <td id=\"T_233ef_row4_col6\" class=\"data row4 col6\" >1282 -> 4851</td>\n",
       "      <td id=\"T_233ef_row4_col7\" class=\"data row4 col7\" >24 -> 30</td>\n",
       "      <td id=\"T_233ef_row4_col8\" class=\"data row4 col8\" >5</td>\n",
       "      <td id=\"T_233ef_row4_col9\" class=\"data row4 col9\" >1 -> 0</td>\n",
       "    </tr>\n",
       "    <tr>\n",
       "      <th id=\"T_233ef_level0_row5\" class=\"row_heading level0 row5\" >5</th>\n",
       "      <td id=\"T_233ef_row5_col0\" class=\"data row5 col0\" >53</td>\n",
       "      <td id=\"T_233ef_row5_col1\" class=\"data row5 col1\" >0</td>\n",
       "      <td id=\"T_233ef_row5_col2\" class=\"data row5 col2\" >3</td>\n",
       "      <td id=\"T_233ef_row5_col3\" class=\"data row5 col3\" >1</td>\n",
       "      <td id=\"T_233ef_row5_col4\" class=\"data row5 col4\" >0</td>\n",
       "      <td id=\"T_233ef_row5_col5\" class=\"data row5 col5\" >0</td>\n",
       "      <td id=\"T_233ef_row5_col6\" class=\"data row5 col6\" >7485 -> 2021</td>\n",
       "      <td id=\"T_233ef_row5_col7\" class=\"data row5 col7\" >30</td>\n",
       "      <td id=\"T_233ef_row5_col8\" class=\"data row5 col8\" >1</td>\n",
       "      <td id=\"T_233ef_row5_col9\" class=\"data row5 col9\" >1 -> 0</td>\n",
       "    </tr>\n",
       "  </tbody>\n",
       "</table>\n"
      ],
      "text/plain": [
       "<pandas.io.formats.style.Styler at 0x1c575c9e470>"
      ]
     },
     "metadata": {},
     "output_type": "display_data"
    }
   ],
   "source": [
    "print(\"factual\")\n",
    "display(factual)\n",
    "print(\"factaul -> corresponding counterfactual\")\n",
    "display(refine_ce)\n",
    "print(\"factual -> action-limited counterfactual\")\n",
    "display(refine_ace)"
   ]
  },
  {
   "cell_type": "code",
   "execution_count": 118,
   "metadata": {},
   "outputs": [
    {
     "name": "stdout",
     "output_type": "stream",
     "text": [
      "changes from factual to counterfactual\n"
     ]
    },
    {
     "data": {
      "image/png": "[encoded data removed]",
      "text/plain": [
       "<Figure size 640x480 with 1 Axes>"
      ]
     },
     "metadata": {},
     "output_type": "display_data"
    },
    {
     "name": "stdout",
     "output_type": "stream",
     "text": [
      "changes from factual to actionlimited_counterfactuals\n"
     ]
    },
    {
     "data": {
      "image/png": "[encoded data removed]",
      "text/plain": [
       "<Figure size 640x480 with 1 Axes>"
      ]
     },
     "metadata": {},
     "output_type": "display_data"
    },
    {
     "data": {
      "text/plain": [
       "(None, None)"
      ]
     },
     "execution_count": 118,
     "metadata": {},
     "output_type": "execute_result"
    }
   ],
   "source": [
    "refiner.heatmap()"
   ]
  }
 ],
 "metadata": {
  "kernelspec": {
   "display_name": "COLA",
   "language": "python",
   "name": "python3"
  },
  "language_info": {
   "codemirror_mode": {
    "name": "ipython",
    "version": 3
   },
   "file_extension": ".py",
   "mimetype": "text/x-python",
   "name": "python",
   "nbconvert_exporter": "python",
   "pygments_lexer": "ipython3",
   "version": "3.10.13"
  }
 },
 "nbformat": 4,
 "nbformat_minor": 2
}
