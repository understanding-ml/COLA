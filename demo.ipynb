{
 "cells": [
  {
   "cell_type": "code",
   "execution_count": 1,
   "metadata": {},
   "outputs": [],
   "source": [
    "%reload_ext autoreload\n",
    "%autoreload 2"
   ]
  },
  {
   "cell_type": "code",
   "execution_count": 21,
   "metadata": {},
   "outputs": [],
   "source": [
    "from xai_cola import data_interface \n",
    "from xai_cola import ml_model_interface\n",
    "from counterfactual_explainer import DiCE,DisCount\n",
    "from xai_cola.cola_policy.matching import CounterfactualExactMatchingPolicy\n",
    "from xai_cola.counterfactual_limited_actions import COLA"
   ]
  },
  {
   "cell_type": "markdown",
   "metadata": {},
   "source": [
    "#### 0. Pick the data to be factual(\"Risk\"=1)"
   ]
  },
  {
   "cell_type": "code",
   "execution_count": null,
   "metadata": {},
   "outputs": [],
   "source": [
    "from datasets.german_credit import GermanCreditDataset\n",
    "dataset = GermanCreditDataset()\n",
    "df = dataset.get_dataframe()\n",
    "df.head(3)"
   ]
  },
  {
   "cell_type": "code",
   "execution_count": null,
   "metadata": {},
   "outputs": [],
   "source": [
    "# pick 4 samples with Risk = 1\n",
    "df_Risk_1 = df[df['Risk'] == 1]\n",
    "df_Risk_1 = df_Risk_1.sample(5)\n",
    "\n",
    "# drop the target column.\n",
    "# Normally, the input data doesn't contain the target column\n",
    "df_without_target = df_Risk_1.drop(columns=['Risk']).copy()\n",
    "feature_names = df_without_target.columns\n",
    "df_without_target.head()"
   ]
  },
  {
   "cell_type": "markdown",
   "metadata": {},
   "source": [
    "#### 1. Initialize data interface"
   ]
  },
  {
   "cell_type": "code",
   "execution_count": 29,
   "metadata": {},
   "outputs": [],
   "source": [
    "data = data_interface.PandasData(df_without_target, target_name='Risk')"
   ]
  },
  {
   "cell_type": "markdown",
   "metadata": {},
   "source": [
    "#### 2. Initialize model interface"
   ]
  },
  {
   "cell_type": "code",
   "execution_count": 30,
   "metadata": {},
   "outputs": [],
   "source": [
    "import joblib\n",
    "lgbmcClassifier = joblib.load('lgbm_GremanCredit.pkl')\n",
    "ml_model = ml_model_interface.Model(model=lgbmcClassifier, backend=\"sklearn\")"
   ]
  },
  {
   "cell_type": "markdown",
   "metadata": {},
   "source": [
    "#### 3.Choose the CounterfactualExplanation Algorithm"
   ]
  },
  {
   "cell_type": "code",
   "execution_count": null,
   "metadata": {},
   "outputs": [],
   "source": [
    "from counterfactual_explainer import DiCE,DisCount,ARecourseS,AlibiCounterfactualInstances\n",
    "explainer = DiCE(ml_model=ml_model)\n",
    "factual, counterfactual = explainer.generate_counterfactuals(data=data,\n",
    "                                                             factual_class=1,\n",
    "                                                             total_cfs=1,\n",
    "                                                             features_to_keep=['Age','Sex'])"
   ]
  },
  {
   "cell_type": "code",
   "execution_count": null,
   "metadata": {},
   "outputs": [],
   "source": [
    "factual, counterfactual = explainer.generate_counterfactuals(data=data,\n",
    "                                                             factual_class=1,\n",
    "                                                             total_cfs=1,\n",
    "                                                             features_to_keep=['Age','Sex'])"
   ]
  },
  {
   "cell_type": "code",
   "execution_count": null,
   "metadata": {},
   "outputs": [],
   "source": [
    "import numpy as np\n",
    "\n",
    "# Use numpy's array2string for consistent formatting\n",
    "print('factual')\n",
    "print(np.array2string(factual, separator=' ', suppress_small=True))\n",
    "print()  # Add a blank line for spacing\n",
    "print('counterfactual')\n",
    "print(np.array2string(counterfactual, separator='   ', suppress_small=True))\n"
   ]
  },
  {
   "cell_type": "markdown",
   "metadata": {},
   "source": [
    "#### 4. Choose policy and make limitation"
   ]
  },
  {
   "cell_type": "code",
   "execution_count": null,
   "metadata": {},
   "outputs": [],
   "source": [
    "from xai_cola.counterfactual_limited_actions import COLA\n",
    "refiner = COLA(\n",
    "            data=data,\n",
    "            ml_model=ml_model,\n",
    "            x_factual=factual,\n",
    "            x_counterfactual=counterfactual,\n",
    "            )\n",
    "refiner.set_policy(\n",
    "            matcher=\"ect\",\n",
    "            attributor=\"pshap\",\n",
    "            Avalues_method=\"max\"\n",
    "            )"
   ]
  },
  {
   "cell_type": "code",
   "execution_count": null,
   "metadata": {},
   "outputs": [],
   "source": [
    "\"\"\" Here! control the limited actions \"\"\"\n",
    "factual, ce, ace = refiner.get_refined_counterfactual(limited_actions=4)"
   ]
  },
  {
   "cell_type": "markdown",
   "metadata": {},
   "source": [
    "#### 5.Highlight the generated counterfactuals"
   ]
  },
  {
   "cell_type": "code",
   "execution_count": 36,
   "metadata": {},
   "outputs": [],
   "source": [
    "refine_factual, refine_ce, refine_ace = refiner.highlight_changes()"
   ]
  },
  {
   "cell_type": "code",
   "execution_count": null,
   "metadata": {},
   "outputs": [],
   "source": [
    "actions = refiner.query_minimum_actions()"
   ]
  },
  {
   "cell_type": "code",
   "execution_count": null,
   "metadata": {},
   "outputs": [],
   "source": [
    "print(\"factual\")\n",
    "display(factual)\n",
    "print(\"factaul -> corresponding counterfactual\")\n",
    "display(refine_ce)\n",
    "print(\"factual -> action-limited counterfactual\")\n",
    "display(refine_ace)"
   ]
  },
  {
   "cell_type": "code",
   "execution_count": null,
   "metadata": {},
   "outputs": [],
   "source": [
    "refine_ace"
   ]
  },
  {
   "cell_type": "code",
   "execution_count": null,
   "metadata": {},
   "outputs": [],
   "source": [
    "refiner.heatmap()"
   ]
  },
  {
   "cell_type": "code",
   "execution_count": null,
   "metadata": {},
   "outputs": [],
   "source": []
  }
 ],
 "metadata": {
  "kernelspec": {
   "display_name": "cola",
   "language": "python",
   "name": "python3"
  },
  "language_info": {
   "codemirror_mode": {
    "name": "ipython",
    "version": 3
   },
   "file_extension": ".py",
   "mimetype": "text/x-python",
   "name": "python",
   "nbconvert_exporter": "python",
   "pygments_lexer": "ipython3",
   "version": "3.10.13"
  }
 },
 "nbformat": 4,
 "nbformat_minor": 2
}
