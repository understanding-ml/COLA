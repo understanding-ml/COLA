{
 "cells": [
  {
   "cell_type": "code",
   "execution_count": 23,
   "metadata": {},
   "outputs": [],
   "source": [
    "from cola.data import Data\n",
    "from dataset.german_credit import GermanCreditDataset\n",
    "import pandas as pd\n",
    "import joblib\n",
    "# from model_module.pretrained_model import PreTrainedModel\n",
    "from cola.model import Model\n",
    "import numpy as np\n",
    "import dice_ml\n",
    "from sklearn.model_selection import train_test_split\n",
    "import ot"
   ]
  },
  {
   "cell_type": "code",
   "execution_count": 24,
   "metadata": {},
   "outputs": [],
   "source": [
    "%reload_ext autoreload\n",
    "%autoreload 2"
   ]
  },
  {
   "cell_type": "markdown",
   "metadata": {},
   "source": [
    "### 1. Data (x_factual)"
   ]
  },
  {
   "cell_type": "code",
   "execution_count": 25,
   "metadata": {},
   "outputs": [
    {
     "data": {
      "text/html": [
       "<div>\n",
       "<style scoped>\n",
       "    .dataframe tbody tr th:only-of-type {\n",
       "        vertical-align: middle;\n",
       "    }\n",
       "\n",
       "    .dataframe tbody tr th {\n",
       "        vertical-align: top;\n",
       "    }\n",
       "\n",
       "    .dataframe thead th {\n",
       "        text-align: right;\n",
       "    }\n",
       "</style>\n",
       "<table border=\"1\" class=\"dataframe\">\n",
       "  <thead>\n",
       "    <tr style=\"text-align: right;\">\n",
       "      <th></th>\n",
       "      <th>Age</th>\n",
       "      <th>Sex</th>\n",
       "      <th>Job</th>\n",
       "      <th>Housing</th>\n",
       "      <th>Saving accounts</th>\n",
       "      <th>Checking account</th>\n",
       "      <th>Credit amount</th>\n",
       "      <th>Duration</th>\n",
       "      <th>Purpose</th>\n",
       "      <th>Risk</th>\n",
       "    </tr>\n",
       "  </thead>\n",
       "  <tbody>\n",
       "    <tr>\n",
       "      <th>0</th>\n",
       "      <td>67</td>\n",
       "      <td>1</td>\n",
       "      <td>2</td>\n",
       "      <td>1</td>\n",
       "      <td>0</td>\n",
       "      <td>1</td>\n",
       "      <td>1169</td>\n",
       "      <td>6</td>\n",
       "      <td>5</td>\n",
       "      <td>0</td>\n",
       "    </tr>\n",
       "    <tr>\n",
       "      <th>1</th>\n",
       "      <td>22</td>\n",
       "      <td>0</td>\n",
       "      <td>2</td>\n",
       "      <td>1</td>\n",
       "      <td>1</td>\n",
       "      <td>2</td>\n",
       "      <td>5951</td>\n",
       "      <td>48</td>\n",
       "      <td>5</td>\n",
       "      <td>1</td>\n",
       "    </tr>\n",
       "    <tr>\n",
       "      <th>2</th>\n",
       "      <td>49</td>\n",
       "      <td>1</td>\n",
       "      <td>1</td>\n",
       "      <td>1</td>\n",
       "      <td>1</td>\n",
       "      <td>0</td>\n",
       "      <td>2096</td>\n",
       "      <td>12</td>\n",
       "      <td>3</td>\n",
       "      <td>0</td>\n",
       "    </tr>\n",
       "  </tbody>\n",
       "</table>\n",
       "</div>"
      ],
      "text/plain": [
       "   Age  Sex  Job  Housing  Saving accounts  Checking account  Credit amount  \\\n",
       "0   67    1    2        1                0                 1           1169   \n",
       "1   22    0    2        1                1                 2           5951   \n",
       "2   49    1    1        1                1                 0           2096   \n",
       "\n",
       "   Duration  Purpose  Risk  \n",
       "0         6        5     0  \n",
       "1        48        5     1  \n",
       "2        12        3     0  "
      ]
     },
     "execution_count": 25,
     "metadata": {},
     "output_type": "execute_result"
    }
   ],
   "source": [
    "dataset = GermanCreditDataset()\n",
    "df = dataset.get_dataframe()  \n",
    "df.head(3)         ## dataset with target name"
   ]
  },
  {
   "cell_type": "code",
   "execution_count": 26,
   "metadata": {},
   "outputs": [],
   "source": [
    "data = Data(dataset=df, target_name='Risk')\n",
    "x = data.get_x()\n",
    "y = data.get_y()\n",
    "x_labels = data.get_x_labels()"
   ]
  },
  {
   "cell_type": "markdown",
   "metadata": {},
   "source": [
    "### 2. Model (pre-trained model)"
   ]
  },
  {
   "cell_type": "code",
   "execution_count": 27,
   "metadata": {},
   "outputs": [],
   "source": [
    "# model_filename = 'trained_LGBMClassifier.pkl'\n",
    "# loaded_model = joblib.load(model_filename)\n",
    "# print(f\"-----Model has already been downloaded-----\")\n",
    "# #### normalized data"
   ]
  },
  {
   "cell_type": "code",
   "execution_count": 28,
   "metadata": {},
   "outputs": [],
   "source": [
    "# model_filename2 = 'LGBMClassifier.pkl'\n",
    "# LGBMClassifier = joblib.load(model_filename2)\n",
    "# print(f\"-----Model has already been downloaded-----\")\n",
    "#### non-normalized data"
   ]
  },
  {
   "cell_type": "code",
   "execution_count": 29,
   "metadata": {},
   "outputs": [],
   "source": [
    "# X_train, X_test, y_train, y_test = dataset.get_standardized_train_test_split(random_state=None)\n",
    "x_train, x_test, y_train, y_test = train_test_split(x, y, test_size=0.2, random_state=None)"
   ]
  },
  {
   "cell_type": "code",
   "execution_count": 30,
   "metadata": {},
   "outputs": [],
   "source": [
    "lgbmclassifier = Model(model_path='LGBMClassifier.pkl', backend='sklearn')"
   ]
  },
  {
   "cell_type": "code",
   "execution_count": 31,
   "metadata": {},
   "outputs": [
    {
     "name": "stdout",
     "output_type": "stream",
     "text": [
      "----LGBMClassifier.pkl model has been loaded----\n"
     ]
    }
   ],
   "source": [
    "loaded_model = lgbmclassifier.load_model()"
   ]
  },
  {
   "cell_type": "code",
   "execution_count": 32,
   "metadata": {},
   "outputs": [
    {
     "name": "stdout",
     "output_type": "stream",
     "text": [
      "---- predictions have been made----\n"
     ]
    }
   ],
   "source": [
    "y_factual = lgbmclassifier.predict(x_factual=x_test)"
   ]
  },
  {
   "cell_type": "code",
   "execution_count": 33,
   "metadata": {},
   "outputs": [],
   "source": [
    "# n=0\n",
    "# for i in range(len(y_factual_model_2)):\n",
    "#     if y_factual_model_2['Prediction'][i] == y_factual[i]:\n",
    "#         n=n+1\n",
    "#     else:\n",
    "#         n=n\n",
    "# print(n)\n",
    "# ###  200个数据中只有124个预测对了"
   ]
  },
  {
   "cell_type": "markdown",
   "metadata": {},
   "source": [
    "### 3. CE model"
   ]
  },
  {
   "cell_type": "code",
   "execution_count": 35,
   "metadata": {},
   "outputs": [],
   "source": [
    "from cola.ce_module.ce_models import DiCE"
   ]
  },
  {
   "cell_type": "code",
   "execution_count": 40,
   "metadata": {},
   "outputs": [],
   "source": [
    "dice= DiCE(ml_model=loaded_model, x_factual=x_test, target_name='Risk', sample_num=4)"
   ]
  },
  {
   "cell_type": "code",
   "execution_count": 41,
   "metadata": {},
   "outputs": [
    {
     "ename": "AttributeError",
     "evalue": "'NoneType' object has no attribute 'predict'",
     "output_type": "error",
     "traceback": [
      "\u001b[1;31m---------------------------------------------------------------------------\u001b[0m",
      "\u001b[1;31mAttributeError\u001b[0m                            Traceback (most recent call last)",
      "Cell \u001b[1;32mIn[41], line 1\u001b[0m\n\u001b[1;32m----> 1\u001b[0m x_factual, y_factual, x_counterfactual, y_counterfactual \u001b[38;5;241m=\u001b[39m \u001b[43mdice\u001b[49m\u001b[38;5;241;43m.\u001b[39;49m\u001b[43mgenerate_x_counterfactuals\u001b[49m\u001b[43m(\u001b[49m\u001b[43m)\u001b[49m\n",
      "File \u001b[1;32md:\\Github-desktop\\COLA\\cola\\ce_module\\ce_models.py:33\u001b[0m, in \u001b[0;36mDiCE.generate_x_counterfactuals\u001b[1;34m(self)\u001b[0m\n\u001b[0;32m     30\u001b[0m \u001b[38;5;28;01mdef\u001b[39;00m \u001b[38;5;21mgenerate_x_counterfactuals\u001b[39m(\u001b[38;5;28mself\u001b[39m) \u001b[38;5;241m-\u001b[39m\u001b[38;5;241m>\u001b[39m pd\u001b[38;5;241m.\u001b[39mDataFrame:\n\u001b[0;32m     31\u001b[0m \n\u001b[0;32m     32\u001b[0m     \u001b[38;5;66;03m# DICE counterfactual generation logic\u001b[39;00m\n\u001b[1;32m---> 33\u001b[0m     indices, x_factual_ext \u001b[38;5;241m=\u001b[39m \u001b[38;5;28;43mself\u001b[39;49m\u001b[38;5;241;43m.\u001b[39;49m\u001b[43mget_factual_indices\u001b[49m\u001b[43m(\u001b[49m\u001b[43m)\u001b[49m\n\u001b[0;32m     34\u001b[0m     x_chosen \u001b[38;5;241m=\u001b[39m \u001b[38;5;28mself\u001b[39m\u001b[38;5;241m.\u001b[39mx_factual\u001b[38;5;241m.\u001b[39mloc[indices]\n\u001b[0;32m     35\u001b[0m     y_factual \u001b[38;5;241m=\u001b[39m \u001b[38;5;28mself\u001b[39m\u001b[38;5;241m.\u001b[39mml_model\u001b[38;5;241m.\u001b[39mpredict(x_chosen)\n",
      "File \u001b[1;32md:\\Github-desktop\\COLA\\cola\\ce_module\\ce_models.py:19\u001b[0m, in \u001b[0;36mDiCE.get_factual_indices\u001b[1;34m(self)\u001b[0m\n\u001b[0;32m     17\u001b[0m \u001b[38;5;28;01mdef\u001b[39;00m \u001b[38;5;21mget_factual_indices\u001b[39m(\u001b[38;5;28mself\u001b[39m):\n\u001b[0;32m     18\u001b[0m     x_factual_ext \u001b[38;5;241m=\u001b[39m \u001b[38;5;28mself\u001b[39m\u001b[38;5;241m.\u001b[39mx_factual\u001b[38;5;241m.\u001b[39mcopy()\n\u001b[1;32m---> 19\u001b[0m     predict \u001b[38;5;241m=\u001b[39m \u001b[38;5;28;43mself\u001b[39;49m\u001b[38;5;241;43m.\u001b[39;49m\u001b[43mml_model\u001b[49m\u001b[38;5;241;43m.\u001b[39;49m\u001b[43mpredict\u001b[49m(\u001b[38;5;28mself\u001b[39m\u001b[38;5;241m.\u001b[39mx_factual)\n\u001b[0;32m     20\u001b[0m     \u001b[38;5;66;03m# X_test_ext[target_name] = model.predict(X_test.values)\u001b[39;00m\n\u001b[0;32m     21\u001b[0m     x_factual_ext[\u001b[38;5;28mself\u001b[39m\u001b[38;5;241m.\u001b[39mtarget_name] \u001b[38;5;241m=\u001b[39m predict\n",
      "\u001b[1;31mAttributeError\u001b[0m: 'NoneType' object has no attribute 'predict'"
     ]
    }
   ],
   "source": [
    "x_factual, y_factual, x_counterfactual, y_counterfactual = dice.generate_x_counterfactuals()"
   ]
  },
  {
   "cell_type": "code",
   "execution_count": null,
   "metadata": {},
   "outputs": [
    {
     "name": "stdout",
     "output_type": "stream",
     "text": [
      "---The X_factual is ---\n",
      "[[  23    1    1    1    3    2 2520   27    5]\n",
      " [  31    1    2    2    1    1 3161   24    0]\n",
      " [  24    0    2    2    1    1 1207   24    1]\n",
      " [  23    0    1    1    2    2  836   12    1]]\n",
      "---The Y_factual is ---\n",
      "[1 1 1 1]\n",
      "---The X_counterfactual is --- \n",
      "[[  24    0    2    2    1    3 1207   24    0]\n",
      " [  23    0    1    0    2    2 2848   12    1]\n",
      " [  23    1    1    1    3    2 2520   13    6]\n",
      " [  31    1    2    2    1    1 7743   24    0]]\n",
      "---The Y_counterfactual is --- \n",
      "[0 0 0 0]\n"
     ]
    }
   ],
   "source": [
    "print(f'---The X_factual is ---')\n",
    "print(x_factual)\n",
    "print(f'---The Y_factual is ---')\n",
    "print(y_factual)\n",
    "print(f'---The X_counterfactual is --- ')\n",
    "print(x_counterfactual)\n",
    "print(f'---The Y_counterfactual is --- ')\n",
    "print(y_counterfactual)"
   ]
  },
  {
   "cell_type": "markdown",
   "metadata": {},
   "source": [
    "### 4. Probability of joint distribution (Policy)"
   ]
  },
  {
   "cell_type": "code",
   "execution_count": null,
   "metadata": {},
   "outputs": [],
   "source": [
    "from policy_module import policy"
   ]
  },
  {
   "cell_type": "code",
   "execution_count": null,
   "metadata": {},
   "outputs": [],
   "source": [
    "policy = policy.compute_intervention_policy(\n",
    "                            model= loaded_model,   #没有使用我们自己模块生成的model\n",
    "                            X_train=x_train,\n",
    "                            X_factual=x_factual,\n",
    "                            X_counterfactual=x_counterfactual,\n",
    "                            shapley_method=\"CF_OTMatch\",\n",
    "                            Avalues_method='max', # 'avg'\n",
    "                        )\n"
   ]
  },
  {
   "cell_type": "code",
   "execution_count": null,
   "metadata": {},
   "outputs": [],
   "source": [
    "varphi = policy['varphi']\n",
    "p = policy['p']\n",
    "q = policy['q']"
   ]
  },
  {
   "cell_type": "markdown",
   "metadata": {},
   "source": [
    "### 6. get the q, use the shapley value to change the specific position And get the Z."
   ]
  },
  {
   "cell_type": "code",
   "execution_count": null,
   "metadata": {},
   "outputs": [],
   "source": [
    "action = 5"
   ]
  },
  {
   "cell_type": "code",
   "execution_count": null,
   "metadata": {},
   "outputs": [
    {
     "name": "stdout",
     "output_type": "stream",
     "text": [
      "原始 x_factual:\n",
      "[[   51     1     2     1     1     2  4771    11     5]\n",
      " [   61     1     1     2     2     2  2767    21     0]\n",
      " [   29     1     2     1     1     1  5179    36     4]\n",
      " [   44     1     2     0     3     0 10127    48     1]]\n",
      "\n",
      "DiCE处理后的x_counterfactual\n",
      "[[  61    1    1    2    2    2 6355   21    0]\n",
      " [  30    1    2    0    3    0 8682   48    1]\n",
      " [  51    1    2    0    1    2 4771    8    5]\n",
      " [  29    1    2    1    1    1 5179   46    1]]\n",
      "\n",
      "action constrained  x_action_constrained:\n",
      "[[   51     1     2     1     1     2  4771    11     5]\n",
      " [   51     1     1     2     2     2  2767     8     0]\n",
      " [   29     1     2     1     1     1  6355    21     4]\n",
      " [   30     1     2     0     3     0 10127    48     1]]\n"
     ]
    }
   ],
   "source": [
    "# 1. 找到 varphi 矩阵中概率最高的前 action 个数及其位置\n",
    "flat_indices = np.argpartition(varphi.flatten(), -action)[-action:]\n",
    "row_indices, col_indices = np.unravel_index(flat_indices, varphi.shape)\n",
    "\n",
    "# 2. 在 q 中找到这些位置对应的值\n",
    "q_values = q[row_indices, col_indices]\n",
    "\n",
    "# 3. 将 x_factual 中对应位置的值替换为 q 中找到的相应值\n",
    "x_action_constrained = x_factual.copy()\n",
    "\n",
    "for row_idx, col_idx, q_val in zip(row_indices, col_indices, q_values):\n",
    "    x_action_constrained[row_idx, col_idx] = q_val\n",
    "\n",
    "# 打印结果\n",
    "print(\"原始 x_factual:\")\n",
    "print(x_factual)\n",
    "print(\"\\nDiCE处理后的x_counterfactual\")\n",
    "print(x_counterfactual)\n",
    "print(\"\\naction constrained  x_action_constrained:\")\n",
    "print(x_action_constrained)"
   ]
  },
  {
   "cell_type": "code",
   "execution_count": null,
   "metadata": {},
   "outputs": [
    {
     "data": {
      "text/html": [
       "<div>\n",
       "<style scoped>\n",
       "    .dataframe tbody tr th:only-of-type {\n",
       "        vertical-align: middle;\n",
       "    }\n",
       "\n",
       "    .dataframe tbody tr th {\n",
       "        vertical-align: top;\n",
       "    }\n",
       "\n",
       "    .dataframe thead th {\n",
       "        text-align: right;\n",
       "    }\n",
       "</style>\n",
       "<table border=\"1\" class=\"dataframe\">\n",
       "  <thead>\n",
       "    <tr style=\"text-align: right;\">\n",
       "      <th></th>\n",
       "      <th>Age</th>\n",
       "      <th>Sex</th>\n",
       "      <th>Job</th>\n",
       "      <th>Housing</th>\n",
       "      <th>Saving accounts</th>\n",
       "      <th>Checking account</th>\n",
       "      <th>Credit amount</th>\n",
       "      <th>Duration</th>\n",
       "      <th>Purpose</th>\n",
       "      <th>Risk</th>\n",
       "    </tr>\n",
       "  </thead>\n",
       "  <tbody>\n",
       "    <tr>\n",
       "      <th>0</th>\n",
       "      <td>51</td>\n",
       "      <td>1</td>\n",
       "      <td>2</td>\n",
       "      <td>1</td>\n",
       "      <td>1</td>\n",
       "      <td>2</td>\n",
       "      <td>4771</td>\n",
       "      <td>11</td>\n",
       "      <td>5</td>\n",
       "      <td>0</td>\n",
       "    </tr>\n",
       "    <tr>\n",
       "      <th>1</th>\n",
       "      <td>61</td>\n",
       "      <td>1</td>\n",
       "      <td>1</td>\n",
       "      <td>2</td>\n",
       "      <td>2</td>\n",
       "      <td>2</td>\n",
       "      <td>2767</td>\n",
       "      <td>21</td>\n",
       "      <td>0</td>\n",
       "      <td>1</td>\n",
       "    </tr>\n",
       "    <tr>\n",
       "      <th>2</th>\n",
       "      <td>29</td>\n",
       "      <td>1</td>\n",
       "      <td>2</td>\n",
       "      <td>1</td>\n",
       "      <td>1</td>\n",
       "      <td>1</td>\n",
       "      <td>5179</td>\n",
       "      <td>36</td>\n",
       "      <td>4</td>\n",
       "      <td>1</td>\n",
       "    </tr>\n",
       "    <tr>\n",
       "      <th>3</th>\n",
       "      <td>44</td>\n",
       "      <td>1</td>\n",
       "      <td>2</td>\n",
       "      <td>0</td>\n",
       "      <td>3</td>\n",
       "      <td>0</td>\n",
       "      <td>10127</td>\n",
       "      <td>48</td>\n",
       "      <td>1</td>\n",
       "      <td>1</td>\n",
       "    </tr>\n",
       "  </tbody>\n",
       "</table>\n",
       "</div>"
      ],
      "text/plain": [
       "   Age  Sex  Job  Housing  Saving accounts  Checking account  Credit amount  \\\n",
       "0   51    1    2        1                1                 2           4771   \n",
       "1   61    1    1        2                2                 2           2767   \n",
       "2   29    1    2        1                1                 1           5179   \n",
       "3   44    1    2        0                3                 0          10127   \n",
       "\n",
       "   Duration  Purpose  Risk  \n",
       "0        11        5     0  \n",
       "1        21        0     1  \n",
       "2        36        4     1  \n",
       "3        48        1     1  "
      ]
     },
     "execution_count": 66,
     "metadata": {},
     "output_type": "execute_result"
    }
   ],
   "source": [
    "x_factual= pd.DataFrame(x_factual)\n",
    "x_factual.columns = x_labels\n",
    "x_factual['Risk'] = y_factual\n",
    "x_factual"
   ]
  },
  {
   "cell_type": "code",
   "execution_count": null,
   "metadata": {},
   "outputs": [
    {
     "name": "stdout",
     "output_type": "stream",
     "text": [
      "---- predictions have been made----\n"
     ]
    },
    {
     "data": {
      "text/html": [
       "<div>\n",
       "<style scoped>\n",
       "    .dataframe tbody tr th:only-of-type {\n",
       "        vertical-align: middle;\n",
       "    }\n",
       "\n",
       "    .dataframe tbody tr th {\n",
       "        vertical-align: top;\n",
       "    }\n",
       "\n",
       "    .dataframe thead th {\n",
       "        text-align: right;\n",
       "    }\n",
       "</style>\n",
       "<table border=\"1\" class=\"dataframe\">\n",
       "  <thead>\n",
       "    <tr style=\"text-align: right;\">\n",
       "      <th></th>\n",
       "      <th>Age</th>\n",
       "      <th>Sex</th>\n",
       "      <th>Job</th>\n",
       "      <th>Housing</th>\n",
       "      <th>Saving accounts</th>\n",
       "      <th>Checking account</th>\n",
       "      <th>Credit amount</th>\n",
       "      <th>Duration</th>\n",
       "      <th>Purpose</th>\n",
       "      <th>Risk</th>\n",
       "    </tr>\n",
       "  </thead>\n",
       "  <tbody>\n",
       "    <tr>\n",
       "      <th>0</th>\n",
       "      <td>51</td>\n",
       "      <td>1</td>\n",
       "      <td>2</td>\n",
       "      <td>1</td>\n",
       "      <td>1</td>\n",
       "      <td>2</td>\n",
       "      <td>4771</td>\n",
       "      <td>11</td>\n",
       "      <td>5</td>\n",
       "      <td>0</td>\n",
       "    </tr>\n",
       "    <tr>\n",
       "      <th>1</th>\n",
       "      <td>51</td>\n",
       "      <td>1</td>\n",
       "      <td>1</td>\n",
       "      <td>2</td>\n",
       "      <td>2</td>\n",
       "      <td>2</td>\n",
       "      <td>2767</td>\n",
       "      <td>8</td>\n",
       "      <td>0</td>\n",
       "      <td>0</td>\n",
       "    </tr>\n",
       "    <tr>\n",
       "      <th>2</th>\n",
       "      <td>29</td>\n",
       "      <td>1</td>\n",
       "      <td>2</td>\n",
       "      <td>1</td>\n",
       "      <td>1</td>\n",
       "      <td>1</td>\n",
       "      <td>6355</td>\n",
       "      <td>21</td>\n",
       "      <td>4</td>\n",
       "      <td>0</td>\n",
       "    </tr>\n",
       "    <tr>\n",
       "      <th>3</th>\n",
       "      <td>30</td>\n",
       "      <td>1</td>\n",
       "      <td>2</td>\n",
       "      <td>0</td>\n",
       "      <td>3</td>\n",
       "      <td>0</td>\n",
       "      <td>10127</td>\n",
       "      <td>48</td>\n",
       "      <td>1</td>\n",
       "      <td>0</td>\n",
       "    </tr>\n",
       "  </tbody>\n",
       "</table>\n",
       "</div>"
      ],
      "text/plain": [
       "   Age  Sex  Job  Housing  Saving accounts  Checking account  Credit amount  \\\n",
       "0   51    1    2        1                1                 2           4771   \n",
       "1   51    1    1        2                2                 2           2767   \n",
       "2   29    1    2        1                1                 1           6355   \n",
       "3   30    1    2        0                3                 0          10127   \n",
       "\n",
       "   Duration  Purpose  Risk  \n",
       "0        11        5     0  \n",
       "1         8        0     0  \n",
       "2        21        4     0  \n",
       "3        48        1     0  "
      ]
     },
     "execution_count": 67,
     "metadata": {},
     "output_type": "execute_result"
    }
   ],
   "source": [
    "x_action_constrained_ce = pd.DataFrame(x_action_constrained)\n",
    "y_action_constrained_ce = lgbmclassifier.predict(x_action_constrained_ce)\n",
    "x_action_constrained_ce.columns = x_labels\n",
    "x_action_constrained_ce['Risk'] = y_action_constrained_ce\n",
    "x_action_constrained_ce"
   ]
  }
 ],
 "metadata": {
  "kernelspec": {
   "display_name": "COLA",
   "language": "python",
   "name": "python3"
  },
  "language_info": {
   "codemirror_mode": {
    "name": "ipython",
    "version": 3
   },
   "file_extension": ".py",
   "mimetype": "text/x-python",
   "name": "python",
   "nbconvert_exporter": "python",
   "pygments_lexer": "ipython3",
   "version": "3.10.13"
  }
 },
 "nbformat": 4,
 "nbformat_minor": 2
}
